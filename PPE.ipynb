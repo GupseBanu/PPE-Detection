{
 "cells": [
  {
   "cell_type": "code",
   "execution_count": 1,
   "metadata": {},
   "outputs": [
    {
     "name": "stdout",
     "output_type": "stream",
     "text": [
      "Requirement already satisfied: ultralytics in c:\\users\\pc\\appdata\\local\\programs\\python\\python312\\lib\\site-packages (8.2.58)\n",
      "Requirement already satisfied: numpy<2.0.0,>=1.23.0 in c:\\users\\pc\\appdata\\local\\programs\\python\\python312\\lib\\site-packages (from ultralytics) (1.26.4)\n",
      "Requirement already satisfied: matplotlib>=3.3.0 in c:\\users\\pc\\appdata\\local\\programs\\python\\python312\\lib\\site-packages (from ultralytics) (3.8.3)\n",
      "Requirement already satisfied: opencv-python>=4.6.0 in c:\\users\\pc\\appdata\\local\\programs\\python\\python312\\lib\\site-packages (from ultralytics) (4.10.0.84)\n",
      "Requirement already satisfied: pillow>=7.1.2 in c:\\users\\pc\\appdata\\local\\programs\\python\\python312\\lib\\site-packages (from ultralytics) (10.2.0)\n",
      "Requirement already satisfied: pyyaml>=5.3.1 in c:\\users\\pc\\appdata\\local\\programs\\python\\python312\\lib\\site-packages (from ultralytics) (6.0.1)\n",
      "Requirement already satisfied: requests>=2.23.0 in c:\\users\\pc\\appdata\\local\\programs\\python\\python312\\lib\\site-packages (from ultralytics) (2.31.0)\n",
      "Requirement already satisfied: scipy>=1.4.1 in c:\\users\\pc\\appdata\\local\\programs\\python\\python312\\lib\\site-packages (from ultralytics) (1.12.0)\n",
      "Requirement already satisfied: torch>=1.8.0 in c:\\users\\pc\\appdata\\local\\programs\\python\\python312\\lib\\site-packages (from ultralytics) (2.3.1+cu121)\n",
      "Requirement already satisfied: torchvision>=0.9.0 in c:\\users\\pc\\appdata\\local\\programs\\python\\python312\\lib\\site-packages (from ultralytics) (0.18.1+cu121)\n",
      "Requirement already satisfied: tqdm>=4.64.0 in c:\\users\\pc\\appdata\\local\\programs\\python\\python312\\lib\\site-packages (from ultralytics) (4.66.2)\n",
      "Requirement already satisfied: psutil in c:\\users\\pc\\appdata\\local\\programs\\python\\python312\\lib\\site-packages (from ultralytics) (5.9.8)\n",
      "Requirement already satisfied: py-cpuinfo in c:\\users\\pc\\appdata\\local\\programs\\python\\python312\\lib\\site-packages (from ultralytics) (9.0.0)\n",
      "Requirement already satisfied: pandas>=1.1.4 in c:\\users\\pc\\appdata\\local\\programs\\python\\python312\\lib\\site-packages (from ultralytics) (2.2.1)\n",
      "Requirement already satisfied: seaborn>=0.11.0 in c:\\users\\pc\\appdata\\local\\programs\\python\\python312\\lib\\site-packages (from ultralytics) (0.13.2)\n",
      "Requirement already satisfied: ultralytics-thop>=2.0.0 in c:\\users\\pc\\appdata\\local\\programs\\python\\python312\\lib\\site-packages (from ultralytics) (2.0.0)\n",
      "Requirement already satisfied: contourpy>=1.0.1 in c:\\users\\pc\\appdata\\local\\programs\\python\\python312\\lib\\site-packages (from matplotlib>=3.3.0->ultralytics) (1.2.0)\n",
      "Requirement already satisfied: cycler>=0.10 in c:\\users\\pc\\appdata\\local\\programs\\python\\python312\\lib\\site-packages (from matplotlib>=3.3.0->ultralytics) (0.12.1)\n",
      "Requirement already satisfied: fonttools>=4.22.0 in c:\\users\\pc\\appdata\\local\\programs\\python\\python312\\lib\\site-packages (from matplotlib>=3.3.0->ultralytics) (4.49.0)\n",
      "Requirement already satisfied: kiwisolver>=1.3.1 in c:\\users\\pc\\appdata\\local\\programs\\python\\python312\\lib\\site-packages (from matplotlib>=3.3.0->ultralytics) (1.4.5)\n",
      "Requirement already satisfied: packaging>=20.0 in c:\\users\\pc\\appdata\\local\\programs\\python\\python312\\lib\\site-packages (from matplotlib>=3.3.0->ultralytics) (23.2)\n",
      "Requirement already satisfied: pyparsing>=2.3.1 in c:\\users\\pc\\appdata\\local\\programs\\python\\python312\\lib\\site-packages (from matplotlib>=3.3.0->ultralytics) (3.1.1)\n",
      "Requirement already satisfied: python-dateutil>=2.7 in c:\\users\\pc\\appdata\\local\\programs\\python\\python312\\lib\\site-packages (from matplotlib>=3.3.0->ultralytics) (2.9.0.post0)\n",
      "Requirement already satisfied: pytz>=2020.1 in c:\\users\\pc\\appdata\\local\\programs\\python\\python312\\lib\\site-packages (from pandas>=1.1.4->ultralytics) (2024.1)\n",
      "Requirement already satisfied: tzdata>=2022.7 in c:\\users\\pc\\appdata\\local\\programs\\python\\python312\\lib\\site-packages (from pandas>=1.1.4->ultralytics) (2024.1)\n",
      "Requirement already satisfied: charset-normalizer<4,>=2 in c:\\users\\pc\\appdata\\local\\programs\\python\\python312\\lib\\site-packages (from requests>=2.23.0->ultralytics) (3.3.2)\n",
      "Requirement already satisfied: idna<4,>=2.5 in c:\\users\\pc\\appdata\\local\\programs\\python\\python312\\lib\\site-packages (from requests>=2.23.0->ultralytics) (3.6)\n",
      "Requirement already satisfied: urllib3<3,>=1.21.1 in c:\\users\\pc\\appdata\\local\\programs\\python\\python312\\lib\\site-packages (from requests>=2.23.0->ultralytics) (2.2.1)\n",
      "Requirement already satisfied: certifi>=2017.4.17 in c:\\users\\pc\\appdata\\local\\programs\\python\\python312\\lib\\site-packages (from requests>=2.23.0->ultralytics) (2024.2.2)\n",
      "Requirement already satisfied: filelock in c:\\users\\pc\\appdata\\local\\programs\\python\\python312\\lib\\site-packages (from torch>=1.8.0->ultralytics) (3.13.1)\n",
      "Requirement already satisfied: typing-extensions>=4.8.0 in c:\\users\\pc\\appdata\\local\\programs\\python\\python312\\lib\\site-packages (from torch>=1.8.0->ultralytics) (4.10.0)\n",
      "Requirement already satisfied: sympy in c:\\users\\pc\\appdata\\local\\programs\\python\\python312\\lib\\site-packages (from torch>=1.8.0->ultralytics) (1.12)\n",
      "Requirement already satisfied: networkx in c:\\users\\pc\\appdata\\local\\programs\\python\\python312\\lib\\site-packages (from torch>=1.8.0->ultralytics) (3.2.1)\n",
      "Requirement already satisfied: jinja2 in c:\\users\\pc\\appdata\\local\\programs\\python\\python312\\lib\\site-packages (from torch>=1.8.0->ultralytics) (3.1.3)\n",
      "Requirement already satisfied: fsspec in c:\\users\\pc\\appdata\\local\\programs\\python\\python312\\lib\\site-packages (from torch>=1.8.0->ultralytics) (2024.2.0)\n",
      "Requirement already satisfied: mkl<=2021.4.0,>=2021.1.1 in c:\\users\\pc\\appdata\\local\\programs\\python\\python312\\lib\\site-packages (from torch>=1.8.0->ultralytics) (2021.4.0)\n",
      "Requirement already satisfied: colorama in c:\\users\\pc\\appdata\\local\\programs\\python\\python312\\lib\\site-packages (from tqdm>=4.64.0->ultralytics) (0.4.6)\n",
      "Requirement already satisfied: intel-openmp==2021.* in c:\\users\\pc\\appdata\\local\\programs\\python\\python312\\lib\\site-packages (from mkl<=2021.4.0,>=2021.1.1->torch>=1.8.0->ultralytics) (2021.4.0)\n",
      "Requirement already satisfied: tbb==2021.* in c:\\users\\pc\\appdata\\local\\programs\\python\\python312\\lib\\site-packages (from mkl<=2021.4.0,>=2021.1.1->torch>=1.8.0->ultralytics) (2021.11.0)\n",
      "Requirement already satisfied: six>=1.5 in c:\\users\\pc\\appdata\\local\\programs\\python\\python312\\lib\\site-packages (from python-dateutil>=2.7->matplotlib>=3.3.0->ultralytics) (1.16.0)\n",
      "Requirement already satisfied: MarkupSafe>=2.0 in c:\\users\\pc\\appdata\\local\\programs\\python\\python312\\lib\\site-packages (from jinja2->torch>=1.8.0->ultralytics) (2.1.5)\n",
      "Requirement already satisfied: mpmath>=0.19 in c:\\users\\pc\\appdata\\local\\programs\\python\\python312\\lib\\site-packages (from sympy->torch>=1.8.0->ultralytics) (1.3.0)\n"
     ]
    }
   ],
   "source": [
    "!pip install ultralytics\n",
    "import os, glob\n",
    "import tqdm\n",
    "import numpy as np\n",
    "import pandas as pd\n",
    "from PIL import Image\n",
    "import cv2\n",
    "import matplotlib.pyplot as plt"
   ]
  },
  {
   "cell_type": "code",
   "execution_count": 2,
   "metadata": {},
   "outputs": [],
   "source": [
    "data_path = '/kaggle/input/construction-site-safety-image-dataset-roboflow'\n",
    "\n",
    "train_path = os.path.join(data_path, 'train')\n",
    "valid_path = os.path.join(data_path, 'valid')\n",
    "test_path = os.path.join(data_path, 'test')"
   ]
  },
  {
   "cell_type": "code",
   "execution_count": 3,
   "metadata": {},
   "outputs": [
    {
     "name": "stdout",
     "output_type": "stream",
     "text": [
      "Data Path: /kaggle/input/construction-site-safety-image-dataset-roboflow\n",
      "Train Path: /kaggle/input/construction-site-safety-image-dataset-roboflow\\train\n",
      "Valid Path: /kaggle/input/construction-site-safety-image-dataset-roboflow\\valid\n",
      "Test Path: /kaggle/input/construction-site-safety-image-dataset-roboflow\\test\n",
      "Output Path: /kaggle/working\n"
     ]
    }
   ],
   "source": [
    "data_path = '/kaggle/input/construction-site-safety-image-dataset-roboflow'\n",
    "\n",
    "train_path = os.path.join(data_path, 'train')\n",
    "valid_path = os.path.join(data_path, 'valid')\n",
    "test_path = os.path.join(data_path, 'test')\n",
    "\n",
    "output_path = '/kaggle/working'\n",
    "\n",
    "folders = ['images', 'labels']\n",
    "print(\"Data Path: {}\\nTrain Path: {}\\nValid Path: {}\\nTest Path: {}\\nOutput Path: {}\".format(data_path, train_path, valid_path, test_path, output_path))"
   ]
  },
  {
   "cell_type": "code",
   "execution_count": 4,
   "metadata": {},
   "outputs": [
    {
     "name": "stdout",
     "output_type": "stream",
     "text": [
      "{0: 'Hardhat', 1: 'Mask', 2: 'NO-Hardhat', 3: 'NO-Mask', 4: 'NO-Safety Vest', 5: 'Person', 6: 'Safety Cone', 7: 'Safety Vest', 8: 'machinery', 9: 'vehicle'}\n"
     ]
    }
   ],
   "source": [
    "train_dict = dict(train=0, valid=1, test=2)\n",
    "path_dict = [train_path, valid_path, test_path]\n",
    "class_names = ['Hardhat', 'Mask', 'NO-Hardhat', 'NO-Mask', 'NO-Safety Vest', 'Person', 'Safety Cone', 'Safety Vest', 'machinery', 'vehicle']\n",
    "class_dict = dict(zip(range(len(class_names)), class_names))\n",
    "print(class_dict)"
   ]
  },
  {
   "cell_type": "code",
   "execution_count": 5,
   "metadata": {},
   "outputs": [
    {
     "name": "stdout",
     "output_type": "stream",
     "text": [
      "model.model.0.conv.weight False\n",
      "model.model.0.bn.weight False\n",
      "model.model.0.bn.bias False\n",
      "model.model.1.conv.weight False\n",
      "model.model.1.bn.weight False\n",
      "model.model.1.bn.bias False\n",
      "model.model.2.cv1.conv.weight False\n",
      "model.model.2.cv1.bn.weight False\n",
      "model.model.2.cv1.bn.bias False\n",
      "model.model.2.cv2.conv.weight False\n",
      "model.model.2.cv2.bn.weight False\n",
      "model.model.2.cv2.bn.bias False\n",
      "model.model.2.m.0.cv1.conv.weight False\n",
      "model.model.2.m.0.cv1.bn.weight False\n",
      "model.model.2.m.0.cv1.bn.bias False\n",
      "model.model.2.m.0.cv2.conv.weight False\n",
      "model.model.2.m.0.cv2.bn.weight False\n",
      "model.model.2.m.0.cv2.bn.bias False\n",
      "model.model.2.m.1.cv1.conv.weight False\n",
      "model.model.2.m.1.cv1.bn.weight False\n",
      "model.model.2.m.1.cv1.bn.bias False\n",
      "model.model.2.m.1.cv2.conv.weight False\n",
      "model.model.2.m.1.cv2.bn.weight False\n",
      "model.model.2.m.1.cv2.bn.bias False\n",
      "model.model.3.conv.weight False\n",
      "model.model.3.bn.weight False\n",
      "model.model.3.bn.bias False\n",
      "model.model.4.cv1.conv.weight False\n",
      "model.model.4.cv1.bn.weight False\n",
      "model.model.4.cv1.bn.bias False\n",
      "model.model.4.cv2.conv.weight False\n",
      "model.model.4.cv2.bn.weight False\n",
      "model.model.4.cv2.bn.bias False\n",
      "model.model.4.m.0.cv1.conv.weight False\n",
      "model.model.4.m.0.cv1.bn.weight False\n",
      "model.model.4.m.0.cv1.bn.bias False\n",
      "model.model.4.m.0.cv2.conv.weight False\n",
      "model.model.4.m.0.cv2.bn.weight False\n",
      "model.model.4.m.0.cv2.bn.bias False\n",
      "model.model.4.m.1.cv1.conv.weight False\n",
      "model.model.4.m.1.cv1.bn.weight False\n",
      "model.model.4.m.1.cv1.bn.bias False\n",
      "model.model.4.m.1.cv2.conv.weight False\n",
      "model.model.4.m.1.cv2.bn.weight False\n",
      "model.model.4.m.1.cv2.bn.bias False\n",
      "model.model.4.m.2.cv1.conv.weight False\n",
      "model.model.4.m.2.cv1.bn.weight False\n",
      "model.model.4.m.2.cv1.bn.bias False\n",
      "model.model.4.m.2.cv2.conv.weight False\n",
      "model.model.4.m.2.cv2.bn.weight False\n",
      "model.model.4.m.2.cv2.bn.bias False\n",
      "model.model.4.m.3.cv1.conv.weight False\n",
      "model.model.4.m.3.cv1.bn.weight False\n",
      "model.model.4.m.3.cv1.bn.bias False\n",
      "model.model.4.m.3.cv2.conv.weight False\n",
      "model.model.4.m.3.cv2.bn.weight False\n",
      "model.model.4.m.3.cv2.bn.bias False\n",
      "model.model.5.conv.weight False\n",
      "model.model.5.bn.weight False\n",
      "model.model.5.bn.bias False\n",
      "model.model.6.cv1.conv.weight False\n",
      "model.model.6.cv1.bn.weight False\n",
      "model.model.6.cv1.bn.bias False\n",
      "model.model.6.cv2.conv.weight False\n",
      "model.model.6.cv2.bn.weight False\n",
      "model.model.6.cv2.bn.bias False\n",
      "model.model.6.m.0.cv1.conv.weight False\n",
      "model.model.6.m.0.cv1.bn.weight False\n",
      "model.model.6.m.0.cv1.bn.bias False\n",
      "model.model.6.m.0.cv2.conv.weight False\n",
      "model.model.6.m.0.cv2.bn.weight False\n",
      "model.model.6.m.0.cv2.bn.bias False\n",
      "model.model.6.m.1.cv1.conv.weight False\n",
      "model.model.6.m.1.cv1.bn.weight False\n",
      "model.model.6.m.1.cv1.bn.bias False\n",
      "model.model.6.m.1.cv2.conv.weight False\n",
      "model.model.6.m.1.cv2.bn.weight False\n",
      "model.model.6.m.1.cv2.bn.bias False\n",
      "model.model.6.m.2.cv1.conv.weight False\n",
      "model.model.6.m.2.cv1.bn.weight False\n",
      "model.model.6.m.2.cv1.bn.bias False\n",
      "model.model.6.m.2.cv2.conv.weight False\n",
      "model.model.6.m.2.cv2.bn.weight False\n",
      "model.model.6.m.2.cv2.bn.bias False\n",
      "model.model.6.m.3.cv1.conv.weight False\n",
      "model.model.6.m.3.cv1.bn.weight False\n",
      "model.model.6.m.3.cv1.bn.bias False\n",
      "model.model.6.m.3.cv2.conv.weight False\n",
      "model.model.6.m.3.cv2.bn.weight False\n",
      "model.model.6.m.3.cv2.bn.bias False\n",
      "model.model.7.conv.weight False\n",
      "model.model.7.bn.weight False\n",
      "model.model.7.bn.bias False\n",
      "model.model.8.cv1.conv.weight False\n",
      "model.model.8.cv1.bn.weight False\n",
      "model.model.8.cv1.bn.bias False\n",
      "model.model.8.cv2.conv.weight False\n",
      "model.model.8.cv2.bn.weight False\n",
      "model.model.8.cv2.bn.bias False\n",
      "model.model.8.m.0.cv1.conv.weight False\n",
      "model.model.8.m.0.cv1.bn.weight False\n",
      "model.model.8.m.0.cv1.bn.bias False\n",
      "model.model.8.m.0.cv2.conv.weight False\n",
      "model.model.8.m.0.cv2.bn.weight False\n",
      "model.model.8.m.0.cv2.bn.bias False\n",
      "model.model.8.m.1.cv1.conv.weight False\n",
      "model.model.8.m.1.cv1.bn.weight False\n",
      "model.model.8.m.1.cv1.bn.bias False\n",
      "model.model.8.m.1.cv2.conv.weight False\n",
      "model.model.8.m.1.cv2.bn.weight False\n",
      "model.model.8.m.1.cv2.bn.bias False\n",
      "model.model.9.cv1.conv.weight False\n",
      "model.model.9.cv1.bn.weight False\n",
      "model.model.9.cv1.bn.bias False\n",
      "model.model.9.cv2.conv.weight False\n",
      "model.model.9.cv2.bn.weight False\n",
      "model.model.9.cv2.bn.bias False\n",
      "model.model.12.cv1.conv.weight False\n",
      "model.model.12.cv1.bn.weight False\n",
      "model.model.12.cv1.bn.bias False\n",
      "model.model.12.cv2.conv.weight False\n",
      "model.model.12.cv2.bn.weight False\n",
      "model.model.12.cv2.bn.bias False\n",
      "model.model.12.m.0.cv1.conv.weight False\n",
      "model.model.12.m.0.cv1.bn.weight False\n",
      "model.model.12.m.0.cv1.bn.bias False\n",
      "model.model.12.m.0.cv2.conv.weight False\n",
      "model.model.12.m.0.cv2.bn.weight False\n",
      "model.model.12.m.0.cv2.bn.bias False\n",
      "model.model.12.m.1.cv1.conv.weight False\n",
      "model.model.12.m.1.cv1.bn.weight False\n",
      "model.model.12.m.1.cv1.bn.bias False\n",
      "model.model.12.m.1.cv2.conv.weight False\n",
      "model.model.12.m.1.cv2.bn.weight False\n",
      "model.model.12.m.1.cv2.bn.bias False\n",
      "model.model.15.cv1.conv.weight False\n",
      "model.model.15.cv1.bn.weight False\n",
      "model.model.15.cv1.bn.bias False\n",
      "model.model.15.cv2.conv.weight False\n",
      "model.model.15.cv2.bn.weight False\n",
      "model.model.15.cv2.bn.bias False\n",
      "model.model.15.m.0.cv1.conv.weight False\n",
      "model.model.15.m.0.cv1.bn.weight False\n",
      "model.model.15.m.0.cv1.bn.bias False\n",
      "model.model.15.m.0.cv2.conv.weight False\n",
      "model.model.15.m.0.cv2.bn.weight False\n",
      "model.model.15.m.0.cv2.bn.bias False\n",
      "model.model.15.m.1.cv1.conv.weight False\n",
      "model.model.15.m.1.cv1.bn.weight False\n",
      "model.model.15.m.1.cv1.bn.bias False\n",
      "model.model.15.m.1.cv2.conv.weight False\n",
      "model.model.15.m.1.cv2.bn.weight False\n",
      "model.model.15.m.1.cv2.bn.bias False\n",
      "model.model.16.conv.weight False\n",
      "model.model.16.bn.weight False\n",
      "model.model.16.bn.bias False\n",
      "model.model.18.cv1.conv.weight False\n",
      "model.model.18.cv1.bn.weight False\n",
      "model.model.18.cv1.bn.bias False\n",
      "model.model.18.cv2.conv.weight False\n",
      "model.model.18.cv2.bn.weight False\n",
      "model.model.18.cv2.bn.bias False\n",
      "model.model.18.m.0.cv1.conv.weight False\n",
      "model.model.18.m.0.cv1.bn.weight False\n",
      "model.model.18.m.0.cv1.bn.bias False\n",
      "model.model.18.m.0.cv2.conv.weight False\n",
      "model.model.18.m.0.cv2.bn.weight False\n",
      "model.model.18.m.0.cv2.bn.bias False\n",
      "model.model.18.m.1.cv1.conv.weight False\n",
      "model.model.18.m.1.cv1.bn.weight False\n",
      "model.model.18.m.1.cv1.bn.bias False\n",
      "model.model.18.m.1.cv2.conv.weight False\n",
      "model.model.18.m.1.cv2.bn.weight False\n",
      "model.model.18.m.1.cv2.bn.bias False\n",
      "model.model.19.conv.weight False\n",
      "model.model.19.bn.weight False\n",
      "model.model.19.bn.bias False\n",
      "model.model.21.cv1.conv.weight False\n",
      "model.model.21.cv1.bn.weight False\n",
      "model.model.21.cv1.bn.bias False\n",
      "model.model.21.cv2.conv.weight False\n",
      "model.model.21.cv2.bn.weight False\n",
      "model.model.21.cv2.bn.bias False\n",
      "model.model.21.m.0.cv1.conv.weight False\n",
      "model.model.21.m.0.cv1.bn.weight False\n",
      "model.model.21.m.0.cv1.bn.bias False\n",
      "model.model.21.m.0.cv2.conv.weight False\n",
      "model.model.21.m.0.cv2.bn.weight False\n",
      "model.model.21.m.0.cv2.bn.bias False\n",
      "model.model.21.m.1.cv1.conv.weight False\n",
      "model.model.21.m.1.cv1.bn.weight False\n",
      "model.model.21.m.1.cv1.bn.bias False\n",
      "model.model.21.m.1.cv2.conv.weight False\n",
      "model.model.21.m.1.cv2.bn.weight False\n",
      "model.model.21.m.1.cv2.bn.bias False\n",
      "model.model.22.cv2.0.0.conv.weight True\n",
      "model.model.22.cv2.0.0.bn.weight True\n",
      "model.model.22.cv2.0.0.bn.bias True\n",
      "model.model.22.cv2.0.1.conv.weight True\n",
      "model.model.22.cv2.0.1.bn.weight True\n",
      "model.model.22.cv2.0.1.bn.bias True\n",
      "model.model.22.cv2.0.2.weight True\n",
      "model.model.22.cv2.0.2.bias True\n",
      "model.model.22.cv2.1.0.conv.weight True\n",
      "model.model.22.cv2.1.0.bn.weight True\n",
      "model.model.22.cv2.1.0.bn.bias True\n",
      "model.model.22.cv2.1.1.conv.weight True\n",
      "model.model.22.cv2.1.1.bn.weight True\n",
      "model.model.22.cv2.1.1.bn.bias True\n",
      "model.model.22.cv2.1.2.weight True\n",
      "model.model.22.cv2.1.2.bias True\n",
      "model.model.22.cv2.2.0.conv.weight True\n",
      "model.model.22.cv2.2.0.bn.weight True\n",
      "model.model.22.cv2.2.0.bn.bias True\n",
      "model.model.22.cv2.2.1.conv.weight True\n",
      "model.model.22.cv2.2.1.bn.weight True\n",
      "model.model.22.cv2.2.1.bn.bias True\n",
      "model.model.22.cv2.2.2.weight True\n",
      "model.model.22.cv2.2.2.bias True\n",
      "model.model.22.cv3.0.0.conv.weight True\n",
      "model.model.22.cv3.0.0.bn.weight True\n",
      "model.model.22.cv3.0.0.bn.bias True\n",
      "model.model.22.cv3.0.1.conv.weight True\n",
      "model.model.22.cv3.0.1.bn.weight True\n",
      "model.model.22.cv3.0.1.bn.bias True\n",
      "model.model.22.cv3.0.2.weight True\n",
      "model.model.22.cv3.0.2.bias True\n",
      "model.model.22.cv3.1.0.conv.weight True\n",
      "model.model.22.cv3.1.0.bn.weight True\n",
      "model.model.22.cv3.1.0.bn.bias True\n",
      "model.model.22.cv3.1.1.conv.weight True\n",
      "model.model.22.cv3.1.1.bn.weight True\n",
      "model.model.22.cv3.1.1.bn.bias True\n",
      "model.model.22.cv3.1.2.weight True\n",
      "model.model.22.cv3.1.2.bias True\n",
      "model.model.22.cv3.2.0.conv.weight True\n",
      "model.model.22.cv3.2.0.bn.weight True\n",
      "model.model.22.cv3.2.0.bn.bias True\n",
      "model.model.22.cv3.2.1.conv.weight True\n",
      "model.model.22.cv3.2.1.bn.weight True\n",
      "model.model.22.cv3.2.1.bn.bias True\n",
      "model.model.22.cv3.2.2.weight True\n",
      "model.model.22.cv3.2.2.bias True\n",
      "model.model.22.dfl.conv.weight True\n"
     ]
    }
   ],
   "source": [
    "from ultralytics import YOLO\n",
    "\n",
    "model = YOLO('yolov8m.pt') \n",
    "\n",
    "freeze = 22\n",
    "freeze = [f'model.{x}.' for x in range(freeze)]  \n",
    "for k, v in model.named_parameters(): \n",
    "    v.requires_grad = True \n",
    "    if any(x in k for x in freeze): \n",
    "      v.requires_grad = False\n",
    "    print(k, v.requires_grad)"
   ]
  },
  {
   "cell_type": "code",
   "execution_count": 6,
   "metadata": {},
   "outputs": [],
   "source": [
    "import yaml\n",
    "\n",
    "yolo_yaml = {'path': '/kaggle/input/construction-site-safety-image-dataset-roboflow',\n",
    "             'train': '/kaggle/input/construction-site-safety-image-dataset-roboflow/train',  \n",
    "             'val': '/kaggle/input/construction-site-safety-image-dataset-roboflow/valid',\n",
    "             'test': '/kaggle/input/construction-site-safety-image-dataset-roboflow/test', \n",
    "\n",
    "             \n",
    "            'names' : {\n",
    "              0: 'Hardhat',\n",
    "              1: 'Mask',\n",
    "              2: 'NO-Hardhat',\n",
    "              3: 'NO-Mask',\n",
    "              4: 'NO-Safety Vest',\n",
    "              5: 'Person',\n",
    "              6: 'Safety Cone',\n",
    "              7: 'Safety Vest',\n",
    "              8: 'machinery',\n",
    "              9: 'vehicle'}\n",
    "            }\n",
    "\n",
    "\n",
    "           \n",
    "os.makedirs('/kaggle/working', exist_ok=True)  \n",
    "\n",
    "with open(os.path.join('/kaggle/working/', 'data.yaml'), 'w+') as file:\n",
    "    yaml.dump(yolo_yaml, file)"
   ]
  },
  {
   "cell_type": "code",
   "execution_count": 7,
   "metadata": {},
   "outputs": [
    {
     "name": "stdout",
     "output_type": "stream",
     "text": [
      "New https://pypi.org/project/ultralytics/8.2.60 available  Update with 'pip install -U ultralytics'\n",
      "Ultralytics YOLOv8.2.58  Python-3.12.2 torch-2.3.1+cu121 CUDA:0 (NVIDIA GeForce RTX 4060 Laptop GPU, 8188MiB)\n",
      "\u001b[34m\u001b[1mengine\\trainer: \u001b[0mtask=detect, mode=train, model=yolov8m.pt, data=/kaggle/working/data.yaml, epochs=50, time=None, patience=100, batch=32, imgsz=640, save=True, save_period=-1, cache=False, device=None, workers=8, project=None, name=Initial training with yolov832, exist_ok=False, pretrained=True, optimizer=auto, verbose=True, seed=0, deterministic=True, single_cls=False, rect=False, cos_lr=False, close_mosaic=10, resume=False, amp=True, fraction=1.0, profile=False, freeze=None, multi_scale=False, overlap_mask=True, mask_ratio=4, dropout=0.0, val=True, split=val, save_json=False, save_hybrid=False, conf=None, iou=0.7, max_det=300, half=False, dnn=False, plots=True, source=None, vid_stride=1, stream_buffer=False, visualize=False, augment=False, agnostic_nms=False, classes=None, retina_masks=False, embed=None, show=False, save_frames=False, save_txt=False, save_conf=False, save_crop=False, show_labels=True, show_conf=True, show_boxes=True, line_width=None, format=torchscript, keras=False, optimize=False, int8=False, dynamic=False, simplify=False, opset=None, workspace=4, nms=False, lr0=0.01, lrf=0.01, momentum=0.937, weight_decay=0.0005, warmup_epochs=3.0, warmup_momentum=0.8, warmup_bias_lr=0.1, box=7.5, cls=0.5, dfl=1.5, pose=12.0, kobj=1.0, label_smoothing=0.0, nbs=64, hsv_h=0.015, hsv_s=0.7, hsv_v=0.4, degrees=0.0, translate=0.1, scale=0.5, shear=0.0, perspective=0.0, flipud=0.0, fliplr=0.5, bgr=0.0, mosaic=1.0, mixup=0.0, copy_paste=0.0, auto_augment=randaugment, erasing=0.4, crop_fraction=1.0, cfg=None, tracker=botsort.yaml, save_dir=runs\\detect\\Initial training with yolov832\n",
      "Overriding model.yaml nc=80 with nc=10\n",
      "\n",
      "                   from  n    params  module                                       arguments                     \n",
      "  0                  -1  1      1392  ultralytics.nn.modules.conv.Conv             [3, 48, 3, 2]                 \n",
      "  1                  -1  1     41664  ultralytics.nn.modules.conv.Conv             [48, 96, 3, 2]                \n",
      "  2                  -1  2    111360  ultralytics.nn.modules.block.C2f             [96, 96, 2, True]             \n",
      "  3                  -1  1    166272  ultralytics.nn.modules.conv.Conv             [96, 192, 3, 2]               \n",
      "  4                  -1  4    813312  ultralytics.nn.modules.block.C2f             [192, 192, 4, True]           \n",
      "  5                  -1  1    664320  ultralytics.nn.modules.conv.Conv             [192, 384, 3, 2]              \n",
      "  6                  -1  4   3248640  ultralytics.nn.modules.block.C2f             [384, 384, 4, True]           \n",
      "  7                  -1  1   1991808  ultralytics.nn.modules.conv.Conv             [384, 576, 3, 2]              \n",
      "  8                  -1  2   3985920  ultralytics.nn.modules.block.C2f             [576, 576, 2, True]           \n",
      "  9                  -1  1    831168  ultralytics.nn.modules.block.SPPF            [576, 576, 5]                 \n",
      " 10                  -1  1         0  torch.nn.modules.upsampling.Upsample         [None, 2, 'nearest']          \n",
      " 11             [-1, 6]  1         0  ultralytics.nn.modules.conv.Concat           [1]                           \n",
      " 12                  -1  2   1993728  ultralytics.nn.modules.block.C2f             [960, 384, 2]                 \n",
      " 13                  -1  1         0  torch.nn.modules.upsampling.Upsample         [None, 2, 'nearest']          \n",
      " 14             [-1, 4]  1         0  ultralytics.nn.modules.conv.Concat           [1]                           \n",
      " 15                  -1  2    517632  ultralytics.nn.modules.block.C2f             [576, 192, 2]                 \n",
      " 16                  -1  1    332160  ultralytics.nn.modules.conv.Conv             [192, 192, 3, 2]              \n",
      " 17            [-1, 12]  1         0  ultralytics.nn.modules.conv.Concat           [1]                           \n",
      " 18                  -1  2   1846272  ultralytics.nn.modules.block.C2f             [576, 384, 2]                 \n",
      " 19                  -1  1   1327872  ultralytics.nn.modules.conv.Conv             [384, 384, 3, 2]              \n",
      " 20             [-1, 9]  1         0  ultralytics.nn.modules.conv.Concat           [1]                           \n",
      " 21                  -1  2   4207104  ultralytics.nn.modules.block.C2f             [960, 576, 2]                 \n",
      " 22        [15, 18, 21]  1   3781486  ultralytics.nn.modules.head.Detect           [10, [192, 384, 576]]         \n",
      "Model summary: 295 layers, 25,862,110 parameters, 25,862,094 gradients, 79.1 GFLOPs\n",
      "\n",
      "Transferred 469/475 items from pretrained weights\n",
      "\u001b[34m\u001b[1mTensorBoard: \u001b[0mStart with 'tensorboard --logdir runs\\detect\\Initial training with yolov832', view at http://localhost:6006/\n",
      "Freezing layer 'model.22.dfl.conv.weight'\n",
      "\u001b[34m\u001b[1mAMP: \u001b[0mrunning Automatic Mixed Precision (AMP) checks with YOLOv8n...\n",
      "\u001b[34m\u001b[1mAMP: \u001b[0mchecks passed \n"
     ]
    },
    {
     "name": "stderr",
     "output_type": "stream",
     "text": [
      "\u001b[34m\u001b[1mtrain: \u001b[0mScanning C:\\kaggle\\input\\construction-site-safety-image-dataset-roboflow\\train\\labels.cache... 2605 images, 6 backgrounds, 0 corrupt: 100%|██████████| 2605/2605 [00:00<?, ?it/s]"
     ]
    },
    {
     "name": "stdout",
     "output_type": "stream",
     "text": [
      "\u001b[34m\u001b[1mtrain: \u001b[0mWARNING  C:\\kaggle\\input\\construction-site-safety-image-dataset-roboflow\\train\\images\\004720_jpg.rf.afc486560a4004c7cfd67910af31a29c.jpg: 1 duplicate labels removed\n",
      "\u001b[34m\u001b[1mtrain: \u001b[0mWARNING  C:\\kaggle\\input\\construction-site-safety-image-dataset-roboflow\\train\\images\\construction-813-_jpg.rf.b085952261fd98f2e76b8065de149b5f.jpg: 1 duplicate labels removed\n"
     ]
    },
    {
     "name": "stderr",
     "output_type": "stream",
     "text": [
      "\n",
      "\u001b[34m\u001b[1mval: \u001b[0mScanning C:\\kaggle\\input\\construction-site-safety-image-dataset-roboflow\\valid\\labels.cache... 114 images, 10 backgrounds, 0 corrupt: 100%|██████████| 114/114 [00:00<?, ?it/s]\n"
     ]
    },
    {
     "name": "stdout",
     "output_type": "stream",
     "text": [
      "Plotting labels to runs\\detect\\Initial training with yolov832\\labels.jpg... \n",
      "\u001b[34m\u001b[1moptimizer:\u001b[0m 'optimizer=auto' found, ignoring 'lr0=0.01' and 'momentum=0.937' and determining best 'optimizer', 'lr0' and 'momentum' automatically... \n",
      "\u001b[34m\u001b[1moptimizer:\u001b[0m AdamW(lr=0.000714, momentum=0.9) with parameter groups 77 weight(decay=0.0), 84 weight(decay=0.0005), 83 bias(decay=0.0)\n",
      "\u001b[34m\u001b[1mTensorBoard: \u001b[0mmodel graph visualization added \n",
      "Image sizes 640 train, 640 val\n",
      "Using 8 dataloader workers\n",
      "Logging results to \u001b[1mruns\\detect\\Initial training with yolov832\u001b[0m\n",
      "Starting training for 50 epochs...\n",
      "\n",
      "      Epoch    GPU_mem   box_loss   cls_loss   dfl_loss  Instances       Size\n"
     ]
    },
    {
     "name": "stderr",
     "output_type": "stream",
     "text": [
      "       1/50      13.9G       1.27      1.952      1.436        311        640: 100%|██████████| 82/82 [14:37<00:00, 10.70s/it]\n",
      "                 Class     Images  Instances      Box(P          R      mAP50  mAP50-95): 100%|██████████| 2/2 [00:14<00:00,  7.40s/it]"
     ]
    },
    {
     "name": "stdout",
     "output_type": "stream",
     "text": [
      "                   all        114        697      0.582      0.421      0.449      0.223\n"
     ]
    },
    {
     "name": "stderr",
     "output_type": "stream",
     "text": [
      "\n"
     ]
    },
    {
     "name": "stdout",
     "output_type": "stream",
     "text": [
      "\n",
      "      Epoch    GPU_mem   box_loss   cls_loss   dfl_loss  Instances       Size\n"
     ]
    },
    {
     "name": "stderr",
     "output_type": "stream",
     "text": [
      "       2/50      13.9G      1.197      1.359      1.368        259        640: 100%|██████████| 82/82 [13:32<00:00,  9.91s/it]\n",
      "                 Class     Images  Instances      Box(P          R      mAP50  mAP50-95): 100%|██████████| 2/2 [00:22<00:00, 11.43s/it]"
     ]
    },
    {
     "name": "stdout",
     "output_type": "stream",
     "text": [
      "                   all        114        697      0.619      0.527      0.534      0.256\n"
     ]
    },
    {
     "name": "stderr",
     "output_type": "stream",
     "text": [
      "\n"
     ]
    },
    {
     "name": "stdout",
     "output_type": "stream",
     "text": [
      "\n",
      "      Epoch    GPU_mem   box_loss   cls_loss   dfl_loss  Instances       Size\n"
     ]
    },
    {
     "name": "stderr",
     "output_type": "stream",
     "text": [
      "       3/50      13.7G      1.166      1.302      1.358        258        640: 100%|██████████| 82/82 [13:07<00:00,  9.60s/it]\n",
      "                 Class     Images  Instances      Box(P          R      mAP50  mAP50-95): 100%|██████████| 2/2 [00:19<00:00,  9.89s/it]"
     ]
    },
    {
     "name": "stdout",
     "output_type": "stream",
     "text": [
      "                   all        114        697      0.628       0.48      0.502      0.236\n"
     ]
    },
    {
     "name": "stderr",
     "output_type": "stream",
     "text": [
      "\n"
     ]
    },
    {
     "name": "stdout",
     "output_type": "stream",
     "text": [
      "\n",
      "      Epoch    GPU_mem   box_loss   cls_loss   dfl_loss  Instances       Size\n"
     ]
    },
    {
     "name": "stderr",
     "output_type": "stream",
     "text": [
      "       4/50      14.9G      1.161      1.272      1.354        260        640: 100%|██████████| 82/82 [16:47<00:00, 12.29s/it]\n",
      "                 Class     Images  Instances      Box(P          R      mAP50  mAP50-95): 100%|██████████| 2/2 [00:23<00:00, 11.77s/it]"
     ]
    },
    {
     "name": "stdout",
     "output_type": "stream",
     "text": [
      "                   all        114        697       0.68      0.484       0.54      0.245\n"
     ]
    },
    {
     "name": "stderr",
     "output_type": "stream",
     "text": [
      "\n"
     ]
    },
    {
     "name": "stdout",
     "output_type": "stream",
     "text": [
      "\n",
      "      Epoch    GPU_mem   box_loss   cls_loss   dfl_loss  Instances       Size\n"
     ]
    },
    {
     "name": "stderr",
     "output_type": "stream",
     "text": [
      "       5/50      13.8G      1.138      1.214      1.338        262        640: 100%|██████████| 82/82 [13:48<00:00, 10.10s/it]\n",
      "                 Class     Images  Instances      Box(P          R      mAP50  mAP50-95): 100%|██████████| 2/2 [00:12<00:00,  6.49s/it]"
     ]
    },
    {
     "name": "stdout",
     "output_type": "stream",
     "text": [
      "                   all        114        697      0.661      0.516      0.555      0.264\n"
     ]
    },
    {
     "name": "stderr",
     "output_type": "stream",
     "text": [
      "\n"
     ]
    },
    {
     "name": "stdout",
     "output_type": "stream",
     "text": [
      "\n",
      "      Epoch    GPU_mem   box_loss   cls_loss   dfl_loss  Instances       Size\n"
     ]
    },
    {
     "name": "stderr",
     "output_type": "stream",
     "text": [
      "       6/50      14.4G      1.101      1.137      1.315        222        640: 100%|██████████| 82/82 [14:08<00:00, 10.35s/it]\n",
      "                 Class     Images  Instances      Box(P          R      mAP50  mAP50-95): 100%|██████████| 2/2 [00:16<00:00,  8.48s/it]"
     ]
    },
    {
     "name": "stdout",
     "output_type": "stream",
     "text": [
      "                   all        114        697      0.734      0.565      0.623      0.314\n"
     ]
    },
    {
     "name": "stderr",
     "output_type": "stream",
     "text": [
      "\n"
     ]
    },
    {
     "name": "stdout",
     "output_type": "stream",
     "text": [
      "\n",
      "      Epoch    GPU_mem   box_loss   cls_loss   dfl_loss  Instances       Size\n"
     ]
    },
    {
     "name": "stderr",
     "output_type": "stream",
     "text": [
      "       7/50      13.8G      1.072      1.079      1.295        199        640: 100%|██████████| 82/82 [13:48<00:00, 10.11s/it]\n",
      "                 Class     Images  Instances      Box(P          R      mAP50  mAP50-95): 100%|██████████| 2/2 [00:18<00:00,  9.50s/it]"
     ]
    },
    {
     "name": "stdout",
     "output_type": "stream",
     "text": [
      "                   all        114        697       0.72      0.553      0.611        0.3\n"
     ]
    },
    {
     "name": "stderr",
     "output_type": "stream",
     "text": [
      "\n"
     ]
    },
    {
     "name": "stdout",
     "output_type": "stream",
     "text": [
      "\n",
      "      Epoch    GPU_mem   box_loss   cls_loss   dfl_loss  Instances       Size\n"
     ]
    },
    {
     "name": "stderr",
     "output_type": "stream",
     "text": [
      "       8/50      14.3G      1.051      1.017      1.273        240        640: 100%|██████████| 82/82 [15:21<00:00, 11.23s/it]\n",
      "                 Class     Images  Instances      Box(P          R      mAP50  mAP50-95): 100%|██████████| 2/2 [00:23<00:00, 11.90s/it]"
     ]
    },
    {
     "name": "stdout",
     "output_type": "stream",
     "text": [
      "                   all        114        697      0.733      0.611      0.651      0.345\n"
     ]
    },
    {
     "name": "stderr",
     "output_type": "stream",
     "text": [
      "\n"
     ]
    },
    {
     "name": "stdout",
     "output_type": "stream",
     "text": [
      "\n",
      "      Epoch    GPU_mem   box_loss   cls_loss   dfl_loss  Instances       Size\n"
     ]
    },
    {
     "name": "stderr",
     "output_type": "stream",
     "text": [
      "       9/50      15.1G      1.029     0.9781      1.256        257        640: 100%|██████████| 82/82 [13:25<00:00,  9.83s/it]\n",
      "                 Class     Images  Instances      Box(P          R      mAP50  mAP50-95): 100%|██████████| 2/2 [00:19<00:00,  9.80s/it]"
     ]
    },
    {
     "name": "stdout",
     "output_type": "stream",
     "text": [
      "                   all        114        697       0.78      0.609      0.655      0.343\n"
     ]
    },
    {
     "name": "stderr",
     "output_type": "stream",
     "text": [
      "\n"
     ]
    },
    {
     "name": "stdout",
     "output_type": "stream",
     "text": [
      "\n",
      "      Epoch    GPU_mem   box_loss   cls_loss   dfl_loss  Instances       Size\n"
     ]
    },
    {
     "name": "stderr",
     "output_type": "stream",
     "text": [
      "      10/50      13.9G      1.005     0.9334      1.241        311        640: 100%|██████████| 82/82 [15:15<00:00, 11.17s/it]\n",
      "                 Class     Images  Instances      Box(P          R      mAP50  mAP50-95): 100%|██████████| 2/2 [00:17<00:00,  8.91s/it]"
     ]
    },
    {
     "name": "stdout",
     "output_type": "stream",
     "text": [
      "                   all        114        697      0.819      0.645      0.721      0.386\n"
     ]
    },
    {
     "name": "stderr",
     "output_type": "stream",
     "text": [
      "\n"
     ]
    },
    {
     "name": "stdout",
     "output_type": "stream",
     "text": [
      "\n",
      "      Epoch    GPU_mem   box_loss   cls_loss   dfl_loss  Instances       Size\n"
     ]
    },
    {
     "name": "stderr",
     "output_type": "stream",
     "text": [
      "      11/50      14.3G      0.986     0.9019      1.228        240        640: 100%|██████████| 82/82 [13:39<00:00, 10.00s/it]\n",
      "                 Class     Images  Instances      Box(P          R      mAP50  mAP50-95): 100%|██████████| 2/2 [00:17<00:00,  8.93s/it]"
     ]
    },
    {
     "name": "stdout",
     "output_type": "stream",
     "text": [
      "                   all        114        697      0.851      0.603      0.705      0.373\n"
     ]
    },
    {
     "name": "stderr",
     "output_type": "stream",
     "text": [
      "\n"
     ]
    },
    {
     "name": "stdout",
     "output_type": "stream",
     "text": [
      "\n",
      "      Epoch    GPU_mem   box_loss   cls_loss   dfl_loss  Instances       Size\n"
     ]
    },
    {
     "name": "stderr",
     "output_type": "stream",
     "text": [
      "      12/50      14.3G     0.9597     0.8613      1.202        269        640: 100%|██████████| 82/82 [15:34<00:00, 11.39s/it]\n",
      "                 Class     Images  Instances      Box(P          R      mAP50  mAP50-95): 100%|██████████| 2/2 [00:23<00:00, 11.73s/it]"
     ]
    },
    {
     "name": "stdout",
     "output_type": "stream",
     "text": [
      "                   all        114        697      0.783      0.643      0.706      0.402\n"
     ]
    },
    {
     "name": "stderr",
     "output_type": "stream",
     "text": [
      "\n"
     ]
    },
    {
     "name": "stdout",
     "output_type": "stream",
     "text": [
      "\n",
      "      Epoch    GPU_mem   box_loss   cls_loss   dfl_loss  Instances       Size\n"
     ]
    },
    {
     "name": "stderr",
     "output_type": "stream",
     "text": [
      "      13/50      13.8G      0.949     0.8454      1.199        332        640: 100%|██████████| 82/82 [14:31<00:00, 10.63s/it]\n",
      "                 Class     Images  Instances      Box(P          R      mAP50  mAP50-95): 100%|██████████| 2/2 [00:18<00:00,  9.48s/it]"
     ]
    },
    {
     "name": "stdout",
     "output_type": "stream",
     "text": [
      "                   all        114        697      0.838      0.677      0.748      0.419\n"
     ]
    },
    {
     "name": "stderr",
     "output_type": "stream",
     "text": [
      "\n"
     ]
    },
    {
     "name": "stdout",
     "output_type": "stream",
     "text": [
      "\n",
      "      Epoch    GPU_mem   box_loss   cls_loss   dfl_loss  Instances       Size\n"
     ]
    },
    {
     "name": "stderr",
     "output_type": "stream",
     "text": [
      "      14/50      14.3G     0.9287     0.8068      1.192        262        640: 100%|██████████| 82/82 [15:40<00:00, 11.47s/it]\n",
      "                 Class     Images  Instances      Box(P          R      mAP50  mAP50-95): 100%|██████████| 2/2 [00:22<00:00, 11.21s/it]"
     ]
    },
    {
     "name": "stdout",
     "output_type": "stream",
     "text": [
      "                   all        114        697       0.84      0.686      0.751      0.421\n"
     ]
    },
    {
     "name": "stderr",
     "output_type": "stream",
     "text": [
      "\n"
     ]
    },
    {
     "name": "stdout",
     "output_type": "stream",
     "text": [
      "\n",
      "      Epoch    GPU_mem   box_loss   cls_loss   dfl_loss  Instances       Size\n"
     ]
    },
    {
     "name": "stderr",
     "output_type": "stream",
     "text": [
      "      15/50      14.4G     0.8974     0.7832       1.17        241        640: 100%|██████████| 82/82 [12:31<00:00,  9.16s/it]\n",
      "                 Class     Images  Instances      Box(P          R      mAP50  mAP50-95): 100%|██████████| 2/2 [00:17<00:00,  8.53s/it]"
     ]
    },
    {
     "name": "stdout",
     "output_type": "stream",
     "text": [
      "                   all        114        697      0.838      0.679      0.755      0.445\n"
     ]
    },
    {
     "name": "stderr",
     "output_type": "stream",
     "text": [
      "\n"
     ]
    },
    {
     "name": "stdout",
     "output_type": "stream",
     "text": [
      "\n",
      "      Epoch    GPU_mem   box_loss   cls_loss   dfl_loss  Instances       Size\n"
     ]
    },
    {
     "name": "stderr",
     "output_type": "stream",
     "text": [
      "      16/50        14G     0.8977     0.7665      1.166        250        640: 100%|██████████| 82/82 [13:41<00:00, 10.02s/it]\n",
      "                 Class     Images  Instances      Box(P          R      mAP50  mAP50-95): 100%|██████████| 2/2 [00:17<00:00,  8.52s/it]"
     ]
    },
    {
     "name": "stdout",
     "output_type": "stream",
     "text": [
      "                   all        114        697      0.852       0.69      0.772      0.426\n"
     ]
    },
    {
     "name": "stderr",
     "output_type": "stream",
     "text": [
      "\n"
     ]
    },
    {
     "name": "stdout",
     "output_type": "stream",
     "text": [
      "\n",
      "      Epoch    GPU_mem   box_loss   cls_loss   dfl_loss  Instances       Size\n"
     ]
    },
    {
     "name": "stderr",
     "output_type": "stream",
     "text": [
      "      17/50      14.4G       0.88     0.7442      1.155        418        640: 100%|██████████| 82/82 [13:01<00:00,  9.54s/it]\n",
      "                 Class     Images  Instances      Box(P          R      mAP50  mAP50-95): 100%|██████████| 2/2 [00:16<00:00,  8.01s/it]"
     ]
    },
    {
     "name": "stdout",
     "output_type": "stream",
     "text": [
      "                   all        114        697      0.917      0.676      0.778      0.477\n"
     ]
    },
    {
     "name": "stderr",
     "output_type": "stream",
     "text": [
      "\n"
     ]
    },
    {
     "name": "stdout",
     "output_type": "stream",
     "text": [
      "\n",
      "      Epoch    GPU_mem   box_loss   cls_loss   dfl_loss  Instances       Size\n"
     ]
    },
    {
     "name": "stderr",
     "output_type": "stream",
     "text": [
      "      18/50      14.3G     0.8742     0.7287       1.15        178        640: 100%|██████████| 82/82 [12:33<00:00,  9.19s/it]\n",
      "                 Class     Images  Instances      Box(P          R      mAP50  mAP50-95): 100%|██████████| 2/2 [00:19<00:00,  9.71s/it]"
     ]
    },
    {
     "name": "stdout",
     "output_type": "stream",
     "text": [
      "                   all        114        697      0.872      0.688      0.763      0.454\n"
     ]
    },
    {
     "name": "stderr",
     "output_type": "stream",
     "text": [
      "\n"
     ]
    },
    {
     "name": "stdout",
     "output_type": "stream",
     "text": [
      "\n",
      "      Epoch    GPU_mem   box_loss   cls_loss   dfl_loss  Instances       Size\n"
     ]
    },
    {
     "name": "stderr",
     "output_type": "stream",
     "text": [
      "      19/50      14.5G      0.864     0.7111      1.138        237        640: 100%|██████████| 82/82 [13:07<00:00,  9.61s/it]\n",
      "                 Class     Images  Instances      Box(P          R      mAP50  mAP50-95): 100%|██████████| 2/2 [00:16<00:00,  8.47s/it]"
     ]
    },
    {
     "name": "stdout",
     "output_type": "stream",
     "text": [
      "                   all        114        697      0.847      0.717      0.773      0.456\n"
     ]
    },
    {
     "name": "stderr",
     "output_type": "stream",
     "text": [
      "\n"
     ]
    },
    {
     "name": "stdout",
     "output_type": "stream",
     "text": [
      "\n",
      "      Epoch    GPU_mem   box_loss   cls_loss   dfl_loss  Instances       Size\n"
     ]
    },
    {
     "name": "stderr",
     "output_type": "stream",
     "text": [
      "      20/50      14.1G     0.8398     0.6864      1.131        209        640: 100%|██████████| 82/82 [13:01<00:00,  9.53s/it]\n",
      "                 Class     Images  Instances      Box(P          R      mAP50  mAP50-95): 100%|██████████| 2/2 [00:20<00:00, 10.27s/it]"
     ]
    },
    {
     "name": "stdout",
     "output_type": "stream",
     "text": [
      "                   all        114        697      0.889      0.708      0.794      0.503\n"
     ]
    },
    {
     "name": "stderr",
     "output_type": "stream",
     "text": [
      "\n"
     ]
    },
    {
     "name": "stdout",
     "output_type": "stream",
     "text": [
      "\n",
      "      Epoch    GPU_mem   box_loss   cls_loss   dfl_loss  Instances       Size\n"
     ]
    },
    {
     "name": "stderr",
     "output_type": "stream",
     "text": [
      "      21/50        13G     0.8291     0.6764      1.123        339        640: 100%|██████████| 82/82 [13:09<00:00,  9.62s/it]\n",
      "                 Class     Images  Instances      Box(P          R      mAP50  mAP50-95): 100%|██████████| 2/2 [00:18<00:00,  9.41s/it]"
     ]
    },
    {
     "name": "stdout",
     "output_type": "stream",
     "text": [
      "                   all        114        697      0.899      0.714      0.797       0.49\n"
     ]
    },
    {
     "name": "stderr",
     "output_type": "stream",
     "text": [
      "\n"
     ]
    },
    {
     "name": "stdout",
     "output_type": "stream",
     "text": [
      "\n",
      "      Epoch    GPU_mem   box_loss   cls_loss   dfl_loss  Instances       Size\n"
     ]
    },
    {
     "name": "stderr",
     "output_type": "stream",
     "text": [
      "      22/50      13.5G     0.8211     0.6661      1.118        243        640: 100%|██████████| 82/82 [11:55<00:00,  8.73s/it]\n",
      "                 Class     Images  Instances      Box(P          R      mAP50  mAP50-95): 100%|██████████| 2/2 [00:18<00:00,  9.11s/it]"
     ]
    },
    {
     "name": "stdout",
     "output_type": "stream",
     "text": [
      "                   all        114        697      0.879      0.709      0.792      0.496\n"
     ]
    },
    {
     "name": "stderr",
     "output_type": "stream",
     "text": [
      "\n"
     ]
    },
    {
     "name": "stdout",
     "output_type": "stream",
     "text": [
      "\n",
      "      Epoch    GPU_mem   box_loss   cls_loss   dfl_loss  Instances       Size\n"
     ]
    },
    {
     "name": "stderr",
     "output_type": "stream",
     "text": [
      "      23/50      13.4G     0.8091     0.6467      1.111        293        640: 100%|██████████| 82/82 [14:21<00:00, 10.50s/it]\n",
      "                 Class     Images  Instances      Box(P          R      mAP50  mAP50-95): 100%|██████████| 2/2 [00:18<00:00,  9.37s/it]"
     ]
    },
    {
     "name": "stdout",
     "output_type": "stream",
     "text": [
      "                   all        114        697      0.888      0.732       0.81      0.499\n"
     ]
    },
    {
     "name": "stderr",
     "output_type": "stream",
     "text": [
      "\n"
     ]
    },
    {
     "name": "stdout",
     "output_type": "stream",
     "text": [
      "\n",
      "      Epoch    GPU_mem   box_loss   cls_loss   dfl_loss  Instances       Size\n"
     ]
    },
    {
     "name": "stderr",
     "output_type": "stream",
     "text": [
      "      24/50      13.8G     0.7944     0.6318      1.101        272        640: 100%|██████████| 82/82 [13:24<00:00,  9.81s/it]\n",
      "                 Class     Images  Instances      Box(P          R      mAP50  mAP50-95): 100%|██████████| 2/2 [00:25<00:00, 12.82s/it]"
     ]
    },
    {
     "name": "stdout",
     "output_type": "stream",
     "text": [
      "                   all        114        697       0.92      0.734      0.815      0.505\n"
     ]
    },
    {
     "name": "stderr",
     "output_type": "stream",
     "text": [
      "\n"
     ]
    },
    {
     "name": "stdout",
     "output_type": "stream",
     "text": [
      "\n",
      "      Epoch    GPU_mem   box_loss   cls_loss   dfl_loss  Instances       Size\n"
     ]
    },
    {
     "name": "stderr",
     "output_type": "stream",
     "text": [
      "      25/50      13.6G     0.7908     0.6186      1.099        317        640: 100%|██████████| 82/82 [12:19<00:00,  9.02s/it]\n",
      "                 Class     Images  Instances      Box(P          R      mAP50  mAP50-95): 100%|██████████| 2/2 [00:21<00:00, 10.66s/it]"
     ]
    },
    {
     "name": "stdout",
     "output_type": "stream",
     "text": [
      "                   all        114        697      0.917      0.733      0.823      0.536\n"
     ]
    },
    {
     "name": "stderr",
     "output_type": "stream",
     "text": [
      "\n"
     ]
    },
    {
     "name": "stdout",
     "output_type": "stream",
     "text": [
      "\n",
      "      Epoch    GPU_mem   box_loss   cls_loss   dfl_loss  Instances       Size\n"
     ]
    },
    {
     "name": "stderr",
     "output_type": "stream",
     "text": [
      "      26/50      14.4G     0.7767     0.6082      1.089        273        640: 100%|██████████| 82/82 [14:09<00:00, 10.36s/it]\n",
      "                 Class     Images  Instances      Box(P          R      mAP50  mAP50-95): 100%|██████████| 2/2 [00:28<00:00, 14.14s/it]"
     ]
    },
    {
     "name": "stdout",
     "output_type": "stream",
     "text": [
      "                   all        114        697      0.906      0.732      0.815       0.51\n"
     ]
    },
    {
     "name": "stderr",
     "output_type": "stream",
     "text": [
      "\n"
     ]
    },
    {
     "name": "stdout",
     "output_type": "stream",
     "text": [
      "\n",
      "      Epoch    GPU_mem   box_loss   cls_loss   dfl_loss  Instances       Size\n"
     ]
    },
    {
     "name": "stderr",
     "output_type": "stream",
     "text": [
      "      27/50      13.5G     0.7633     0.5925       1.08        359        640: 100%|██████████| 82/82 [12:52<00:00,  9.41s/it]\n",
      "                 Class     Images  Instances      Box(P          R      mAP50  mAP50-95): 100%|██████████| 2/2 [00:18<00:00,  9.09s/it]"
     ]
    },
    {
     "name": "stdout",
     "output_type": "stream",
     "text": [
      "                   all        114        697      0.894       0.75      0.823      0.516\n"
     ]
    },
    {
     "name": "stderr",
     "output_type": "stream",
     "text": [
      "\n"
     ]
    },
    {
     "name": "stdout",
     "output_type": "stream",
     "text": [
      "\n",
      "      Epoch    GPU_mem   box_loss   cls_loss   dfl_loss  Instances       Size\n"
     ]
    },
    {
     "name": "stderr",
     "output_type": "stream",
     "text": [
      "      28/50      13.3G      0.755       0.58      1.073        327        640: 100%|██████████| 82/82 [13:07<00:00,  9.60s/it]\n",
      "                 Class     Images  Instances      Box(P          R      mAP50  mAP50-95): 100%|██████████| 2/2 [00:18<00:00,  9.07s/it]"
     ]
    },
    {
     "name": "stdout",
     "output_type": "stream",
     "text": [
      "                   all        114        697      0.875      0.766      0.829      0.524\n"
     ]
    },
    {
     "name": "stderr",
     "output_type": "stream",
     "text": [
      "\n"
     ]
    },
    {
     "name": "stdout",
     "output_type": "stream",
     "text": [
      "\n",
      "      Epoch    GPU_mem   box_loss   cls_loss   dfl_loss  Instances       Size\n"
     ]
    },
    {
     "name": "stderr",
     "output_type": "stream",
     "text": [
      "      29/50      13.9G     0.7422      0.573      1.069        243        640: 100%|██████████| 82/82 [15:27<00:00, 11.31s/it]\n",
      "                 Class     Images  Instances      Box(P          R      mAP50  mAP50-95): 100%|██████████| 2/2 [00:18<00:00,  9.24s/it]"
     ]
    },
    {
     "name": "stdout",
     "output_type": "stream",
     "text": [
      "                   all        114        697       0.92      0.747      0.833      0.535\n"
     ]
    },
    {
     "name": "stderr",
     "output_type": "stream",
     "text": [
      "\n"
     ]
    },
    {
     "name": "stdout",
     "output_type": "stream",
     "text": [
      "\n",
      "      Epoch    GPU_mem   box_loss   cls_loss   dfl_loss  Instances       Size\n"
     ]
    },
    {
     "name": "stderr",
     "output_type": "stream",
     "text": [
      "      30/50      14.3G     0.7335     0.5625      1.059        279        640: 100%|██████████| 82/82 [14:14<00:00, 10.42s/it]\n",
      "                 Class     Images  Instances      Box(P          R      mAP50  mAP50-95): 100%|██████████| 2/2 [00:23<00:00, 11.75s/it]"
     ]
    },
    {
     "name": "stdout",
     "output_type": "stream",
     "text": [
      "                   all        114        697      0.912      0.746       0.83      0.544\n"
     ]
    },
    {
     "name": "stderr",
     "output_type": "stream",
     "text": [
      "\n"
     ]
    },
    {
     "name": "stdout",
     "output_type": "stream",
     "text": [
      "\n",
      "      Epoch    GPU_mem   box_loss   cls_loss   dfl_loss  Instances       Size\n"
     ]
    },
    {
     "name": "stderr",
     "output_type": "stream",
     "text": [
      "      31/50      13.9G     0.7247      0.548      1.058        230        640: 100%|██████████| 82/82 [14:31<00:00, 10.63s/it]\n",
      "                 Class     Images  Instances      Box(P          R      mAP50  mAP50-95): 100%|██████████| 2/2 [00:14<00:00,  7.02s/it]"
     ]
    },
    {
     "name": "stdout",
     "output_type": "stream",
     "text": [
      "                   all        114        697        0.9      0.754      0.834      0.555\n"
     ]
    },
    {
     "name": "stderr",
     "output_type": "stream",
     "text": [
      "\n"
     ]
    },
    {
     "name": "stdout",
     "output_type": "stream",
     "text": [
      "\n",
      "      Epoch    GPU_mem   box_loss   cls_loss   dfl_loss  Instances       Size\n"
     ]
    },
    {
     "name": "stderr",
     "output_type": "stream",
     "text": [
      "      32/50      13.9G     0.7045     0.5337      1.046        245        640: 100%|██████████| 82/82 [13:33<00:00,  9.92s/it]\n",
      "                 Class     Images  Instances      Box(P          R      mAP50  mAP50-95): 100%|██████████| 2/2 [00:22<00:00, 11.42s/it]"
     ]
    },
    {
     "name": "stdout",
     "output_type": "stream",
     "text": [
      "                   all        114        697      0.908      0.769      0.841      0.551\n"
     ]
    },
    {
     "name": "stderr",
     "output_type": "stream",
     "text": [
      "\n"
     ]
    },
    {
     "name": "stdout",
     "output_type": "stream",
     "text": [
      "\n",
      "      Epoch    GPU_mem   box_loss   cls_loss   dfl_loss  Instances       Size\n"
     ]
    },
    {
     "name": "stderr",
     "output_type": "stream",
     "text": [
      "      33/50      14.5G     0.7096     0.5363      1.046        221        640: 100%|██████████| 82/82 [13:29<00:00,  9.87s/it]\n",
      "                 Class     Images  Instances      Box(P          R      mAP50  mAP50-95): 100%|██████████| 2/2 [00:18<00:00,  9.19s/it]"
     ]
    },
    {
     "name": "stdout",
     "output_type": "stream",
     "text": [
      "                   all        114        697      0.912      0.764      0.846      0.559\n"
     ]
    },
    {
     "name": "stderr",
     "output_type": "stream",
     "text": [
      "\n"
     ]
    },
    {
     "name": "stdout",
     "output_type": "stream",
     "text": [
      "\n",
      "      Epoch    GPU_mem   box_loss   cls_loss   dfl_loss  Instances       Size\n"
     ]
    },
    {
     "name": "stderr",
     "output_type": "stream",
     "text": [
      "      34/50        15G     0.6942     0.5233      1.037        293        640: 100%|██████████| 82/82 [16:03<00:00, 11.74s/it]\n",
      "                 Class     Images  Instances      Box(P          R      mAP50  mAP50-95): 100%|██████████| 2/2 [00:22<00:00, 11.23s/it]"
     ]
    },
    {
     "name": "stdout",
     "output_type": "stream",
     "text": [
      "                   all        114        697      0.894      0.789      0.853      0.568\n"
     ]
    },
    {
     "name": "stderr",
     "output_type": "stream",
     "text": [
      "\n"
     ]
    },
    {
     "name": "stdout",
     "output_type": "stream",
     "text": [
      "\n",
      "      Epoch    GPU_mem   box_loss   cls_loss   dfl_loss  Instances       Size\n"
     ]
    },
    {
     "name": "stderr",
     "output_type": "stream",
     "text": [
      "      35/50      14.1G     0.6857     0.5124      1.034        217        640: 100%|██████████| 82/82 [12:42<00:00,  9.30s/it]\n",
      "                 Class     Images  Instances      Box(P          R      mAP50  mAP50-95): 100%|██████████| 2/2 [00:16<00:00,  8.22s/it]"
     ]
    },
    {
     "name": "stdout",
     "output_type": "stream",
     "text": [
      "                   all        114        697      0.903       0.78      0.851      0.579\n"
     ]
    },
    {
     "name": "stderr",
     "output_type": "stream",
     "text": [
      "\n"
     ]
    },
    {
     "name": "stdout",
     "output_type": "stream",
     "text": [
      "\n",
      "      Epoch    GPU_mem   box_loss   cls_loss   dfl_loss  Instances       Size\n"
     ]
    },
    {
     "name": "stderr",
     "output_type": "stream",
     "text": [
      "      36/50      13.9G     0.6817     0.5125      1.033        277        640: 100%|██████████| 82/82 [13:59<00:00, 10.24s/it]\n",
      "                 Class     Images  Instances      Box(P          R      mAP50  mAP50-95): 100%|██████████| 2/2 [00:20<00:00, 10.19s/it]"
     ]
    },
    {
     "name": "stdout",
     "output_type": "stream",
     "text": [
      "                   all        114        697      0.933       0.78      0.855      0.568\n"
     ]
    },
    {
     "name": "stderr",
     "output_type": "stream",
     "text": [
      "\n"
     ]
    },
    {
     "name": "stdout",
     "output_type": "stream",
     "text": [
      "\n",
      "      Epoch    GPU_mem   box_loss   cls_loss   dfl_loss  Instances       Size\n"
     ]
    },
    {
     "name": "stderr",
     "output_type": "stream",
     "text": [
      "      37/50      14.3G     0.6668     0.4957      1.026        216        640: 100%|██████████| 82/82 [13:08<00:00,  9.61s/it]\n",
      "                 Class     Images  Instances      Box(P          R      mAP50  mAP50-95): 100%|██████████| 2/2 [00:17<00:00,  8.97s/it]"
     ]
    },
    {
     "name": "stdout",
     "output_type": "stream",
     "text": [
      "                   all        114        697      0.919      0.767      0.848      0.567\n"
     ]
    },
    {
     "name": "stderr",
     "output_type": "stream",
     "text": [
      "\n"
     ]
    },
    {
     "name": "stdout",
     "output_type": "stream",
     "text": [
      "\n",
      "      Epoch    GPU_mem   box_loss   cls_loss   dfl_loss  Instances       Size\n"
     ]
    },
    {
     "name": "stderr",
     "output_type": "stream",
     "text": [
      "      38/50      13.4G     0.6576     0.4894       1.02        258        640: 100%|██████████| 82/82 [13:36<00:00,  9.96s/it]\n",
      "                 Class     Images  Instances      Box(P          R      mAP50  mAP50-95): 100%|██████████| 2/2 [00:20<00:00, 10.16s/it]"
     ]
    },
    {
     "name": "stdout",
     "output_type": "stream",
     "text": [
      "                   all        114        697      0.918      0.782      0.856      0.582\n"
     ]
    },
    {
     "name": "stderr",
     "output_type": "stream",
     "text": [
      "\n"
     ]
    },
    {
     "name": "stdout",
     "output_type": "stream",
     "text": [
      "\n",
      "      Epoch    GPU_mem   box_loss   cls_loss   dfl_loss  Instances       Size\n"
     ]
    },
    {
     "name": "stderr",
     "output_type": "stream",
     "text": [
      "      39/50      13.4G     0.6471      0.481      1.015        401        640: 100%|██████████| 82/82 [13:58<00:00, 10.23s/it]\n",
      "                 Class     Images  Instances      Box(P          R      mAP50  mAP50-95): 100%|██████████| 2/2 [00:14<00:00,  7.24s/it]"
     ]
    },
    {
     "name": "stdout",
     "output_type": "stream",
     "text": [
      "                   all        114        697      0.944      0.781      0.865      0.582\n"
     ]
    },
    {
     "name": "stderr",
     "output_type": "stream",
     "text": [
      "\n"
     ]
    },
    {
     "name": "stdout",
     "output_type": "stream",
     "text": [
      "\n",
      "      Epoch    GPU_mem   box_loss   cls_loss   dfl_loss  Instances       Size\n"
     ]
    },
    {
     "name": "stderr",
     "output_type": "stream",
     "text": [
      "      40/50      13.4G     0.6389     0.4719       1.01        283        640: 100%|██████████| 82/82 [15:53<00:00, 11.63s/it]\n",
      "                 Class     Images  Instances      Box(P          R      mAP50  mAP50-95): 100%|██████████| 2/2 [00:19<00:00,  9.54s/it]"
     ]
    },
    {
     "name": "stdout",
     "output_type": "stream",
     "text": [
      "                   all        114        697      0.935       0.77      0.854      0.585\n"
     ]
    },
    {
     "name": "stderr",
     "output_type": "stream",
     "text": [
      "\n"
     ]
    },
    {
     "name": "stdout",
     "output_type": "stream",
     "text": [
      "Closing dataloader mosaic\n",
      "\n",
      "      Epoch    GPU_mem   box_loss   cls_loss   dfl_loss  Instances       Size\n"
     ]
    },
    {
     "name": "stderr",
     "output_type": "stream",
     "text": [
      "      41/50      13.8G      0.645     0.4139      1.005        167        640: 100%|██████████| 82/82 [13:54<00:00, 10.18s/it]\n",
      "                 Class     Images  Instances      Box(P          R      mAP50  mAP50-95): 100%|██████████| 2/2 [00:18<00:00,  9.44s/it]"
     ]
    },
    {
     "name": "stdout",
     "output_type": "stream",
     "text": [
      "                   all        114        697      0.913       0.78      0.848      0.583\n"
     ]
    },
    {
     "name": "stderr",
     "output_type": "stream",
     "text": [
      "\n"
     ]
    },
    {
     "name": "stdout",
     "output_type": "stream",
     "text": [
      "\n",
      "      Epoch    GPU_mem   box_loss   cls_loss   dfl_loss  Instances       Size\n"
     ]
    },
    {
     "name": "stderr",
     "output_type": "stream",
     "text": [
      "      42/50        14G     0.6226     0.3932     0.9912        136        640: 100%|██████████| 82/82 [14:02<00:00, 10.27s/it]\n",
      "                 Class     Images  Instances      Box(P          R      mAP50  mAP50-95): 100%|██████████| 2/2 [00:23<00:00, 11.60s/it]"
     ]
    },
    {
     "name": "stdout",
     "output_type": "stream",
     "text": [
      "                   all        114        697      0.937      0.763      0.853      0.588\n"
     ]
    },
    {
     "name": "stderr",
     "output_type": "stream",
     "text": [
      "\n"
     ]
    },
    {
     "name": "stdout",
     "output_type": "stream",
     "text": [
      "\n",
      "      Epoch    GPU_mem   box_loss   cls_loss   dfl_loss  Instances       Size\n"
     ]
    },
    {
     "name": "stderr",
     "output_type": "stream",
     "text": [
      "      43/50      14.1G     0.6108     0.3836     0.9865        153        640: 100%|██████████| 82/82 [13:51<00:00, 10.14s/it]\n",
      "                 Class     Images  Instances      Box(P          R      mAP50  mAP50-95): 100%|██████████| 2/2 [00:16<00:00,  8.36s/it]"
     ]
    },
    {
     "name": "stdout",
     "output_type": "stream",
     "text": [
      "                   all        114        697      0.917      0.784      0.856      0.596\n"
     ]
    },
    {
     "name": "stderr",
     "output_type": "stream",
     "text": [
      "\n"
     ]
    },
    {
     "name": "stdout",
     "output_type": "stream",
     "text": [
      "\n",
      "      Epoch    GPU_mem   box_loss   cls_loss   dfl_loss  Instances       Size\n"
     ]
    },
    {
     "name": "stderr",
     "output_type": "stream",
     "text": [
      "      44/50      13.9G     0.6035      0.374     0.9803        196        640: 100%|██████████| 82/82 [13:20<00:00,  9.76s/it]\n",
      "                 Class     Images  Instances      Box(P          R      mAP50  mAP50-95): 100%|██████████| 2/2 [00:23<00:00, 11.97s/it]"
     ]
    },
    {
     "name": "stdout",
     "output_type": "stream",
     "text": [
      "                   all        114        697      0.912      0.786      0.863      0.592\n"
     ]
    },
    {
     "name": "stderr",
     "output_type": "stream",
     "text": [
      "\n"
     ]
    },
    {
     "name": "stdout",
     "output_type": "stream",
     "text": [
      "\n",
      "      Epoch    GPU_mem   box_loss   cls_loss   dfl_loss  Instances       Size\n"
     ]
    },
    {
     "name": "stderr",
     "output_type": "stream",
     "text": [
      "      45/50      13.3G     0.5841     0.3663     0.9697        234        640: 100%|██████████| 82/82 [12:48<00:00,  9.38s/it]\n",
      "                 Class     Images  Instances      Box(P          R      mAP50  mAP50-95): 100%|██████████| 2/2 [00:09<00:00,  4.67s/it]"
     ]
    },
    {
     "name": "stdout",
     "output_type": "stream",
     "text": [
      "                   all        114        697      0.922      0.792      0.861      0.599\n"
     ]
    },
    {
     "name": "stderr",
     "output_type": "stream",
     "text": [
      "\n"
     ]
    },
    {
     "name": "stdout",
     "output_type": "stream",
     "text": [
      "\n",
      "      Epoch    GPU_mem   box_loss   cls_loss   dfl_loss  Instances       Size\n"
     ]
    },
    {
     "name": "stderr",
     "output_type": "stream",
     "text": [
      "      46/50      13.9G     0.5779     0.3583      0.964        190        640: 100%|██████████| 82/82 [14:21<00:00, 10.51s/it]\n",
      "                 Class     Images  Instances      Box(P          R      mAP50  mAP50-95): 100%|██████████| 2/2 [00:19<00:00,  9.73s/it]"
     ]
    },
    {
     "name": "stdout",
     "output_type": "stream",
     "text": [
      "                   all        114        697      0.942      0.774      0.866      0.609\n"
     ]
    },
    {
     "name": "stderr",
     "output_type": "stream",
     "text": [
      "\n"
     ]
    },
    {
     "name": "stdout",
     "output_type": "stream",
     "text": [
      "\n",
      "      Epoch    GPU_mem   box_loss   cls_loss   dfl_loss  Instances       Size\n"
     ]
    },
    {
     "name": "stderr",
     "output_type": "stream",
     "text": [
      "      47/50      13.8G     0.5651     0.3506     0.9602        129        640: 100%|██████████| 82/82 [12:49<00:00,  9.38s/it]\n",
      "                 Class     Images  Instances      Box(P          R      mAP50  mAP50-95): 100%|██████████| 2/2 [00:15<00:00,  7.78s/it]"
     ]
    },
    {
     "name": "stdout",
     "output_type": "stream",
     "text": [
      "                   all        114        697      0.937      0.799      0.867      0.608\n"
     ]
    },
    {
     "name": "stderr",
     "output_type": "stream",
     "text": [
      "\n"
     ]
    },
    {
     "name": "stdout",
     "output_type": "stream",
     "text": [
      "\n",
      "      Epoch    GPU_mem   box_loss   cls_loss   dfl_loss  Instances       Size\n"
     ]
    },
    {
     "name": "stderr",
     "output_type": "stream",
     "text": [
      "      48/50      14.1G     0.5645     0.3474     0.9606        177        640: 100%|██████████| 82/82 [12:18<00:00,  9.00s/it]\n",
      "                 Class     Images  Instances      Box(P          R      mAP50  mAP50-95): 100%|██████████| 2/2 [00:19<00:00,  9.50s/it]"
     ]
    },
    {
     "name": "stdout",
     "output_type": "stream",
     "text": [
      "                   all        114        697      0.942      0.787      0.871      0.615\n"
     ]
    },
    {
     "name": "stderr",
     "output_type": "stream",
     "text": [
      "\n"
     ]
    },
    {
     "name": "stdout",
     "output_type": "stream",
     "text": [
      "\n",
      "      Epoch    GPU_mem   box_loss   cls_loss   dfl_loss  Instances       Size\n"
     ]
    },
    {
     "name": "stderr",
     "output_type": "stream",
     "text": [
      "      49/50      14.1G     0.5443     0.3371     0.9476        144        640: 100%|██████████| 82/82 [15:16<00:00, 11.18s/it]\n",
      "                 Class     Images  Instances      Box(P          R      mAP50  mAP50-95): 100%|██████████| 2/2 [00:15<00:00,  7.89s/it]"
     ]
    },
    {
     "name": "stdout",
     "output_type": "stream",
     "text": [
      "                   all        114        697      0.949      0.788      0.868      0.614\n"
     ]
    },
    {
     "name": "stderr",
     "output_type": "stream",
     "text": [
      "\n"
     ]
    },
    {
     "name": "stdout",
     "output_type": "stream",
     "text": [
      "\n",
      "      Epoch    GPU_mem   box_loss   cls_loss   dfl_loss  Instances       Size\n"
     ]
    },
    {
     "name": "stderr",
     "output_type": "stream",
     "text": [
      "      50/50        14G     0.5326     0.3335     0.9446        141        640: 100%|██████████| 82/82 [12:45<00:00,  9.33s/it]\n",
      "                 Class     Images  Instances      Box(P          R      mAP50  mAP50-95): 100%|██████████| 2/2 [00:22<00:00, 11.00s/it]"
     ]
    },
    {
     "name": "stdout",
     "output_type": "stream",
     "text": [
      "                   all        114        697       0.95      0.791      0.868      0.618\n"
     ]
    },
    {
     "name": "stderr",
     "output_type": "stream",
     "text": [
      "\n"
     ]
    },
    {
     "name": "stdout",
     "output_type": "stream",
     "text": [
      "\n",
      "50 epochs completed in 11.854 hours.\n",
      "Optimizer stripped from runs\\detect\\Initial training with yolov832\\weights\\last.pt, 52.0MB\n",
      "Optimizer stripped from runs\\detect\\Initial training with yolov832\\weights\\best.pt, 52.0MB\n",
      "\n",
      "Validating runs\\detect\\Initial training with yolov832\\weights\\best.pt...\n",
      "Ultralytics YOLOv8.2.58  Python-3.12.2 torch-2.3.1+cu121 CUDA:0 (NVIDIA GeForce RTX 4060 Laptop GPU, 8188MiB)\n",
      "Model summary (fused): 218 layers, 25,845,550 parameters, 0 gradients, 78.7 GFLOPs\n"
     ]
    },
    {
     "name": "stderr",
     "output_type": "stream",
     "text": [
      "                 Class     Images  Instances      Box(P          R      mAP50  mAP50-95): 100%|██████████| 2/2 [00:06<00:00,  3.05s/it]\n"
     ]
    },
    {
     "name": "stdout",
     "output_type": "stream",
     "text": [
      "                   all        114        697      0.949      0.791      0.868      0.618\n",
      "               Hardhat         42         79      0.977      0.823      0.941      0.652\n",
      "                  Mask         19         21      0.972      0.952      0.964      0.783\n",
      "            NO-Hardhat         37         69          1      0.667      0.828       0.51\n",
      "               NO-Mask         44         74      0.912      0.703      0.739      0.467\n",
      "        NO-Safety Vest         56        106      0.963      0.737      0.845      0.582\n",
      "                Person         84        166      0.964      0.816      0.895      0.635\n",
      "           Safety Cone         13         44       0.96      0.886      0.911      0.615\n",
      "           Safety Vest         28         41      0.953      0.854      0.922      0.697\n",
      "             machinery         26         55      0.966      0.873      0.968      0.767\n",
      "               vehicle         16         42      0.824      0.595      0.669      0.469\n",
      "Speed: 0.3ms preprocess, 47.3ms inference, 0.0ms loss, 1.0ms postprocess per image\n",
      "Results saved to \u001b[1mruns\\detect\\Initial training with yolov832\u001b[0m\n"
     ]
    },
    {
     "data": {
      "text/plain": [
       "ultralytics.utils.metrics.DetMetrics object with attributes:\n",
       "\n",
       "ap_class_index: array([0, 1, 2, 3, 4, 5, 6, 7, 8, 9])\n",
       "box: ultralytics.utils.metrics.Metric object\n",
       "confusion_matrix: <ultralytics.utils.metrics.ConfusionMatrix object at 0x0000029BA5AEF500>\n",
       "curves: ['Precision-Recall(B)', 'F1-Confidence(B)', 'Precision-Confidence(B)', 'Recall-Confidence(B)']\n",
       "curves_results: [[array([          0,    0.001001,    0.002002,    0.003003,    0.004004,    0.005005,    0.006006,    0.007007,    0.008008,    0.009009,     0.01001,    0.011011,    0.012012,    0.013013,    0.014014,    0.015015,    0.016016,    0.017017,    0.018018,    0.019019,     0.02002,    0.021021,    0.022022,    0.023023,\n",
       "          0.024024,    0.025025,    0.026026,    0.027027,    0.028028,    0.029029,     0.03003,    0.031031,    0.032032,    0.033033,    0.034034,    0.035035,    0.036036,    0.037037,    0.038038,    0.039039,     0.04004,    0.041041,    0.042042,    0.043043,    0.044044,    0.045045,    0.046046,    0.047047,\n",
       "          0.048048,    0.049049,     0.05005,    0.051051,    0.052052,    0.053053,    0.054054,    0.055055,    0.056056,    0.057057,    0.058058,    0.059059,     0.06006,    0.061061,    0.062062,    0.063063,    0.064064,    0.065065,    0.066066,    0.067067,    0.068068,    0.069069,     0.07007,    0.071071,\n",
       "          0.072072,    0.073073,    0.074074,    0.075075,    0.076076,    0.077077,    0.078078,    0.079079,     0.08008,    0.081081,    0.082082,    0.083083,    0.084084,    0.085085,    0.086086,    0.087087,    0.088088,    0.089089,     0.09009,    0.091091,    0.092092,    0.093093,    0.094094,    0.095095,\n",
       "          0.096096,    0.097097,    0.098098,    0.099099,      0.1001,      0.1011,      0.1021,      0.1031,      0.1041,     0.10511,     0.10611,     0.10711,     0.10811,     0.10911,     0.11011,     0.11111,     0.11211,     0.11311,     0.11411,     0.11512,     0.11612,     0.11712,     0.11812,     0.11912,\n",
       "           0.12012,     0.12112,     0.12212,     0.12312,     0.12412,     0.12513,     0.12613,     0.12713,     0.12813,     0.12913,     0.13013,     0.13113,     0.13213,     0.13313,     0.13413,     0.13514,     0.13614,     0.13714,     0.13814,     0.13914,     0.14014,     0.14114,     0.14214,     0.14314,\n",
       "           0.14414,     0.14515,     0.14615,     0.14715,     0.14815,     0.14915,     0.15015,     0.15115,     0.15215,     0.15315,     0.15415,     0.15516,     0.15616,     0.15716,     0.15816,     0.15916,     0.16016,     0.16116,     0.16216,     0.16316,     0.16416,     0.16517,     0.16617,     0.16717,\n",
       "           0.16817,     0.16917,     0.17017,     0.17117,     0.17217,     0.17317,     0.17417,     0.17518,     0.17618,     0.17718,     0.17818,     0.17918,     0.18018,     0.18118,     0.18218,     0.18318,     0.18418,     0.18519,     0.18619,     0.18719,     0.18819,     0.18919,     0.19019,     0.19119,\n",
       "           0.19219,     0.19319,     0.19419,      0.1952,      0.1962,      0.1972,      0.1982,      0.1992,      0.2002,      0.2012,      0.2022,      0.2032,      0.2042,     0.20521,     0.20621,     0.20721,     0.20821,     0.20921,     0.21021,     0.21121,     0.21221,     0.21321,     0.21421,     0.21522,\n",
       "           0.21622,     0.21722,     0.21822,     0.21922,     0.22022,     0.22122,     0.22222,     0.22322,     0.22422,     0.22523,     0.22623,     0.22723,     0.22823,     0.22923,     0.23023,     0.23123,     0.23223,     0.23323,     0.23423,     0.23524,     0.23624,     0.23724,     0.23824,     0.23924,\n",
       "           0.24024,     0.24124,     0.24224,     0.24324,     0.24424,     0.24525,     0.24625,     0.24725,     0.24825,     0.24925,     0.25025,     0.25125,     0.25225,     0.25325,     0.25425,     0.25526,     0.25626,     0.25726,     0.25826,     0.25926,     0.26026,     0.26126,     0.26226,     0.26326,\n",
       "           0.26426,     0.26527,     0.26627,     0.26727,     0.26827,     0.26927,     0.27027,     0.27127,     0.27227,     0.27327,     0.27427,     0.27528,     0.27628,     0.27728,     0.27828,     0.27928,     0.28028,     0.28128,     0.28228,     0.28328,     0.28428,     0.28529,     0.28629,     0.28729,\n",
       "           0.28829,     0.28929,     0.29029,     0.29129,     0.29229,     0.29329,     0.29429,      0.2953,      0.2963,      0.2973,      0.2983,      0.2993,      0.3003,      0.3013,      0.3023,      0.3033,      0.3043,     0.30531,     0.30631,     0.30731,     0.30831,     0.30931,     0.31031,     0.31131,\n",
       "           0.31231,     0.31331,     0.31431,     0.31532,     0.31632,     0.31732,     0.31832,     0.31932,     0.32032,     0.32132,     0.32232,     0.32332,     0.32432,     0.32533,     0.32633,     0.32733,     0.32833,     0.32933,     0.33033,     0.33133,     0.33233,     0.33333,     0.33433,     0.33534,\n",
       "           0.33634,     0.33734,     0.33834,     0.33934,     0.34034,     0.34134,     0.34234,     0.34334,     0.34434,     0.34535,     0.34635,     0.34735,     0.34835,     0.34935,     0.35035,     0.35135,     0.35235,     0.35335,     0.35435,     0.35536,     0.35636,     0.35736,     0.35836,     0.35936,\n",
       "           0.36036,     0.36136,     0.36236,     0.36336,     0.36436,     0.36537,     0.36637,     0.36737,     0.36837,     0.36937,     0.37037,     0.37137,     0.37237,     0.37337,     0.37437,     0.37538,     0.37638,     0.37738,     0.37838,     0.37938,     0.38038,     0.38138,     0.38238,     0.38338,\n",
       "           0.38438,     0.38539,     0.38639,     0.38739,     0.38839,     0.38939,     0.39039,     0.39139,     0.39239,     0.39339,     0.39439,      0.3954,      0.3964,      0.3974,      0.3984,      0.3994,      0.4004,      0.4014,      0.4024,      0.4034,      0.4044,     0.40541,     0.40641,     0.40741,\n",
       "           0.40841,     0.40941,     0.41041,     0.41141,     0.41241,     0.41341,     0.41441,     0.41542,     0.41642,     0.41742,     0.41842,     0.41942,     0.42042,     0.42142,     0.42242,     0.42342,     0.42442,     0.42543,     0.42643,     0.42743,     0.42843,     0.42943,     0.43043,     0.43143,\n",
       "           0.43243,     0.43343,     0.43443,     0.43544,     0.43644,     0.43744,     0.43844,     0.43944,     0.44044,     0.44144,     0.44244,     0.44344,     0.44444,     0.44545,     0.44645,     0.44745,     0.44845,     0.44945,     0.45045,     0.45145,     0.45245,     0.45345,     0.45445,     0.45546,\n",
       "           0.45646,     0.45746,     0.45846,     0.45946,     0.46046,     0.46146,     0.46246,     0.46346,     0.46446,     0.46547,     0.46647,     0.46747,     0.46847,     0.46947,     0.47047,     0.47147,     0.47247,     0.47347,     0.47447,     0.47548,     0.47648,     0.47748,     0.47848,     0.47948,\n",
       "           0.48048,     0.48148,     0.48248,     0.48348,     0.48448,     0.48549,     0.48649,     0.48749,     0.48849,     0.48949,     0.49049,     0.49149,     0.49249,     0.49349,     0.49449,      0.4955,      0.4965,      0.4975,      0.4985,      0.4995,      0.5005,      0.5015,      0.5025,      0.5035,\n",
       "            0.5045,     0.50551,     0.50651,     0.50751,     0.50851,     0.50951,     0.51051,     0.51151,     0.51251,     0.51351,     0.51451,     0.51552,     0.51652,     0.51752,     0.51852,     0.51952,     0.52052,     0.52152,     0.52252,     0.52352,     0.52452,     0.52553,     0.52653,     0.52753,\n",
       "           0.52853,     0.52953,     0.53053,     0.53153,     0.53253,     0.53353,     0.53453,     0.53554,     0.53654,     0.53754,     0.53854,     0.53954,     0.54054,     0.54154,     0.54254,     0.54354,     0.54454,     0.54555,     0.54655,     0.54755,     0.54855,     0.54955,     0.55055,     0.55155,\n",
       "           0.55255,     0.55355,     0.55455,     0.55556,     0.55656,     0.55756,     0.55856,     0.55956,     0.56056,     0.56156,     0.56256,     0.56356,     0.56456,     0.56557,     0.56657,     0.56757,     0.56857,     0.56957,     0.57057,     0.57157,     0.57257,     0.57357,     0.57457,     0.57558,\n",
       "           0.57658,     0.57758,     0.57858,     0.57958,     0.58058,     0.58158,     0.58258,     0.58358,     0.58458,     0.58559,     0.58659,     0.58759,     0.58859,     0.58959,     0.59059,     0.59159,     0.59259,     0.59359,     0.59459,      0.5956,      0.5966,      0.5976,      0.5986,      0.5996,\n",
       "            0.6006,      0.6016,      0.6026,      0.6036,      0.6046,     0.60561,     0.60661,     0.60761,     0.60861,     0.60961,     0.61061,     0.61161,     0.61261,     0.61361,     0.61461,     0.61562,     0.61662,     0.61762,     0.61862,     0.61962,     0.62062,     0.62162,     0.62262,     0.62362,\n",
       "           0.62462,     0.62563,     0.62663,     0.62763,     0.62863,     0.62963,     0.63063,     0.63163,     0.63263,     0.63363,     0.63463,     0.63564,     0.63664,     0.63764,     0.63864,     0.63964,     0.64064,     0.64164,     0.64264,     0.64364,     0.64464,     0.64565,     0.64665,     0.64765,\n",
       "           0.64865,     0.64965,     0.65065,     0.65165,     0.65265,     0.65365,     0.65465,     0.65566,     0.65666,     0.65766,     0.65866,     0.65966,     0.66066,     0.66166,     0.66266,     0.66366,     0.66466,     0.66567,     0.66667,     0.66767,     0.66867,     0.66967,     0.67067,     0.67167,\n",
       "           0.67267,     0.67367,     0.67467,     0.67568,     0.67668,     0.67768,     0.67868,     0.67968,     0.68068,     0.68168,     0.68268,     0.68368,     0.68468,     0.68569,     0.68669,     0.68769,     0.68869,     0.68969,     0.69069,     0.69169,     0.69269,     0.69369,     0.69469,      0.6957,\n",
       "            0.6967,      0.6977,      0.6987,      0.6997,      0.7007,      0.7017,      0.7027,      0.7037,      0.7047,     0.70571,     0.70671,     0.70771,     0.70871,     0.70971,     0.71071,     0.71171,     0.71271,     0.71371,     0.71471,     0.71572,     0.71672,     0.71772,     0.71872,     0.71972,\n",
       "           0.72072,     0.72172,     0.72272,     0.72372,     0.72472,     0.72573,     0.72673,     0.72773,     0.72873,     0.72973,     0.73073,     0.73173,     0.73273,     0.73373,     0.73473,     0.73574,     0.73674,     0.73774,     0.73874,     0.73974,     0.74074,     0.74174,     0.74274,     0.74374,\n",
       "           0.74474,     0.74575,     0.74675,     0.74775,     0.74875,     0.74975,     0.75075,     0.75175,     0.75275,     0.75375,     0.75475,     0.75576,     0.75676,     0.75776,     0.75876,     0.75976,     0.76076,     0.76176,     0.76276,     0.76376,     0.76476,     0.76577,     0.76677,     0.76777,\n",
       "           0.76877,     0.76977,     0.77077,     0.77177,     0.77277,     0.77377,     0.77477,     0.77578,     0.77678,     0.77778,     0.77878,     0.77978,     0.78078,     0.78178,     0.78278,     0.78378,     0.78478,     0.78579,     0.78679,     0.78779,     0.78879,     0.78979,     0.79079,     0.79179,\n",
       "           0.79279,     0.79379,     0.79479,      0.7958,      0.7968,      0.7978,      0.7988,      0.7998,      0.8008,      0.8018,      0.8028,      0.8038,      0.8048,     0.80581,     0.80681,     0.80781,     0.80881,     0.80981,     0.81081,     0.81181,     0.81281,     0.81381,     0.81481,     0.81582,\n",
       "           0.81682,     0.81782,     0.81882,     0.81982,     0.82082,     0.82182,     0.82282,     0.82382,     0.82482,     0.82583,     0.82683,     0.82783,     0.82883,     0.82983,     0.83083,     0.83183,     0.83283,     0.83383,     0.83483,     0.83584,     0.83684,     0.83784,     0.83884,     0.83984,\n",
       "           0.84084,     0.84184,     0.84284,     0.84384,     0.84484,     0.84585,     0.84685,     0.84785,     0.84885,     0.84985,     0.85085,     0.85185,     0.85285,     0.85385,     0.85485,     0.85586,     0.85686,     0.85786,     0.85886,     0.85986,     0.86086,     0.86186,     0.86286,     0.86386,\n",
       "           0.86486,     0.86587,     0.86687,     0.86787,     0.86887,     0.86987,     0.87087,     0.87187,     0.87287,     0.87387,     0.87487,     0.87588,     0.87688,     0.87788,     0.87888,     0.87988,     0.88088,     0.88188,     0.88288,     0.88388,     0.88488,     0.88589,     0.88689,     0.88789,\n",
       "           0.88889,     0.88989,     0.89089,     0.89189,     0.89289,     0.89389,     0.89489,      0.8959,      0.8969,      0.8979,      0.8989,      0.8999,      0.9009,      0.9019,      0.9029,      0.9039,      0.9049,     0.90591,     0.90691,     0.90791,     0.90891,     0.90991,     0.91091,     0.91191,\n",
       "           0.91291,     0.91391,     0.91491,     0.91592,     0.91692,     0.91792,     0.91892,     0.91992,     0.92092,     0.92192,     0.92292,     0.92392,     0.92492,     0.92593,     0.92693,     0.92793,     0.92893,     0.92993,     0.93093,     0.93193,     0.93293,     0.93393,     0.93493,     0.93594,\n",
       "           0.93694,     0.93794,     0.93894,     0.93994,     0.94094,     0.94194,     0.94294,     0.94394,     0.94494,     0.94595,     0.94695,     0.94795,     0.94895,     0.94995,     0.95095,     0.95195,     0.95295,     0.95395,     0.95495,     0.95596,     0.95696,     0.95796,     0.95896,     0.95996,\n",
       "           0.96096,     0.96196,     0.96296,     0.96396,     0.96496,     0.96597,     0.96697,     0.96797,     0.96897,     0.96997,     0.97097,     0.97197,     0.97297,     0.97397,     0.97497,     0.97598,     0.97698,     0.97798,     0.97898,     0.97998,     0.98098,     0.98198,     0.98298,     0.98398,\n",
       "           0.98498,     0.98599,     0.98699,     0.98799,     0.98899,     0.98999,     0.99099,     0.99199,     0.99299,     0.99399,     0.99499,       0.996,       0.997,       0.998,       0.999,           1]), array([[          1,           1,           1, ...,    0.016156,    0.008078,           0],\n",
       "       [          1,           1,           1, ...,    0.018685,   0.0093427,           0],\n",
       "       [          1,           1,           1, ...,   0.0033649,   0.0016825,           0],\n",
       "       ...,\n",
       "       [          1,           1,           1, ...,    0.010004,   0.0050019,           0],\n",
       "       [          1,           1,           1, ...,    0.018183,   0.0090917,           0],\n",
       "       [          1,           1,           1, ...,   0.0011381,  0.00056904,           0]]), 'Recall', 'Precision'], [array([          0,    0.001001,    0.002002,    0.003003,    0.004004,    0.005005,    0.006006,    0.007007,    0.008008,    0.009009,     0.01001,    0.011011,    0.012012,    0.013013,    0.014014,    0.015015,    0.016016,    0.017017,    0.018018,    0.019019,     0.02002,    0.021021,    0.022022,    0.023023,\n",
       "          0.024024,    0.025025,    0.026026,    0.027027,    0.028028,    0.029029,     0.03003,    0.031031,    0.032032,    0.033033,    0.034034,    0.035035,    0.036036,    0.037037,    0.038038,    0.039039,     0.04004,    0.041041,    0.042042,    0.043043,    0.044044,    0.045045,    0.046046,    0.047047,\n",
       "          0.048048,    0.049049,     0.05005,    0.051051,    0.052052,    0.053053,    0.054054,    0.055055,    0.056056,    0.057057,    0.058058,    0.059059,     0.06006,    0.061061,    0.062062,    0.063063,    0.064064,    0.065065,    0.066066,    0.067067,    0.068068,    0.069069,     0.07007,    0.071071,\n",
       "          0.072072,    0.073073,    0.074074,    0.075075,    0.076076,    0.077077,    0.078078,    0.079079,     0.08008,    0.081081,    0.082082,    0.083083,    0.084084,    0.085085,    0.086086,    0.087087,    0.088088,    0.089089,     0.09009,    0.091091,    0.092092,    0.093093,    0.094094,    0.095095,\n",
       "          0.096096,    0.097097,    0.098098,    0.099099,      0.1001,      0.1011,      0.1021,      0.1031,      0.1041,     0.10511,     0.10611,     0.10711,     0.10811,     0.10911,     0.11011,     0.11111,     0.11211,     0.11311,     0.11411,     0.11512,     0.11612,     0.11712,     0.11812,     0.11912,\n",
       "           0.12012,     0.12112,     0.12212,     0.12312,     0.12412,     0.12513,     0.12613,     0.12713,     0.12813,     0.12913,     0.13013,     0.13113,     0.13213,     0.13313,     0.13413,     0.13514,     0.13614,     0.13714,     0.13814,     0.13914,     0.14014,     0.14114,     0.14214,     0.14314,\n",
       "           0.14414,     0.14515,     0.14615,     0.14715,     0.14815,     0.14915,     0.15015,     0.15115,     0.15215,     0.15315,     0.15415,     0.15516,     0.15616,     0.15716,     0.15816,     0.15916,     0.16016,     0.16116,     0.16216,     0.16316,     0.16416,     0.16517,     0.16617,     0.16717,\n",
       "           0.16817,     0.16917,     0.17017,     0.17117,     0.17217,     0.17317,     0.17417,     0.17518,     0.17618,     0.17718,     0.17818,     0.17918,     0.18018,     0.18118,     0.18218,     0.18318,     0.18418,     0.18519,     0.18619,     0.18719,     0.18819,     0.18919,     0.19019,     0.19119,\n",
       "           0.19219,     0.19319,     0.19419,      0.1952,      0.1962,      0.1972,      0.1982,      0.1992,      0.2002,      0.2012,      0.2022,      0.2032,      0.2042,     0.20521,     0.20621,     0.20721,     0.20821,     0.20921,     0.21021,     0.21121,     0.21221,     0.21321,     0.21421,     0.21522,\n",
       "           0.21622,     0.21722,     0.21822,     0.21922,     0.22022,     0.22122,     0.22222,     0.22322,     0.22422,     0.22523,     0.22623,     0.22723,     0.22823,     0.22923,     0.23023,     0.23123,     0.23223,     0.23323,     0.23423,     0.23524,     0.23624,     0.23724,     0.23824,     0.23924,\n",
       "           0.24024,     0.24124,     0.24224,     0.24324,     0.24424,     0.24525,     0.24625,     0.24725,     0.24825,     0.24925,     0.25025,     0.25125,     0.25225,     0.25325,     0.25425,     0.25526,     0.25626,     0.25726,     0.25826,     0.25926,     0.26026,     0.26126,     0.26226,     0.26326,\n",
       "           0.26426,     0.26527,     0.26627,     0.26727,     0.26827,     0.26927,     0.27027,     0.27127,     0.27227,     0.27327,     0.27427,     0.27528,     0.27628,     0.27728,     0.27828,     0.27928,     0.28028,     0.28128,     0.28228,     0.28328,     0.28428,     0.28529,     0.28629,     0.28729,\n",
       "           0.28829,     0.28929,     0.29029,     0.29129,     0.29229,     0.29329,     0.29429,      0.2953,      0.2963,      0.2973,      0.2983,      0.2993,      0.3003,      0.3013,      0.3023,      0.3033,      0.3043,     0.30531,     0.30631,     0.30731,     0.30831,     0.30931,     0.31031,     0.31131,\n",
       "           0.31231,     0.31331,     0.31431,     0.31532,     0.31632,     0.31732,     0.31832,     0.31932,     0.32032,     0.32132,     0.32232,     0.32332,     0.32432,     0.32533,     0.32633,     0.32733,     0.32833,     0.32933,     0.33033,     0.33133,     0.33233,     0.33333,     0.33433,     0.33534,\n",
       "           0.33634,     0.33734,     0.33834,     0.33934,     0.34034,     0.34134,     0.34234,     0.34334,     0.34434,     0.34535,     0.34635,     0.34735,     0.34835,     0.34935,     0.35035,     0.35135,     0.35235,     0.35335,     0.35435,     0.35536,     0.35636,     0.35736,     0.35836,     0.35936,\n",
       "           0.36036,     0.36136,     0.36236,     0.36336,     0.36436,     0.36537,     0.36637,     0.36737,     0.36837,     0.36937,     0.37037,     0.37137,     0.37237,     0.37337,     0.37437,     0.37538,     0.37638,     0.37738,     0.37838,     0.37938,     0.38038,     0.38138,     0.38238,     0.38338,\n",
       "           0.38438,     0.38539,     0.38639,     0.38739,     0.38839,     0.38939,     0.39039,     0.39139,     0.39239,     0.39339,     0.39439,      0.3954,      0.3964,      0.3974,      0.3984,      0.3994,      0.4004,      0.4014,      0.4024,      0.4034,      0.4044,     0.40541,     0.40641,     0.40741,\n",
       "           0.40841,     0.40941,     0.41041,     0.41141,     0.41241,     0.41341,     0.41441,     0.41542,     0.41642,     0.41742,     0.41842,     0.41942,     0.42042,     0.42142,     0.42242,     0.42342,     0.42442,     0.42543,     0.42643,     0.42743,     0.42843,     0.42943,     0.43043,     0.43143,\n",
       "           0.43243,     0.43343,     0.43443,     0.43544,     0.43644,     0.43744,     0.43844,     0.43944,     0.44044,     0.44144,     0.44244,     0.44344,     0.44444,     0.44545,     0.44645,     0.44745,     0.44845,     0.44945,     0.45045,     0.45145,     0.45245,     0.45345,     0.45445,     0.45546,\n",
       "           0.45646,     0.45746,     0.45846,     0.45946,     0.46046,     0.46146,     0.46246,     0.46346,     0.46446,     0.46547,     0.46647,     0.46747,     0.46847,     0.46947,     0.47047,     0.47147,     0.47247,     0.47347,     0.47447,     0.47548,     0.47648,     0.47748,     0.47848,     0.47948,\n",
       "           0.48048,     0.48148,     0.48248,     0.48348,     0.48448,     0.48549,     0.48649,     0.48749,     0.48849,     0.48949,     0.49049,     0.49149,     0.49249,     0.49349,     0.49449,      0.4955,      0.4965,      0.4975,      0.4985,      0.4995,      0.5005,      0.5015,      0.5025,      0.5035,\n",
       "            0.5045,     0.50551,     0.50651,     0.50751,     0.50851,     0.50951,     0.51051,     0.51151,     0.51251,     0.51351,     0.51451,     0.51552,     0.51652,     0.51752,     0.51852,     0.51952,     0.52052,     0.52152,     0.52252,     0.52352,     0.52452,     0.52553,     0.52653,     0.52753,\n",
       "           0.52853,     0.52953,     0.53053,     0.53153,     0.53253,     0.53353,     0.53453,     0.53554,     0.53654,     0.53754,     0.53854,     0.53954,     0.54054,     0.54154,     0.54254,     0.54354,     0.54454,     0.54555,     0.54655,     0.54755,     0.54855,     0.54955,     0.55055,     0.55155,\n",
       "           0.55255,     0.55355,     0.55455,     0.55556,     0.55656,     0.55756,     0.55856,     0.55956,     0.56056,     0.56156,     0.56256,     0.56356,     0.56456,     0.56557,     0.56657,     0.56757,     0.56857,     0.56957,     0.57057,     0.57157,     0.57257,     0.57357,     0.57457,     0.57558,\n",
       "           0.57658,     0.57758,     0.57858,     0.57958,     0.58058,     0.58158,     0.58258,     0.58358,     0.58458,     0.58559,     0.58659,     0.58759,     0.58859,     0.58959,     0.59059,     0.59159,     0.59259,     0.59359,     0.59459,      0.5956,      0.5966,      0.5976,      0.5986,      0.5996,\n",
       "            0.6006,      0.6016,      0.6026,      0.6036,      0.6046,     0.60561,     0.60661,     0.60761,     0.60861,     0.60961,     0.61061,     0.61161,     0.61261,     0.61361,     0.61461,     0.61562,     0.61662,     0.61762,     0.61862,     0.61962,     0.62062,     0.62162,     0.62262,     0.62362,\n",
       "           0.62462,     0.62563,     0.62663,     0.62763,     0.62863,     0.62963,     0.63063,     0.63163,     0.63263,     0.63363,     0.63463,     0.63564,     0.63664,     0.63764,     0.63864,     0.63964,     0.64064,     0.64164,     0.64264,     0.64364,     0.64464,     0.64565,     0.64665,     0.64765,\n",
       "           0.64865,     0.64965,     0.65065,     0.65165,     0.65265,     0.65365,     0.65465,     0.65566,     0.65666,     0.65766,     0.65866,     0.65966,     0.66066,     0.66166,     0.66266,     0.66366,     0.66466,     0.66567,     0.66667,     0.66767,     0.66867,     0.66967,     0.67067,     0.67167,\n",
       "           0.67267,     0.67367,     0.67467,     0.67568,     0.67668,     0.67768,     0.67868,     0.67968,     0.68068,     0.68168,     0.68268,     0.68368,     0.68468,     0.68569,     0.68669,     0.68769,     0.68869,     0.68969,     0.69069,     0.69169,     0.69269,     0.69369,     0.69469,      0.6957,\n",
       "            0.6967,      0.6977,      0.6987,      0.6997,      0.7007,      0.7017,      0.7027,      0.7037,      0.7047,     0.70571,     0.70671,     0.70771,     0.70871,     0.70971,     0.71071,     0.71171,     0.71271,     0.71371,     0.71471,     0.71572,     0.71672,     0.71772,     0.71872,     0.71972,\n",
       "           0.72072,     0.72172,     0.72272,     0.72372,     0.72472,     0.72573,     0.72673,     0.72773,     0.72873,     0.72973,     0.73073,     0.73173,     0.73273,     0.73373,     0.73473,     0.73574,     0.73674,     0.73774,     0.73874,     0.73974,     0.74074,     0.74174,     0.74274,     0.74374,\n",
       "           0.74474,     0.74575,     0.74675,     0.74775,     0.74875,     0.74975,     0.75075,     0.75175,     0.75275,     0.75375,     0.75475,     0.75576,     0.75676,     0.75776,     0.75876,     0.75976,     0.76076,     0.76176,     0.76276,     0.76376,     0.76476,     0.76577,     0.76677,     0.76777,\n",
       "           0.76877,     0.76977,     0.77077,     0.77177,     0.77277,     0.77377,     0.77477,     0.77578,     0.77678,     0.77778,     0.77878,     0.77978,     0.78078,     0.78178,     0.78278,     0.78378,     0.78478,     0.78579,     0.78679,     0.78779,     0.78879,     0.78979,     0.79079,     0.79179,\n",
       "           0.79279,     0.79379,     0.79479,      0.7958,      0.7968,      0.7978,      0.7988,      0.7998,      0.8008,      0.8018,      0.8028,      0.8038,      0.8048,     0.80581,     0.80681,     0.80781,     0.80881,     0.80981,     0.81081,     0.81181,     0.81281,     0.81381,     0.81481,     0.81582,\n",
       "           0.81682,     0.81782,     0.81882,     0.81982,     0.82082,     0.82182,     0.82282,     0.82382,     0.82482,     0.82583,     0.82683,     0.82783,     0.82883,     0.82983,     0.83083,     0.83183,     0.83283,     0.83383,     0.83483,     0.83584,     0.83684,     0.83784,     0.83884,     0.83984,\n",
       "           0.84084,     0.84184,     0.84284,     0.84384,     0.84484,     0.84585,     0.84685,     0.84785,     0.84885,     0.84985,     0.85085,     0.85185,     0.85285,     0.85385,     0.85485,     0.85586,     0.85686,     0.85786,     0.85886,     0.85986,     0.86086,     0.86186,     0.86286,     0.86386,\n",
       "           0.86486,     0.86587,     0.86687,     0.86787,     0.86887,     0.86987,     0.87087,     0.87187,     0.87287,     0.87387,     0.87487,     0.87588,     0.87688,     0.87788,     0.87888,     0.87988,     0.88088,     0.88188,     0.88288,     0.88388,     0.88488,     0.88589,     0.88689,     0.88789,\n",
       "           0.88889,     0.88989,     0.89089,     0.89189,     0.89289,     0.89389,     0.89489,      0.8959,      0.8969,      0.8979,      0.8989,      0.8999,      0.9009,      0.9019,      0.9029,      0.9039,      0.9049,     0.90591,     0.90691,     0.90791,     0.90891,     0.90991,     0.91091,     0.91191,\n",
       "           0.91291,     0.91391,     0.91491,     0.91592,     0.91692,     0.91792,     0.91892,     0.91992,     0.92092,     0.92192,     0.92292,     0.92392,     0.92492,     0.92593,     0.92693,     0.92793,     0.92893,     0.92993,     0.93093,     0.93193,     0.93293,     0.93393,     0.93493,     0.93594,\n",
       "           0.93694,     0.93794,     0.93894,     0.93994,     0.94094,     0.94194,     0.94294,     0.94394,     0.94494,     0.94595,     0.94695,     0.94795,     0.94895,     0.94995,     0.95095,     0.95195,     0.95295,     0.95395,     0.95495,     0.95596,     0.95696,     0.95796,     0.95896,     0.95996,\n",
       "           0.96096,     0.96196,     0.96296,     0.96396,     0.96496,     0.96597,     0.96697,     0.96797,     0.96897,     0.96997,     0.97097,     0.97197,     0.97297,     0.97397,     0.97497,     0.97598,     0.97698,     0.97798,     0.97898,     0.97998,     0.98098,     0.98198,     0.98298,     0.98398,\n",
       "           0.98498,     0.98599,     0.98699,     0.98799,     0.98899,     0.98999,     0.99099,     0.99199,     0.99299,     0.99399,     0.99499,       0.996,       0.997,       0.998,       0.999,           1]), array([[    0.46483,     0.46483,     0.57514, ...,           0,           0,           0],\n",
       "       [    0.60606,     0.60606,      0.7825, ...,           0,           0,           0],\n",
       "       [    0.43182,     0.43182,     0.48803, ...,           0,           0,           0],\n",
       "       ...,\n",
       "       [    0.38806,     0.38806,     0.47451, ...,           0,           0,           0],\n",
       "       [    0.28272,     0.28272,     0.39699, ...,           0,           0,           0],\n",
       "       [    0.19101,     0.19101,     0.25962, ...,           0,           0,           0]]), 'Confidence', 'F1'], [array([          0,    0.001001,    0.002002,    0.003003,    0.004004,    0.005005,    0.006006,    0.007007,    0.008008,    0.009009,     0.01001,    0.011011,    0.012012,    0.013013,    0.014014,    0.015015,    0.016016,    0.017017,    0.018018,    0.019019,     0.02002,    0.021021,    0.022022,    0.023023,\n",
       "          0.024024,    0.025025,    0.026026,    0.027027,    0.028028,    0.029029,     0.03003,    0.031031,    0.032032,    0.033033,    0.034034,    0.035035,    0.036036,    0.037037,    0.038038,    0.039039,     0.04004,    0.041041,    0.042042,    0.043043,    0.044044,    0.045045,    0.046046,    0.047047,\n",
       "          0.048048,    0.049049,     0.05005,    0.051051,    0.052052,    0.053053,    0.054054,    0.055055,    0.056056,    0.057057,    0.058058,    0.059059,     0.06006,    0.061061,    0.062062,    0.063063,    0.064064,    0.065065,    0.066066,    0.067067,    0.068068,    0.069069,     0.07007,    0.071071,\n",
       "          0.072072,    0.073073,    0.074074,    0.075075,    0.076076,    0.077077,    0.078078,    0.079079,     0.08008,    0.081081,    0.082082,    0.083083,    0.084084,    0.085085,    0.086086,    0.087087,    0.088088,    0.089089,     0.09009,    0.091091,    0.092092,    0.093093,    0.094094,    0.095095,\n",
       "          0.096096,    0.097097,    0.098098,    0.099099,      0.1001,      0.1011,      0.1021,      0.1031,      0.1041,     0.10511,     0.10611,     0.10711,     0.10811,     0.10911,     0.11011,     0.11111,     0.11211,     0.11311,     0.11411,     0.11512,     0.11612,     0.11712,     0.11812,     0.11912,\n",
       "           0.12012,     0.12112,     0.12212,     0.12312,     0.12412,     0.12513,     0.12613,     0.12713,     0.12813,     0.12913,     0.13013,     0.13113,     0.13213,     0.13313,     0.13413,     0.13514,     0.13614,     0.13714,     0.13814,     0.13914,     0.14014,     0.14114,     0.14214,     0.14314,\n",
       "           0.14414,     0.14515,     0.14615,     0.14715,     0.14815,     0.14915,     0.15015,     0.15115,     0.15215,     0.15315,     0.15415,     0.15516,     0.15616,     0.15716,     0.15816,     0.15916,     0.16016,     0.16116,     0.16216,     0.16316,     0.16416,     0.16517,     0.16617,     0.16717,\n",
       "           0.16817,     0.16917,     0.17017,     0.17117,     0.17217,     0.17317,     0.17417,     0.17518,     0.17618,     0.17718,     0.17818,     0.17918,     0.18018,     0.18118,     0.18218,     0.18318,     0.18418,     0.18519,     0.18619,     0.18719,     0.18819,     0.18919,     0.19019,     0.19119,\n",
       "           0.19219,     0.19319,     0.19419,      0.1952,      0.1962,      0.1972,      0.1982,      0.1992,      0.2002,      0.2012,      0.2022,      0.2032,      0.2042,     0.20521,     0.20621,     0.20721,     0.20821,     0.20921,     0.21021,     0.21121,     0.21221,     0.21321,     0.21421,     0.21522,\n",
       "           0.21622,     0.21722,     0.21822,     0.21922,     0.22022,     0.22122,     0.22222,     0.22322,     0.22422,     0.22523,     0.22623,     0.22723,     0.22823,     0.22923,     0.23023,     0.23123,     0.23223,     0.23323,     0.23423,     0.23524,     0.23624,     0.23724,     0.23824,     0.23924,\n",
       "           0.24024,     0.24124,     0.24224,     0.24324,     0.24424,     0.24525,     0.24625,     0.24725,     0.24825,     0.24925,     0.25025,     0.25125,     0.25225,     0.25325,     0.25425,     0.25526,     0.25626,     0.25726,     0.25826,     0.25926,     0.26026,     0.26126,     0.26226,     0.26326,\n",
       "           0.26426,     0.26527,     0.26627,     0.26727,     0.26827,     0.26927,     0.27027,     0.27127,     0.27227,     0.27327,     0.27427,     0.27528,     0.27628,     0.27728,     0.27828,     0.27928,     0.28028,     0.28128,     0.28228,     0.28328,     0.28428,     0.28529,     0.28629,     0.28729,\n",
       "           0.28829,     0.28929,     0.29029,     0.29129,     0.29229,     0.29329,     0.29429,      0.2953,      0.2963,      0.2973,      0.2983,      0.2993,      0.3003,      0.3013,      0.3023,      0.3033,      0.3043,     0.30531,     0.30631,     0.30731,     0.30831,     0.30931,     0.31031,     0.31131,\n",
       "           0.31231,     0.31331,     0.31431,     0.31532,     0.31632,     0.31732,     0.31832,     0.31932,     0.32032,     0.32132,     0.32232,     0.32332,     0.32432,     0.32533,     0.32633,     0.32733,     0.32833,     0.32933,     0.33033,     0.33133,     0.33233,     0.33333,     0.33433,     0.33534,\n",
       "           0.33634,     0.33734,     0.33834,     0.33934,     0.34034,     0.34134,     0.34234,     0.34334,     0.34434,     0.34535,     0.34635,     0.34735,     0.34835,     0.34935,     0.35035,     0.35135,     0.35235,     0.35335,     0.35435,     0.35536,     0.35636,     0.35736,     0.35836,     0.35936,\n",
       "           0.36036,     0.36136,     0.36236,     0.36336,     0.36436,     0.36537,     0.36637,     0.36737,     0.36837,     0.36937,     0.37037,     0.37137,     0.37237,     0.37337,     0.37437,     0.37538,     0.37638,     0.37738,     0.37838,     0.37938,     0.38038,     0.38138,     0.38238,     0.38338,\n",
       "           0.38438,     0.38539,     0.38639,     0.38739,     0.38839,     0.38939,     0.39039,     0.39139,     0.39239,     0.39339,     0.39439,      0.3954,      0.3964,      0.3974,      0.3984,      0.3994,      0.4004,      0.4014,      0.4024,      0.4034,      0.4044,     0.40541,     0.40641,     0.40741,\n",
       "           0.40841,     0.40941,     0.41041,     0.41141,     0.41241,     0.41341,     0.41441,     0.41542,     0.41642,     0.41742,     0.41842,     0.41942,     0.42042,     0.42142,     0.42242,     0.42342,     0.42442,     0.42543,     0.42643,     0.42743,     0.42843,     0.42943,     0.43043,     0.43143,\n",
       "           0.43243,     0.43343,     0.43443,     0.43544,     0.43644,     0.43744,     0.43844,     0.43944,     0.44044,     0.44144,     0.44244,     0.44344,     0.44444,     0.44545,     0.44645,     0.44745,     0.44845,     0.44945,     0.45045,     0.45145,     0.45245,     0.45345,     0.45445,     0.45546,\n",
       "           0.45646,     0.45746,     0.45846,     0.45946,     0.46046,     0.46146,     0.46246,     0.46346,     0.46446,     0.46547,     0.46647,     0.46747,     0.46847,     0.46947,     0.47047,     0.47147,     0.47247,     0.47347,     0.47447,     0.47548,     0.47648,     0.47748,     0.47848,     0.47948,\n",
       "           0.48048,     0.48148,     0.48248,     0.48348,     0.48448,     0.48549,     0.48649,     0.48749,     0.48849,     0.48949,     0.49049,     0.49149,     0.49249,     0.49349,     0.49449,      0.4955,      0.4965,      0.4975,      0.4985,      0.4995,      0.5005,      0.5015,      0.5025,      0.5035,\n",
       "            0.5045,     0.50551,     0.50651,     0.50751,     0.50851,     0.50951,     0.51051,     0.51151,     0.51251,     0.51351,     0.51451,     0.51552,     0.51652,     0.51752,     0.51852,     0.51952,     0.52052,     0.52152,     0.52252,     0.52352,     0.52452,     0.52553,     0.52653,     0.52753,\n",
       "           0.52853,     0.52953,     0.53053,     0.53153,     0.53253,     0.53353,     0.53453,     0.53554,     0.53654,     0.53754,     0.53854,     0.53954,     0.54054,     0.54154,     0.54254,     0.54354,     0.54454,     0.54555,     0.54655,     0.54755,     0.54855,     0.54955,     0.55055,     0.55155,\n",
       "           0.55255,     0.55355,     0.55455,     0.55556,     0.55656,     0.55756,     0.55856,     0.55956,     0.56056,     0.56156,     0.56256,     0.56356,     0.56456,     0.56557,     0.56657,     0.56757,     0.56857,     0.56957,     0.57057,     0.57157,     0.57257,     0.57357,     0.57457,     0.57558,\n",
       "           0.57658,     0.57758,     0.57858,     0.57958,     0.58058,     0.58158,     0.58258,     0.58358,     0.58458,     0.58559,     0.58659,     0.58759,     0.58859,     0.58959,     0.59059,     0.59159,     0.59259,     0.59359,     0.59459,      0.5956,      0.5966,      0.5976,      0.5986,      0.5996,\n",
       "            0.6006,      0.6016,      0.6026,      0.6036,      0.6046,     0.60561,     0.60661,     0.60761,     0.60861,     0.60961,     0.61061,     0.61161,     0.61261,     0.61361,     0.61461,     0.61562,     0.61662,     0.61762,     0.61862,     0.61962,     0.62062,     0.62162,     0.62262,     0.62362,\n",
       "           0.62462,     0.62563,     0.62663,     0.62763,     0.62863,     0.62963,     0.63063,     0.63163,     0.63263,     0.63363,     0.63463,     0.63564,     0.63664,     0.63764,     0.63864,     0.63964,     0.64064,     0.64164,     0.64264,     0.64364,     0.64464,     0.64565,     0.64665,     0.64765,\n",
       "           0.64865,     0.64965,     0.65065,     0.65165,     0.65265,     0.65365,     0.65465,     0.65566,     0.65666,     0.65766,     0.65866,     0.65966,     0.66066,     0.66166,     0.66266,     0.66366,     0.66466,     0.66567,     0.66667,     0.66767,     0.66867,     0.66967,     0.67067,     0.67167,\n",
       "           0.67267,     0.67367,     0.67467,     0.67568,     0.67668,     0.67768,     0.67868,     0.67968,     0.68068,     0.68168,     0.68268,     0.68368,     0.68468,     0.68569,     0.68669,     0.68769,     0.68869,     0.68969,     0.69069,     0.69169,     0.69269,     0.69369,     0.69469,      0.6957,\n",
       "            0.6967,      0.6977,      0.6987,      0.6997,      0.7007,      0.7017,      0.7027,      0.7037,      0.7047,     0.70571,     0.70671,     0.70771,     0.70871,     0.70971,     0.71071,     0.71171,     0.71271,     0.71371,     0.71471,     0.71572,     0.71672,     0.71772,     0.71872,     0.71972,\n",
       "           0.72072,     0.72172,     0.72272,     0.72372,     0.72472,     0.72573,     0.72673,     0.72773,     0.72873,     0.72973,     0.73073,     0.73173,     0.73273,     0.73373,     0.73473,     0.73574,     0.73674,     0.73774,     0.73874,     0.73974,     0.74074,     0.74174,     0.74274,     0.74374,\n",
       "           0.74474,     0.74575,     0.74675,     0.74775,     0.74875,     0.74975,     0.75075,     0.75175,     0.75275,     0.75375,     0.75475,     0.75576,     0.75676,     0.75776,     0.75876,     0.75976,     0.76076,     0.76176,     0.76276,     0.76376,     0.76476,     0.76577,     0.76677,     0.76777,\n",
       "           0.76877,     0.76977,     0.77077,     0.77177,     0.77277,     0.77377,     0.77477,     0.77578,     0.77678,     0.77778,     0.77878,     0.77978,     0.78078,     0.78178,     0.78278,     0.78378,     0.78478,     0.78579,     0.78679,     0.78779,     0.78879,     0.78979,     0.79079,     0.79179,\n",
       "           0.79279,     0.79379,     0.79479,      0.7958,      0.7968,      0.7978,      0.7988,      0.7998,      0.8008,      0.8018,      0.8028,      0.8038,      0.8048,     0.80581,     0.80681,     0.80781,     0.80881,     0.80981,     0.81081,     0.81181,     0.81281,     0.81381,     0.81481,     0.81582,\n",
       "           0.81682,     0.81782,     0.81882,     0.81982,     0.82082,     0.82182,     0.82282,     0.82382,     0.82482,     0.82583,     0.82683,     0.82783,     0.82883,     0.82983,     0.83083,     0.83183,     0.83283,     0.83383,     0.83483,     0.83584,     0.83684,     0.83784,     0.83884,     0.83984,\n",
       "           0.84084,     0.84184,     0.84284,     0.84384,     0.84484,     0.84585,     0.84685,     0.84785,     0.84885,     0.84985,     0.85085,     0.85185,     0.85285,     0.85385,     0.85485,     0.85586,     0.85686,     0.85786,     0.85886,     0.85986,     0.86086,     0.86186,     0.86286,     0.86386,\n",
       "           0.86486,     0.86587,     0.86687,     0.86787,     0.86887,     0.86987,     0.87087,     0.87187,     0.87287,     0.87387,     0.87487,     0.87588,     0.87688,     0.87788,     0.87888,     0.87988,     0.88088,     0.88188,     0.88288,     0.88388,     0.88488,     0.88589,     0.88689,     0.88789,\n",
       "           0.88889,     0.88989,     0.89089,     0.89189,     0.89289,     0.89389,     0.89489,      0.8959,      0.8969,      0.8979,      0.8989,      0.8999,      0.9009,      0.9019,      0.9029,      0.9039,      0.9049,     0.90591,     0.90691,     0.90791,     0.90891,     0.90991,     0.91091,     0.91191,\n",
       "           0.91291,     0.91391,     0.91491,     0.91592,     0.91692,     0.91792,     0.91892,     0.91992,     0.92092,     0.92192,     0.92292,     0.92392,     0.92492,     0.92593,     0.92693,     0.92793,     0.92893,     0.92993,     0.93093,     0.93193,     0.93293,     0.93393,     0.93493,     0.93594,\n",
       "           0.93694,     0.93794,     0.93894,     0.93994,     0.94094,     0.94194,     0.94294,     0.94394,     0.94494,     0.94595,     0.94695,     0.94795,     0.94895,     0.94995,     0.95095,     0.95195,     0.95295,     0.95395,     0.95495,     0.95596,     0.95696,     0.95796,     0.95896,     0.95996,\n",
       "           0.96096,     0.96196,     0.96296,     0.96396,     0.96496,     0.96597,     0.96697,     0.96797,     0.96897,     0.96997,     0.97097,     0.97197,     0.97297,     0.97397,     0.97497,     0.97598,     0.97698,     0.97798,     0.97898,     0.97998,     0.98098,     0.98198,     0.98298,     0.98398,\n",
       "           0.98498,     0.98599,     0.98699,     0.98799,     0.98899,     0.98999,     0.99099,     0.99199,     0.99299,     0.99399,     0.99499,       0.996,       0.997,       0.998,       0.999,           1]), array([[    0.30645,     0.30645,     0.41018, ...,           1,           1,           1],\n",
       "       [    0.44444,     0.44444,     0.66405, ...,           1,           1,           1],\n",
       "       [    0.29231,     0.29231,     0.34631, ...,           1,           1,           1],\n",
       "       ...,\n",
       "       [    0.24375,     0.24375,     0.31889, ...,           1,           1,           1],\n",
       "       [    0.16514,     0.16514,     0.24879, ...,           1,           1,           1],\n",
       "       [    0.10828,     0.10828,      0.1555, ...,           1,           1,           1]]), 'Confidence', 'Precision'], [array([          0,    0.001001,    0.002002,    0.003003,    0.004004,    0.005005,    0.006006,    0.007007,    0.008008,    0.009009,     0.01001,    0.011011,    0.012012,    0.013013,    0.014014,    0.015015,    0.016016,    0.017017,    0.018018,    0.019019,     0.02002,    0.021021,    0.022022,    0.023023,\n",
       "          0.024024,    0.025025,    0.026026,    0.027027,    0.028028,    0.029029,     0.03003,    0.031031,    0.032032,    0.033033,    0.034034,    0.035035,    0.036036,    0.037037,    0.038038,    0.039039,     0.04004,    0.041041,    0.042042,    0.043043,    0.044044,    0.045045,    0.046046,    0.047047,\n",
       "          0.048048,    0.049049,     0.05005,    0.051051,    0.052052,    0.053053,    0.054054,    0.055055,    0.056056,    0.057057,    0.058058,    0.059059,     0.06006,    0.061061,    0.062062,    0.063063,    0.064064,    0.065065,    0.066066,    0.067067,    0.068068,    0.069069,     0.07007,    0.071071,\n",
       "          0.072072,    0.073073,    0.074074,    0.075075,    0.076076,    0.077077,    0.078078,    0.079079,     0.08008,    0.081081,    0.082082,    0.083083,    0.084084,    0.085085,    0.086086,    0.087087,    0.088088,    0.089089,     0.09009,    0.091091,    0.092092,    0.093093,    0.094094,    0.095095,\n",
       "          0.096096,    0.097097,    0.098098,    0.099099,      0.1001,      0.1011,      0.1021,      0.1031,      0.1041,     0.10511,     0.10611,     0.10711,     0.10811,     0.10911,     0.11011,     0.11111,     0.11211,     0.11311,     0.11411,     0.11512,     0.11612,     0.11712,     0.11812,     0.11912,\n",
       "           0.12012,     0.12112,     0.12212,     0.12312,     0.12412,     0.12513,     0.12613,     0.12713,     0.12813,     0.12913,     0.13013,     0.13113,     0.13213,     0.13313,     0.13413,     0.13514,     0.13614,     0.13714,     0.13814,     0.13914,     0.14014,     0.14114,     0.14214,     0.14314,\n",
       "           0.14414,     0.14515,     0.14615,     0.14715,     0.14815,     0.14915,     0.15015,     0.15115,     0.15215,     0.15315,     0.15415,     0.15516,     0.15616,     0.15716,     0.15816,     0.15916,     0.16016,     0.16116,     0.16216,     0.16316,     0.16416,     0.16517,     0.16617,     0.16717,\n",
       "           0.16817,     0.16917,     0.17017,     0.17117,     0.17217,     0.17317,     0.17417,     0.17518,     0.17618,     0.17718,     0.17818,     0.17918,     0.18018,     0.18118,     0.18218,     0.18318,     0.18418,     0.18519,     0.18619,     0.18719,     0.18819,     0.18919,     0.19019,     0.19119,\n",
       "           0.19219,     0.19319,     0.19419,      0.1952,      0.1962,      0.1972,      0.1982,      0.1992,      0.2002,      0.2012,      0.2022,      0.2032,      0.2042,     0.20521,     0.20621,     0.20721,     0.20821,     0.20921,     0.21021,     0.21121,     0.21221,     0.21321,     0.21421,     0.21522,\n",
       "           0.21622,     0.21722,     0.21822,     0.21922,     0.22022,     0.22122,     0.22222,     0.22322,     0.22422,     0.22523,     0.22623,     0.22723,     0.22823,     0.22923,     0.23023,     0.23123,     0.23223,     0.23323,     0.23423,     0.23524,     0.23624,     0.23724,     0.23824,     0.23924,\n",
       "           0.24024,     0.24124,     0.24224,     0.24324,     0.24424,     0.24525,     0.24625,     0.24725,     0.24825,     0.24925,     0.25025,     0.25125,     0.25225,     0.25325,     0.25425,     0.25526,     0.25626,     0.25726,     0.25826,     0.25926,     0.26026,     0.26126,     0.26226,     0.26326,\n",
       "           0.26426,     0.26527,     0.26627,     0.26727,     0.26827,     0.26927,     0.27027,     0.27127,     0.27227,     0.27327,     0.27427,     0.27528,     0.27628,     0.27728,     0.27828,     0.27928,     0.28028,     0.28128,     0.28228,     0.28328,     0.28428,     0.28529,     0.28629,     0.28729,\n",
       "           0.28829,     0.28929,     0.29029,     0.29129,     0.29229,     0.29329,     0.29429,      0.2953,      0.2963,      0.2973,      0.2983,      0.2993,      0.3003,      0.3013,      0.3023,      0.3033,      0.3043,     0.30531,     0.30631,     0.30731,     0.30831,     0.30931,     0.31031,     0.31131,\n",
       "           0.31231,     0.31331,     0.31431,     0.31532,     0.31632,     0.31732,     0.31832,     0.31932,     0.32032,     0.32132,     0.32232,     0.32332,     0.32432,     0.32533,     0.32633,     0.32733,     0.32833,     0.32933,     0.33033,     0.33133,     0.33233,     0.33333,     0.33433,     0.33534,\n",
       "           0.33634,     0.33734,     0.33834,     0.33934,     0.34034,     0.34134,     0.34234,     0.34334,     0.34434,     0.34535,     0.34635,     0.34735,     0.34835,     0.34935,     0.35035,     0.35135,     0.35235,     0.35335,     0.35435,     0.35536,     0.35636,     0.35736,     0.35836,     0.35936,\n",
       "           0.36036,     0.36136,     0.36236,     0.36336,     0.36436,     0.36537,     0.36637,     0.36737,     0.36837,     0.36937,     0.37037,     0.37137,     0.37237,     0.37337,     0.37437,     0.37538,     0.37638,     0.37738,     0.37838,     0.37938,     0.38038,     0.38138,     0.38238,     0.38338,\n",
       "           0.38438,     0.38539,     0.38639,     0.38739,     0.38839,     0.38939,     0.39039,     0.39139,     0.39239,     0.39339,     0.39439,      0.3954,      0.3964,      0.3974,      0.3984,      0.3994,      0.4004,      0.4014,      0.4024,      0.4034,      0.4044,     0.40541,     0.40641,     0.40741,\n",
       "           0.40841,     0.40941,     0.41041,     0.41141,     0.41241,     0.41341,     0.41441,     0.41542,     0.41642,     0.41742,     0.41842,     0.41942,     0.42042,     0.42142,     0.42242,     0.42342,     0.42442,     0.42543,     0.42643,     0.42743,     0.42843,     0.42943,     0.43043,     0.43143,\n",
       "           0.43243,     0.43343,     0.43443,     0.43544,     0.43644,     0.43744,     0.43844,     0.43944,     0.44044,     0.44144,     0.44244,     0.44344,     0.44444,     0.44545,     0.44645,     0.44745,     0.44845,     0.44945,     0.45045,     0.45145,     0.45245,     0.45345,     0.45445,     0.45546,\n",
       "           0.45646,     0.45746,     0.45846,     0.45946,     0.46046,     0.46146,     0.46246,     0.46346,     0.46446,     0.46547,     0.46647,     0.46747,     0.46847,     0.46947,     0.47047,     0.47147,     0.47247,     0.47347,     0.47447,     0.47548,     0.47648,     0.47748,     0.47848,     0.47948,\n",
       "           0.48048,     0.48148,     0.48248,     0.48348,     0.48448,     0.48549,     0.48649,     0.48749,     0.48849,     0.48949,     0.49049,     0.49149,     0.49249,     0.49349,     0.49449,      0.4955,      0.4965,      0.4975,      0.4985,      0.4995,      0.5005,      0.5015,      0.5025,      0.5035,\n",
       "            0.5045,     0.50551,     0.50651,     0.50751,     0.50851,     0.50951,     0.51051,     0.51151,     0.51251,     0.51351,     0.51451,     0.51552,     0.51652,     0.51752,     0.51852,     0.51952,     0.52052,     0.52152,     0.52252,     0.52352,     0.52452,     0.52553,     0.52653,     0.52753,\n",
       "           0.52853,     0.52953,     0.53053,     0.53153,     0.53253,     0.53353,     0.53453,     0.53554,     0.53654,     0.53754,     0.53854,     0.53954,     0.54054,     0.54154,     0.54254,     0.54354,     0.54454,     0.54555,     0.54655,     0.54755,     0.54855,     0.54955,     0.55055,     0.55155,\n",
       "           0.55255,     0.55355,     0.55455,     0.55556,     0.55656,     0.55756,     0.55856,     0.55956,     0.56056,     0.56156,     0.56256,     0.56356,     0.56456,     0.56557,     0.56657,     0.56757,     0.56857,     0.56957,     0.57057,     0.57157,     0.57257,     0.57357,     0.57457,     0.57558,\n",
       "           0.57658,     0.57758,     0.57858,     0.57958,     0.58058,     0.58158,     0.58258,     0.58358,     0.58458,     0.58559,     0.58659,     0.58759,     0.58859,     0.58959,     0.59059,     0.59159,     0.59259,     0.59359,     0.59459,      0.5956,      0.5966,      0.5976,      0.5986,      0.5996,\n",
       "            0.6006,      0.6016,      0.6026,      0.6036,      0.6046,     0.60561,     0.60661,     0.60761,     0.60861,     0.60961,     0.61061,     0.61161,     0.61261,     0.61361,     0.61461,     0.61562,     0.61662,     0.61762,     0.61862,     0.61962,     0.62062,     0.62162,     0.62262,     0.62362,\n",
       "           0.62462,     0.62563,     0.62663,     0.62763,     0.62863,     0.62963,     0.63063,     0.63163,     0.63263,     0.63363,     0.63463,     0.63564,     0.63664,     0.63764,     0.63864,     0.63964,     0.64064,     0.64164,     0.64264,     0.64364,     0.64464,     0.64565,     0.64665,     0.64765,\n",
       "           0.64865,     0.64965,     0.65065,     0.65165,     0.65265,     0.65365,     0.65465,     0.65566,     0.65666,     0.65766,     0.65866,     0.65966,     0.66066,     0.66166,     0.66266,     0.66366,     0.66466,     0.66567,     0.66667,     0.66767,     0.66867,     0.66967,     0.67067,     0.67167,\n",
       "           0.67267,     0.67367,     0.67467,     0.67568,     0.67668,     0.67768,     0.67868,     0.67968,     0.68068,     0.68168,     0.68268,     0.68368,     0.68468,     0.68569,     0.68669,     0.68769,     0.68869,     0.68969,     0.69069,     0.69169,     0.69269,     0.69369,     0.69469,      0.6957,\n",
       "            0.6967,      0.6977,      0.6987,      0.6997,      0.7007,      0.7017,      0.7027,      0.7037,      0.7047,     0.70571,     0.70671,     0.70771,     0.70871,     0.70971,     0.71071,     0.71171,     0.71271,     0.71371,     0.71471,     0.71572,     0.71672,     0.71772,     0.71872,     0.71972,\n",
       "           0.72072,     0.72172,     0.72272,     0.72372,     0.72472,     0.72573,     0.72673,     0.72773,     0.72873,     0.72973,     0.73073,     0.73173,     0.73273,     0.73373,     0.73473,     0.73574,     0.73674,     0.73774,     0.73874,     0.73974,     0.74074,     0.74174,     0.74274,     0.74374,\n",
       "           0.74474,     0.74575,     0.74675,     0.74775,     0.74875,     0.74975,     0.75075,     0.75175,     0.75275,     0.75375,     0.75475,     0.75576,     0.75676,     0.75776,     0.75876,     0.75976,     0.76076,     0.76176,     0.76276,     0.76376,     0.76476,     0.76577,     0.76677,     0.76777,\n",
       "           0.76877,     0.76977,     0.77077,     0.77177,     0.77277,     0.77377,     0.77477,     0.77578,     0.77678,     0.77778,     0.77878,     0.77978,     0.78078,     0.78178,     0.78278,     0.78378,     0.78478,     0.78579,     0.78679,     0.78779,     0.78879,     0.78979,     0.79079,     0.79179,\n",
       "           0.79279,     0.79379,     0.79479,      0.7958,      0.7968,      0.7978,      0.7988,      0.7998,      0.8008,      0.8018,      0.8028,      0.8038,      0.8048,     0.80581,     0.80681,     0.80781,     0.80881,     0.80981,     0.81081,     0.81181,     0.81281,     0.81381,     0.81481,     0.81582,\n",
       "           0.81682,     0.81782,     0.81882,     0.81982,     0.82082,     0.82182,     0.82282,     0.82382,     0.82482,     0.82583,     0.82683,     0.82783,     0.82883,     0.82983,     0.83083,     0.83183,     0.83283,     0.83383,     0.83483,     0.83584,     0.83684,     0.83784,     0.83884,     0.83984,\n",
       "           0.84084,     0.84184,     0.84284,     0.84384,     0.84484,     0.84585,     0.84685,     0.84785,     0.84885,     0.84985,     0.85085,     0.85185,     0.85285,     0.85385,     0.85485,     0.85586,     0.85686,     0.85786,     0.85886,     0.85986,     0.86086,     0.86186,     0.86286,     0.86386,\n",
       "           0.86486,     0.86587,     0.86687,     0.86787,     0.86887,     0.86987,     0.87087,     0.87187,     0.87287,     0.87387,     0.87487,     0.87588,     0.87688,     0.87788,     0.87888,     0.87988,     0.88088,     0.88188,     0.88288,     0.88388,     0.88488,     0.88589,     0.88689,     0.88789,\n",
       "           0.88889,     0.88989,     0.89089,     0.89189,     0.89289,     0.89389,     0.89489,      0.8959,      0.8969,      0.8979,      0.8989,      0.8999,      0.9009,      0.9019,      0.9029,      0.9039,      0.9049,     0.90591,     0.90691,     0.90791,     0.90891,     0.90991,     0.91091,     0.91191,\n",
       "           0.91291,     0.91391,     0.91491,     0.91592,     0.91692,     0.91792,     0.91892,     0.91992,     0.92092,     0.92192,     0.92292,     0.92392,     0.92492,     0.92593,     0.92693,     0.92793,     0.92893,     0.92993,     0.93093,     0.93193,     0.93293,     0.93393,     0.93493,     0.93594,\n",
       "           0.93694,     0.93794,     0.93894,     0.93994,     0.94094,     0.94194,     0.94294,     0.94394,     0.94494,     0.94595,     0.94695,     0.94795,     0.94895,     0.94995,     0.95095,     0.95195,     0.95295,     0.95395,     0.95495,     0.95596,     0.95696,     0.95796,     0.95896,     0.95996,\n",
       "           0.96096,     0.96196,     0.96296,     0.96396,     0.96496,     0.96597,     0.96697,     0.96797,     0.96897,     0.96997,     0.97097,     0.97197,     0.97297,     0.97397,     0.97497,     0.97598,     0.97698,     0.97798,     0.97898,     0.97998,     0.98098,     0.98198,     0.98298,     0.98398,\n",
       "           0.98498,     0.98599,     0.98699,     0.98799,     0.98899,     0.98999,     0.99099,     0.99199,     0.99299,     0.99399,     0.99499,       0.996,       0.997,       0.998,       0.999,           1]), array([[    0.96203,     0.96203,     0.96203, ...,           0,           0,           0],\n",
       "       [    0.95238,     0.95238,     0.95238, ...,           0,           0,           0],\n",
       "       [    0.82609,     0.82609,     0.82609, ...,           0,           0,           0],\n",
       "       ...,\n",
       "       [    0.95122,     0.95122,     0.92683, ...,           0,           0,           0],\n",
       "       [    0.98182,     0.98182,     0.98182, ...,           0,           0,           0],\n",
       "       [    0.80952,     0.80952,     0.78571, ...,           0,           0,           0]]), 'Confidence', 'Recall']]\n",
       "fitness: 0.6427899738899792\n",
       "keys: ['metrics/precision(B)', 'metrics/recall(B)', 'metrics/mAP50(B)', 'metrics/mAP50-95(B)']\n",
       "maps: array([    0.65203,     0.78302,     0.51019,     0.46707,     0.58196,     0.63497,     0.61516,     0.69704,     0.76658,     0.46939])\n",
       "names: {0: 'Hardhat', 1: 'Mask', 2: 'NO-Hardhat', 3: 'NO-Mask', 4: 'NO-Safety Vest', 5: 'Person', 6: 'Safety Cone', 7: 'Safety Vest', 8: 'machinery', 9: 'vehicle'}\n",
       "plot: True\n",
       "results_dict: {'metrics/precision(B)': 0.9492914692291364, 'metrics/recall(B)': 0.7905722662894666, 'metrics/mAP50(B)': 0.8682323399828782, 'metrics/mAP50-95(B)': 0.6177408221018792, 'fitness': 0.6427899738899792}\n",
       "save_dir: WindowsPath('runs/detect/Initial training with yolov832')\n",
       "speed: {'preprocess': 0.28073787689208984, 'inference': 47.291931353117285, 'loss': 0.0, 'postprocess': 0.9979427906504849}\n",
       "task: 'detect'"
      ]
     },
     "execution_count": 7,
     "metadata": {},
     "output_type": "execute_result"
    }
   ],
   "source": [
    "model.train(data='/kaggle/working/data.yaml', epochs=50, batch=32, imgsz=640, name='Initial training with yolov8')"
   ]
  },
  {
   "cell_type": "code",
   "execution_count": 9,
   "metadata": {},
   "outputs": [],
   "source": [
    "trained_detection_model = YOLO('/kaggle/input/runs/detect/Initial training with yolov825/weights/best.pt')"
   ]
  },
  {
   "cell_type": "code",
   "execution_count": 10,
   "metadata": {},
   "outputs": [
    {
     "name": "stdout",
     "output_type": "stream",
     "text": [
      "\n",
      "image 1/82 c:\\kaggle\\input\\construction-site-safety-image-dataset-roboflow\\test\\images\\-4405-_png_jpg.rf.82b5c10b2acd1cfaa24259ada8e599fe.jpg: 640x640 1 Hardhat, 3 NO-Safety Vests, 1 Person, 30.0ms\n",
      "image 2/82 c:\\kaggle\\input\\construction-site-safety-image-dataset-roboflow\\test\\images\\000005_jpg.rf.96e9379ccae638140c4a90fc4b700a2b.jpg: 640x640 1 Hardhat, 1 NO-Hardhat, 2 NO-Masks, 8 NO-Safety Vests, 16.3ms\n",
      "image 3/82 c:\\kaggle\\input\\construction-site-safety-image-dataset-roboflow\\test\\images\\002551_jpg.rf.ce4b9f934161faa72c80dc6898d37b2d.jpg: 640x640 2 Hardhats, 5 NO-Safety Vests, 9 Persons, 9.5ms\n",
      "image 4/82 c:\\kaggle\\input\\construction-site-safety-image-dataset-roboflow\\test\\images\\003357_jpg.rf.9867f91e88089bb68dc95947d5116d14.jpg: 640x640 5 NO-Safety Vests, 3 Safety Cones, 16.2ms\n",
      "image 5/82 c:\\kaggle\\input\\construction-site-safety-image-dataset-roboflow\\test\\images\\004063_jpg.rf.1b7cdc4035bcb24ef69b8798b444053e.jpg: 640x640 5 Hardhats, 2 NO-Hardhats, 1 NO-Mask, 11 NO-Safety Vests, 11 Persons, 1 Safety Vest, 15.7ms\n",
      "image 6/82 c:\\kaggle\\input\\construction-site-safety-image-dataset-roboflow\\test\\images\\004763_jpg.rf.46484e6ca73caeaa9de45822cf1085a9.jpg: 640x640 3 Hardhats, 1 Mask, 2 NO-Masks, 6 NO-Safety Vests, 3 Persons, 14.1ms\n",
      "image 7/82 c:\\kaggle\\input\\construction-site-safety-image-dataset-roboflow\\test\\images\\006463_jpg.rf.02f19082420ecc5537b9d59abbe6050c.jpg: 640x640 8 Hardhats, 2 NO-Hardhats, 15 NO-Masks, 8 NO-Safety Vests, 11 Persons, 1 Safety Vest, 29.5ms\n",
      "image 8/82 c:\\kaggle\\input\\construction-site-safety-image-dataset-roboflow\\test\\images\\006672_jpg.rf.87d5978c486feb53177408cf00a0d87f.jpg: 640x640 6 Hardhats, 10 NO-Masks, 1 NO-Safety Vest, 7 Persons, 1 Safety Cone, 5 Safety Vests, 22.5ms\n",
      "image 9/82 c:\\kaggle\\input\\construction-site-safety-image-dataset-roboflow\\test\\images\\0_jpg.rf.2ff49f74309118f169e07aa12564df87.jpg: 640x640 1 Hardhat, 3 Persons, 2 Safety Vests, 1 vehicle, 17.0ms\n",
      "image 10/82 c:\\kaggle\\input\\construction-site-safety-image-dataset-roboflow\\test\\images\\2008_008320_jpg.rf.bd34011d46f82f9410d95f00e560b8ea.jpg: 640x640 2 NO-Hardhats, 4 NO-Safety Vests, 1 Person, 16.4ms\n",
      "image 11/82 c:\\kaggle\\input\\construction-site-safety-image-dataset-roboflow\\test\\images\\2008_008519_jpg.rf.1798c8eed7de04399a0e7e297b4b4c9e.jpg: 640x640 3 NO-Safety Vests, 6 Persons, 2 Safety Vests, 13.1ms\n",
      "image 12/82 c:\\kaggle\\input\\construction-site-safety-image-dataset-roboflow\\test\\images\\2009_000059_jpg.rf.50e8398a37eb33f33fd9f662feeea083.jpg: 640x640 1 NO-Hardhat, 4 NO-Safety Vests, 1 Person, 12.1ms\n",
      "image 13/82 c:\\kaggle\\input\\construction-site-safety-image-dataset-roboflow\\test\\images\\2009_000496_jpg.rf.9a2d210fe0f5ea4b572aeb07e41ecbae.jpg: 640x640 2 NO-Safety Vests, 3 Persons, 20.8ms\n",
      "image 14/82 c:\\kaggle\\input\\construction-site-safety-image-dataset-roboflow\\test\\images\\3e7e40981ddd4cdb055c7ffe4c2af5d8_jpg.rf.bac50dc18195e9aeb6f3a21782a3efcb.jpg: 640x640 1 NO-Hardhat, 2 NO-Safety Vests, 1 vehicle, 15.6ms\n",
      "image 15/82 c:\\kaggle\\input\\construction-site-safety-image-dataset-roboflow\\test\\images\\777_jpg.rf.92dc6945342410ced7ac93f3dfbff0c5.jpg: 640x640 14 Safety Cones, 14.3ms\n",
      "image 16/82 c:\\kaggle\\input\\construction-site-safety-image-dataset-roboflow\\test\\images\\Bookstore_More_Merchandise_jpg.rf.7ab5add3e28ced74f9b316e794cc04d2.jpg: 640x640 (no detections), 18.6ms\n",
      "image 17/82 c:\\kaggle\\input\\construction-site-safety-image-dataset-roboflow\\test\\images\\IMG_0871_MOV-12_jpg.rf.36858a9d51613f9a39b7855b54dfa098.jpg: 640x640 1 Mask, 1 NO-Hardhat, 2 NO-Safety Vests, 1 Person, 16.4ms\n",
      "image 18/82 c:\\kaggle\\input\\construction-site-safety-image-dataset-roboflow\\test\\images\\IMG_0871_mp4-11_jpg.rf.432092b53ebeb84f4b9b27b40343c9aa.jpg: 640x640 2 Masks, 1 NO-Hardhat, 2 NO-Safety Vests, 1 Person, 13.1ms\n",
      "image 19/82 c:\\kaggle\\input\\construction-site-safety-image-dataset-roboflow\\test\\images\\IMG_0871_mp4-23_jpg.rf.03f872b1ed87ad7fadc85e09475ad37a.jpg: 640x640 1 Mask, 1 NO-Hardhat, 1 NO-Safety Vest, 1 Person, 19.5ms\n",
      "image 20/82 c:\\kaggle\\input\\construction-site-safety-image-dataset-roboflow\\test\\images\\IMG_3100_mp4-12_jpg.rf.58849ca6a931c2cfe1b17fb4206d9d82.jpg: 640x640 1 Mask, 6 NO-Safety Vests, 1 Person, 15.6ms\n",
      "image 21/82 c:\\kaggle\\input\\construction-site-safety-image-dataset-roboflow\\test\\images\\IMG_3100_mp4-9_jpg.rf.413ccf5fe4a7ee67f71e07c2c43b6756.jpg: 640x640 1 Mask, 3 NO-Safety Vests, 1 Person, 12.0ms\n",
      "image 22/82 c:\\kaggle\\input\\construction-site-safety-image-dataset-roboflow\\test\\images\\IMG_3103_mp4-9_jpg.rf.b31bd2d816465a27aa1eb072f90bb5aa.jpg: 640x640 2 Masks, 5 NO-Safety Vests, 1 Person, 9.3ms\n",
      "image 23/82 c:\\kaggle\\input\\construction-site-safety-image-dataset-roboflow\\test\\images\\IMG_5846_jpg.rf.0b9984069116e2acd928568eb7a8e214.jpg: 640x640 21 Hardhats, 1 NO-Hardhat, 50 NO-Masks, 1 NO-Safety Vest, 33 Persons, 18 Safety Vests, 18.0ms\n",
      "image 24/82 c:\\kaggle\\input\\construction-site-safety-image-dataset-roboflow\\test\\images\\Image36_jpg.rf.8704f3450f736cdd01a61dcee588f2c2.jpg: 640x640 5 Hardhats, 1 Mask, 3 NO-Hardhats, 11 NO-Masks, 17 NO-Safety Vests, 11 Persons, 13.0ms\n",
      "image 25/82 c:\\kaggle\\input\\construction-site-safety-image-dataset-roboflow\\test\\images\\Inside-merge_mov-58_jpg.rf.50147e19cb655e74c2df0047113e82b2.jpg: 640x640 (no detections), 14.9ms\n",
      "image 26/82 c:\\kaggle\\input\\construction-site-safety-image-dataset-roboflow\\test\\images\\Movie-on-10-31-22-at-10_08-AM_mov-20_jpg.rf.aea4278b41550cdb75df5891a26052e7.jpg: 640x640 1 Hardhat, 2 Masks, 1 NO-Mask, 2 NO-Safety Vests, 1 Person, 13.9ms\n",
      "image 27/82 c:\\kaggle\\input\\construction-site-safety-image-dataset-roboflow\\test\\images\\Movie-on-10-31-22-at-10_08-AM_mov-24_jpg.rf.c50014f3510a484e5bd565460fd0fd5c.jpg: 640x640 2 Masks, 4 NO-Safety Vests, 1 Person, 11.3ms\n",
      "image 28/82 c:\\kaggle\\input\\construction-site-safety-image-dataset-roboflow\\test\\images\\NX_img_177_jpg.rf.c03709e5fadfe2109411f05a9e9bc25f.jpg: 640x640 6 NO-Safety Vests, 10.0ms\n",
      "image 29/82 c:\\kaggle\\input\\construction-site-safety-image-dataset-roboflow\\test\\images\\RPReplay_Final1667001201_MP4-100_jpg.rf.9a1b50c4301c53b3ae534c6353337df9.jpg: 640x640 1 Mask, 1 NO-Safety Vest, 1 Person, 16.6ms\n",
      "image 30/82 c:\\kaggle\\input\\construction-site-safety-image-dataset-roboflow\\test\\images\\autox3_mp4-187_jpg.rf.8340e2bd65afade3fb0d3194eadc5796.jpg: 640x640 4 NO-Safety Vests, 5 Safety Cones, 18.0ms\n",
      "image 31/82 c:\\kaggle\\input\\construction-site-safety-image-dataset-roboflow\\test\\images\\autox3_mp4-277_jpg.rf.a5ed8fd043fe7e1d8682768880b6d4db.jpg: 640x640 2 NO-Safety Vests, 8 Safety Cones, 14.3ms\n",
      "image 32/82 c:\\kaggle\\input\\construction-site-safety-image-dataset-roboflow\\test\\images\\autox3_mp4-65_jpg.rf.d933ce48947fa9bdb55dc702a0879ac9.jpg: 640x640 4 NO-Safety Vests, 3 Safety Cones, 13.9ms\n",
      "image 33/82 c:\\kaggle\\input\\construction-site-safety-image-dataset-roboflow\\test\\images\\autox_mp4-44_jpg.rf.5048603ee6ccedf9ae6e3f787b7f82ff.jpg: 640x640 1 NO-Safety Vest, 2 Persons, 14 Safety Cones, 1 vehicle, 10.5ms\n",
      "image 34/82 c:\\kaggle\\input\\construction-site-safety-image-dataset-roboflow\\test\\images\\bookstore_44_08_flickr_jpg.rf.244b6f308c529933af798c4063e58601.jpg: 640x640 1 NO-Safety Vest, 1 machinery, 10.0ms\n",
      "image 35/82 c:\\kaggle\\input\\construction-site-safety-image-dataset-roboflow\\test\\images\\class1_150_jpg.rf.5995dce34d38deb9eb0b6e36cae78f17.jpg: 640x640 1 Hardhat, 1 NO-Hardhat, 2 NO-Safety Vests, 2 Persons, 14.5ms\n",
      "image 36/82 c:\\kaggle\\input\\construction-site-safety-image-dataset-roboflow\\test\\images\\class2_131_jpg.rf.ad8314a9273471f1280ce8789ea75376.jpg: 640x640 1 NO-Safety Vest, 1 Person, 20.2ms\n",
      "image 37/82 c:\\kaggle\\input\\construction-site-safety-image-dataset-roboflow\\test\\images\\class2_145_jpg.rf.b8ed5a5357ee41f8fb1aa9b01a400d51.jpg: 640x640 1 Hardhat, 3 NO-Hardhats, 1 NO-Safety Vest, 2 Persons, 16.0ms\n",
      "image 38/82 c:\\kaggle\\input\\construction-site-safety-image-dataset-roboflow\\test\\images\\construction-1159-_jpg.rf.9f3172102a34edb157b556a73931c831.jpg: 640x640 1 machinery, 20.0ms\n",
      "image 39/82 c:\\kaggle\\input\\construction-site-safety-image-dataset-roboflow\\test\\images\\construction-192-_jpg.rf.56dd5c4c1396c6ad01be4fbec3bca46f.jpg: 640x640 (no detections), 12.2ms\n",
      "image 40/82 c:\\kaggle\\input\\construction-site-safety-image-dataset-roboflow\\test\\images\\construction-2-_mp4-13_jpg.rf.cef0975976346515d438e0c2ce6c59db.jpg: 640x640 4 machinerys, 12.5ms\n",
      "image 41/82 c:\\kaggle\\input\\construction-site-safety-image-dataset-roboflow\\test\\images\\construction-2-_mp4-162_jpg.rf.efad5f15524c736fe03b9c9936adc481.jpg: 640x640 1 machinery, 16.0ms\n",
      "image 42/82 c:\\kaggle\\input\\construction-site-safety-image-dataset-roboflow\\test\\images\\construction-2-_mp4-84_jpg.rf.e8d6bb0acc5c6e82c1a2d260ddf3135e.jpg: 640x640 3 machinerys, 17.9ms\n",
      "image 43/82 c:\\kaggle\\input\\construction-site-safety-image-dataset-roboflow\\test\\images\\construction-275-_jpg.rf.e1c57987f9dc262aad1d7c67b694fd87.jpg: 640x640 2 NO-Safety Vests, 1 machinery, 15.2ms\n",
      "image 44/82 c:\\kaggle\\input\\construction-site-safety-image-dataset-roboflow\\test\\images\\construction-597-_jpg.rf.e18e918aae0aeecfdf8348513636d344.jpg: 640x640 1 machinery, 11.8ms\n",
      "image 45/82 c:\\kaggle\\input\\construction-site-safety-image-dataset-roboflow\\test\\images\\construction-639-_jpg.rf.7db2168ad99f643f7e3070733387e3bb.jpg: 640x640 1 NO-Safety Vest, 12.1ms\n",
      "image 46/82 c:\\kaggle\\input\\construction-site-safety-image-dataset-roboflow\\test\\images\\construction-651-_jpg.rf.8fa283ce7693dbdf29eb98384f24cb85.jpg: 640x640 1 Person, 1 machinery, 17.6ms\n",
      "image 47/82 c:\\kaggle\\input\\construction-site-safety-image-dataset-roboflow\\test\\images\\construction-675-_jpg.rf.bb4a05441be707256175e04929da3478.jpg: 640x640 1 Person, 2 machinerys, 18.4ms\n",
      "image 48/82 c:\\kaggle\\input\\construction-site-safety-image-dataset-roboflow\\test\\images\\construction-800-_jpg.rf.a01fcddd0db9cc89c0cacf4af88c468d.jpg: 640x640 1 machinery, 13.7ms\n",
      "image 49/82 c:\\kaggle\\input\\construction-site-safety-image-dataset-roboflow\\test\\images\\construction-843-_jpg.rf.c0ca85a10f6ad3c1375b37e52a51eeed.jpg: 640x640 1 NO-Safety Vest, 10.4ms\n",
      "image 50/82 c:\\kaggle\\input\\construction-site-safety-image-dataset-roboflow\\test\\images\\image_53_jpg.rf.3446e366b5d4d905a32e1aedc8fe87de.jpg: 640x640 1 Hardhat, 1 Mask, 2 Persons, 1 Safety Vest, 16.0ms\n",
      "image 51/82 c:\\kaggle\\input\\construction-site-safety-image-dataset-roboflow\\test\\images\\image_55_jpg.rf.27ae4341a9b9647d73a8929ff7a22369.jpg: 640x640 1 Hardhat, 1 Mask, 1 NO-Mask, 1 Person, 1 Safety Vest, 1 vehicle, 20.7ms\n",
      "image 52/82 c:\\kaggle\\input\\construction-site-safety-image-dataset-roboflow\\test\\images\\ka_01181_png_jpg.rf.154ee4ef254eabd62e316be50470c578.jpg: 640x640 2 NO-Safety Vests, 4 Persons, 5 Safety Cones, 2 vehicles, 22.0ms\n",
      "image 53/82 c:\\kaggle\\input\\construction-site-safety-image-dataset-roboflow\\test\\images\\librairie_51_jpg.rf.56b0500ae2ad3820b4286133b627e59c.jpg: 640x640 (no detections), 20.2ms\n",
      "image 54/82 c:\\kaggle\\input\\construction-site-safety-image-dataset-roboflow\\test\\images\\maksssksksss17_png_jpg.rf.f685b497756b1facbf3d4c2d2d22c0d2.jpg: 640x640 1 Mask, 1 NO-Hardhat, 3 NO-Safety Vests, 1 Person, 14.8ms\n",
      "image 55/82 c:\\kaggle\\input\\construction-site-safety-image-dataset-roboflow\\test\\images\\ppe_0018_jpg.rf.be66fabcc8627f60d963454b5a227095.jpg: 640x640 2 Hardhats, 5 NO-Masks, 3 NO-Safety Vests, 2 Persons, 15.4ms\n",
      "image 56/82 c:\\kaggle\\input\\construction-site-safety-image-dataset-roboflow\\test\\images\\ppe_1073_jpg.rf.72ea8a293a4f3e1135219e33701b1099.jpg: 640x640 6 Hardhats, 2 NO-Hardhats, 12 NO-Masks, 5 NO-Safety Vests, 10 Persons, 6 Safety Vests, 15.4ms\n",
      "image 57/82 c:\\kaggle\\input\\construction-site-safety-image-dataset-roboflow\\test\\images\\thumbnail-ba5c72edb320b49a69e86b05775c49b2-scaled-1_jpeg_jpg.rf.3bb460e284098219861b894fb0db13d5.jpg: 640x640 4 Masks, 13 NO-Hardhats, 8 NO-Masks, 12 NO-Safety Vests, 12 Persons, 1 Safety Vest, 10.0ms\n",
      "image 58/82 c:\\kaggle\\input\\construction-site-safety-image-dataset-roboflow\\test\\images\\youtube-108_jpg.rf.9dc7ed5f816f07d520f3dbfaad08d40f.jpg: 640x640 2 Hardhats, 3 NO-Masks, 3 NO-Safety Vests, 5 Persons, 1 Safety Vest, 19.6ms\n",
      "image 59/82 c:\\kaggle\\input\\construction-site-safety-image-dataset-roboflow\\test\\images\\youtube-114_jpg.rf.5e02b6574ace1f4b3689befbc5051cd0.jpg: 640x640 1 NO-Mask, 1 NO-Safety Vest, 2 machinerys, 12.0ms\n",
      "image 60/82 c:\\kaggle\\input\\construction-site-safety-image-dataset-roboflow\\test\\images\\youtube-126_jpg.rf.786824e90daf3276130ca73ca610a8da.jpg: 640x640 2 NO-Hardhats, 3 NO-Masks, 2 NO-Safety Vests, 2 Persons, 2 machinerys, 15.0ms\n",
      "image 61/82 c:\\kaggle\\input\\construction-site-safety-image-dataset-roboflow\\test\\images\\youtube-152_jpg.rf.9147878e3ddda845e58f7d9c041f1338.jpg: 640x640 3 machinerys, 2 vehicles, 18.9ms\n",
      "image 62/82 c:\\kaggle\\input\\construction-site-safety-image-dataset-roboflow\\test\\images\\youtube-186_jpg.rf.1f1d93447d4be3233c22c4ce9f6e0601.jpg: 640x640 4 NO-Safety Vests, 2 Persons, 16.8ms\n",
      "image 63/82 c:\\kaggle\\input\\construction-site-safety-image-dataset-roboflow\\test\\images\\youtube-192_jpg.rf.93bea040de8cd55f34ffb12f6ffe30b1.jpg: 640x640 1 NO-Hardhat, 2 NO-Safety Vests, 3 Persons, 20.0ms\n",
      "image 64/82 c:\\kaggle\\input\\construction-site-safety-image-dataset-roboflow\\test\\images\\youtube-198_jpg.rf.e89faeb9765c6bd6cece5434d140f4af.jpg: 640x640 (no detections), 16.8ms\n",
      "image 65/82 c:\\kaggle\\input\\construction-site-safety-image-dataset-roboflow\\test\\images\\youtube-213_jpg.rf.da70b1d8cefd3cc9d56e43bb88dfb67d.jpg: 640x640 1 Hardhat, 2 Persons, 1 Safety Vest, 16.2ms\n",
      "image 66/82 c:\\kaggle\\input\\construction-site-safety-image-dataset-roboflow\\test\\images\\youtube-237_jpg.rf.d07a927721fe259757237c3706ea22e5.jpg: 640x640 2 Hardhats, 5 NO-Safety Vests, 6 Persons, 2 Safety Vests, 3 machinerys, 4 vehicles, 14.9ms\n",
      "image 67/82 c:\\kaggle\\input\\construction-site-safety-image-dataset-roboflow\\test\\images\\youtube-253_jpg.rf.5ad0a2d701e20141940508b809584856.jpg: 640x640 (no detections), 20.2ms\n",
      "image 68/82 c:\\kaggle\\input\\construction-site-safety-image-dataset-roboflow\\test\\images\\youtube-263_jpg.rf.374e343e12ead395440dbd81417e1be9.jpg: 640x640 4 Persons, 2 Safety Cones, 1 Safety Vest, 1 machinery, 6 vehicles, 18.6ms\n",
      "image 69/82 c:\\kaggle\\input\\construction-site-safety-image-dataset-roboflow\\test\\images\\youtube-263_jpg.rf.bb17b89dd2ec9a090ce53b728f48865e.jpg: 640x640 1 Hardhat, 1 NO-Safety Vest, 2 Persons, 20.7ms\n",
      "image 70/82 c:\\kaggle\\input\\construction-site-safety-image-dataset-roboflow\\test\\images\\youtube-34_jpg.rf.03eacc444bae3c5caa3fef5c736c3e40.jpg: 640x640 2 Persons, 1 machinery, 1 vehicle, 18.4ms\n",
      "image 71/82 c:\\kaggle\\input\\construction-site-safety-image-dataset-roboflow\\test\\images\\youtube-388_jpg.rf.18caa1da4f818a65f73e48463cb2270e.jpg: 640x640 2 machinerys, 20.1ms\n",
      "image 72/82 c:\\kaggle\\input\\construction-site-safety-image-dataset-roboflow\\test\\images\\youtube-462_jpg.rf.df73aa5089a04b8fbf3adf9d614a6740.jpg: 640x640 3 NO-Safety Vests, 1 Safety Cone, 1 vehicle, 10.0ms\n",
      "image 73/82 c:\\kaggle\\input\\construction-site-safety-image-dataset-roboflow\\test\\images\\youtube-471_jpg.rf.4296b7bd9a5a07753077beddbcd651bf.jpg: 640x640 2 NO-Safety Vests, 1 Safety Vest, 19.4ms\n",
      "image 74/82 c:\\kaggle\\input\\construction-site-safety-image-dataset-roboflow\\test\\images\\youtube-472_jpg.rf.e9425ff40c0df2beeef70abbc2324956.jpg: 640x640 2 NO-Safety Vests, 1 Safety Vest, 15.3ms\n",
      "image 75/82 c:\\kaggle\\input\\construction-site-safety-image-dataset-roboflow\\test\\images\\youtube-496_jpg.rf.def4e9964e9a354d0a02f4ac14334a73.jpg: 640x640 2 NO-Safety Vests, 1 Person, 16.3ms\n",
      "image 76/82 c:\\kaggle\\input\\construction-site-safety-image-dataset-roboflow\\test\\images\\youtube-510_jpg.rf.62f82e36d134d53587edb48f291986f4.jpg: 640x640 1 NO-Safety Vest, 10.5ms\n",
      "image 77/82 c:\\kaggle\\input\\construction-site-safety-image-dataset-roboflow\\test\\images\\youtube-53_jpg.rf.e96f8f81389f4e63a79663095680a617.jpg: 640x640 1 Hardhat, 2 NO-Safety Vests, 2 Persons, 2 vehicles, 18.6ms\n",
      "image 78/82 c:\\kaggle\\input\\construction-site-safety-image-dataset-roboflow\\test\\images\\youtube-596_jpg.rf.11a8a4ac01d8aadb80eeb0406dfa579a.jpg: 640x640 1 NO-Mask, 1 NO-Safety Vest, 1 Person, 10.0ms\n",
      "image 79/82 c:\\kaggle\\input\\construction-site-safety-image-dataset-roboflow\\test\\images\\youtube-631_jpg.rf.7c6ecf859c1b0a659f8ea057ad27aebd.jpg: 640x640 3 NO-Safety Vests, 1 Person, 20.0ms\n",
      "image 80/82 c:\\kaggle\\input\\construction-site-safety-image-dataset-roboflow\\test\\images\\youtube-671_jpg.rf.7b08643d6754cabe6caf2b49a963de47.jpg: 640x640 2 NO-Safety Vests, 4 Safety Cones, 17.3ms\n",
      "image 81/82 c:\\kaggle\\input\\construction-site-safety-image-dataset-roboflow\\test\\images\\youtube-738_jpg.rf.6f300b76e12b325f7c373c95ef319005.jpg: 640x640 1 Hardhat, 1 Person, 18.6ms\n",
      "image 82/82 c:\\kaggle\\input\\construction-site-safety-image-dataset-roboflow\\test\\images\\youtube-840_jpg.rf.974a83a7c5aee7c16e83435b043c6d96.jpg: 640x640 1 Hardhat, 2 NO-Masks, 2 Safety Vests, 1 machinery, 1 vehicle, 20.0ms\n",
      "Speed: 1.8ms preprocess, 16.1ms inference, 2.4ms postprocess per image at shape (1, 3, 640, 640)\n",
      "Results saved to \u001b[1mruns\\detect\\predict4\u001b[0m\n"
     ]
    }
   ],
   "source": [
    "detection_results = trained_detection_model.predict(source=os.path.join(data_path, 'test/images'), save=True)"
   ]
  },
  {
   "cell_type": "code",
   "execution_count": 11,
   "metadata": {},
   "outputs": [],
   "source": [
    "save_dir = '/kaggle/working/runs/tracking'"
   ]
  },
  {
   "cell_type": "code",
   "execution_count": 12,
   "metadata": {},
   "outputs": [
    {
     "name": "stdout",
     "output_type": "stream",
     "text": [
      "\n",
      "\n",
      "WARNING  inference results will accumulate in RAM unless `stream=True` is passed, causing potential out-of-memory\n",
      "errors for large sources or long-running streams and videos. See https://docs.ultralytics.com/modes/predict/ for help.\n",
      "\n",
      "Example:\n",
      "    results = model(source=..., stream=True)  # generator of Results objects\n",
      "    for r in results:\n",
      "        boxes = r.boxes  # Boxes object for bbox outputs\n",
      "        masks = r.masks  # Masks object for segment masks outputs\n",
      "        probs = r.probs  # Class probabilities for classification outputs\n",
      "\n",
      "video 1/1 (frame 1/648) c:\\kaggle\\input\\construction-site-safety-image-dataset-roboflow\\source_files\\source_files\\indianworkers.mp4: 384x640 3 Persons, 2 Safety Vests, 119.1ms\n",
      "video 1/1 (frame 2/648) c:\\kaggle\\input\\construction-site-safety-image-dataset-roboflow\\source_files\\source_files\\indianworkers.mp4: 384x640 3 Persons, 2 Safety Vests, 10.0ms\n",
      "video 1/1 (frame 3/648) c:\\kaggle\\input\\construction-site-safety-image-dataset-roboflow\\source_files\\source_files\\indianworkers.mp4: 384x640 3 Persons, 2 Safety Vests, 20.0ms\n",
      "video 1/1 (frame 4/648) c:\\kaggle\\input\\construction-site-safety-image-dataset-roboflow\\source_files\\source_files\\indianworkers.mp4: 384x640 3 Persons, 2 Safety Vests, 10.0ms\n",
      "video 1/1 (frame 5/648) c:\\kaggle\\input\\construction-site-safety-image-dataset-roboflow\\source_files\\source_files\\indianworkers.mp4: 384x640 3 Persons, 3 Safety Vests, 14.1ms\n",
      "video 1/1 (frame 6/648) c:\\kaggle\\input\\construction-site-safety-image-dataset-roboflow\\source_files\\source_files\\indianworkers.mp4: 384x640 3 Persons, 3 Safety Vests, 10.0ms\n",
      "video 1/1 (frame 7/648) c:\\kaggle\\input\\construction-site-safety-image-dataset-roboflow\\source_files\\source_files\\indianworkers.mp4: 384x640 3 Persons, 2 Safety Vests, 22.0ms\n",
      "video 1/1 (frame 8/648) c:\\kaggle\\input\\construction-site-safety-image-dataset-roboflow\\source_files\\source_files\\indianworkers.mp4: 384x640 3 Persons, 2 Safety Vests, 10.0ms\n",
      "video 1/1 (frame 9/648) c:\\kaggle\\input\\construction-site-safety-image-dataset-roboflow\\source_files\\source_files\\indianworkers.mp4: 384x640 3 Persons, 2 Safety Vests, 10.0ms\n",
      "video 1/1 (frame 10/648) c:\\kaggle\\input\\construction-site-safety-image-dataset-roboflow\\source_files\\source_files\\indianworkers.mp4: 384x640 3 Persons, 2 Safety Vests, 17.9ms\n",
      "video 1/1 (frame 11/648) c:\\kaggle\\input\\construction-site-safety-image-dataset-roboflow\\source_files\\source_files\\indianworkers.mp4: 384x640 3 Persons, 3 Safety Vests, 10.1ms\n",
      "video 1/1 (frame 12/648) c:\\kaggle\\input\\construction-site-safety-image-dataset-roboflow\\source_files\\source_files\\indianworkers.mp4: 384x640 3 Persons, 3 Safety Vests, 20.0ms\n",
      "video 1/1 (frame 13/648) c:\\kaggle\\input\\construction-site-safety-image-dataset-roboflow\\source_files\\source_files\\indianworkers.mp4: 384x640 3 Persons, 3 Safety Vests, 17.2ms\n",
      "video 1/1 (frame 14/648) c:\\kaggle\\input\\construction-site-safety-image-dataset-roboflow\\source_files\\source_files\\indianworkers.mp4: 384x640 3 Persons, 4 Safety Vests, 14.7ms\n",
      "video 1/1 (frame 15/648) c:\\kaggle\\input\\construction-site-safety-image-dataset-roboflow\\source_files\\source_files\\indianworkers.mp4: 384x640 3 Persons, 4 Safety Vests, 10.1ms\n",
      "video 1/1 (frame 16/648) c:\\kaggle\\input\\construction-site-safety-image-dataset-roboflow\\source_files\\source_files\\indianworkers.mp4: 384x640 3 Persons, 4 Safety Vests, 10.0ms\n",
      "video 1/1 (frame 17/648) c:\\kaggle\\input\\construction-site-safety-image-dataset-roboflow\\source_files\\source_files\\indianworkers.mp4: 384x640 3 Persons, 3 Safety Vests, 10.0ms\n",
      "video 1/1 (frame 18/648) c:\\kaggle\\input\\construction-site-safety-image-dataset-roboflow\\source_files\\source_files\\indianworkers.mp4: 384x640 3 Persons, 4 Safety Vests, 10.0ms\n",
      "video 1/1 (frame 19/648) c:\\kaggle\\input\\construction-site-safety-image-dataset-roboflow\\source_files\\source_files\\indianworkers.mp4: 384x640 3 Persons, 4 Safety Vests, 10.0ms\n",
      "video 1/1 (frame 20/648) c:\\kaggle\\input\\construction-site-safety-image-dataset-roboflow\\source_files\\source_files\\indianworkers.mp4: 384x640 3 Persons, 4 Safety Vests, 10.0ms\n",
      "video 1/1 (frame 21/648) c:\\kaggle\\input\\construction-site-safety-image-dataset-roboflow\\source_files\\source_files\\indianworkers.mp4: 384x640 3 Persons, 4 Safety Vests, 10.1ms\n",
      "video 1/1 (frame 22/648) c:\\kaggle\\input\\construction-site-safety-image-dataset-roboflow\\source_files\\source_files\\indianworkers.mp4: 384x640 3 Persons, 4 Safety Vests, 10.0ms\n",
      "video 1/1 (frame 23/648) c:\\kaggle\\input\\construction-site-safety-image-dataset-roboflow\\source_files\\source_files\\indianworkers.mp4: 384x640 3 Persons, 4 Safety Vests, 10.1ms\n",
      "video 1/1 (frame 24/648) c:\\kaggle\\input\\construction-site-safety-image-dataset-roboflow\\source_files\\source_files\\indianworkers.mp4: 384x640 3 Persons, 4 Safety Vests, 9.6ms\n",
      "video 1/1 (frame 25/648) c:\\kaggle\\input\\construction-site-safety-image-dataset-roboflow\\source_files\\source_files\\indianworkers.mp4: 384x640 3 Persons, 4 Safety Vests, 10.0ms\n",
      "video 1/1 (frame 26/648) c:\\kaggle\\input\\construction-site-safety-image-dataset-roboflow\\source_files\\source_files\\indianworkers.mp4: 384x640 3 Persons, 4 Safety Vests, 17.3ms\n",
      "video 1/1 (frame 27/648) c:\\kaggle\\input\\construction-site-safety-image-dataset-roboflow\\source_files\\source_files\\indianworkers.mp4: 384x640 3 Persons, 4 Safety Vests, 10.0ms\n",
      "video 1/1 (frame 28/648) c:\\kaggle\\input\\construction-site-safety-image-dataset-roboflow\\source_files\\source_files\\indianworkers.mp4: 384x640 3 Persons, 3 Safety Vests, 20.0ms\n",
      "video 1/1 (frame 29/648) c:\\kaggle\\input\\construction-site-safety-image-dataset-roboflow\\source_files\\source_files\\indianworkers.mp4: 384x640 1 NO-Safety Vest, 3 Persons, 2 Safety Vests, 10.1ms\n",
      "video 1/1 (frame 30/648) c:\\kaggle\\input\\construction-site-safety-image-dataset-roboflow\\source_files\\source_files\\indianworkers.mp4: 384x640 1 NO-Safety Vest, 3 Persons, 1 Safety Vest, 20.0ms\n",
      "video 1/1 (frame 31/648) c:\\kaggle\\input\\construction-site-safety-image-dataset-roboflow\\source_files\\source_files\\indianworkers.mp4: 384x640 1 NO-Safety Vest, 3 Persons, 2 Safety Vests, 10.0ms\n",
      "video 1/1 (frame 32/648) c:\\kaggle\\input\\construction-site-safety-image-dataset-roboflow\\source_files\\source_files\\indianworkers.mp4: 384x640 1 NO-Safety Vest, 3 Persons, 2 Safety Vests, 10.0ms\n",
      "video 1/1 (frame 33/648) c:\\kaggle\\input\\construction-site-safety-image-dataset-roboflow\\source_files\\source_files\\indianworkers.mp4: 384x640 1 NO-Safety Vest, 3 Persons, 2 Safety Vests, 10.0ms\n",
      "video 1/1 (frame 34/648) c:\\kaggle\\input\\construction-site-safety-image-dataset-roboflow\\source_files\\source_files\\indianworkers.mp4: 384x640 1 NO-Safety Vest, 4 Persons, 2 Safety Vests, 20.1ms\n",
      "video 1/1 (frame 35/648) c:\\kaggle\\input\\construction-site-safety-image-dataset-roboflow\\source_files\\source_files\\indianworkers.mp4: 384x640 1 NO-Safety Vest, 3 Persons, 3 Safety Vests, 20.0ms\n",
      "video 1/1 (frame 36/648) c:\\kaggle\\input\\construction-site-safety-image-dataset-roboflow\\source_files\\source_files\\indianworkers.mp4: 384x640 1 NO-Safety Vest, 3 Persons, 3 Safety Vests, 20.0ms\n",
      "video 1/1 (frame 37/648) c:\\kaggle\\input\\construction-site-safety-image-dataset-roboflow\\source_files\\source_files\\indianworkers.mp4: 384x640 1 NO-Safety Vest, 3 Persons, 3 Safety Vests, 5.4ms\n",
      "video 1/1 (frame 38/648) c:\\kaggle\\input\\construction-site-safety-image-dataset-roboflow\\source_files\\source_files\\indianworkers.mp4: 384x640 1 NO-Safety Vest, 3 Persons, 3 Safety Vests, 10.1ms\n",
      "video 1/1 (frame 39/648) c:\\kaggle\\input\\construction-site-safety-image-dataset-roboflow\\source_files\\source_files\\indianworkers.mp4: 384x640 1 NO-Safety Vest, 3 Persons, 3 Safety Vests, 10.0ms\n",
      "video 1/1 (frame 40/648) c:\\kaggle\\input\\construction-site-safety-image-dataset-roboflow\\source_files\\source_files\\indianworkers.mp4: 384x640 1 NO-Safety Vest, 3 Persons, 3 Safety Vests, 20.0ms\n",
      "video 1/1 (frame 41/648) c:\\kaggle\\input\\construction-site-safety-image-dataset-roboflow\\source_files\\source_files\\indianworkers.mp4: 384x640 1 NO-Safety Vest, 3 Persons, 4 Safety Vests, 10.0ms\n",
      "video 1/1 (frame 42/648) c:\\kaggle\\input\\construction-site-safety-image-dataset-roboflow\\source_files\\source_files\\indianworkers.mp4: 384x640 1 NO-Safety Vest, 4 Persons, 3 Safety Vests, 20.0ms\n",
      "video 1/1 (frame 43/648) c:\\kaggle\\input\\construction-site-safety-image-dataset-roboflow\\source_files\\source_files\\indianworkers.mp4: 384x640 1 NO-Safety Vest, 4 Persons, 3 Safety Vests, 14.3ms\n",
      "video 1/1 (frame 44/648) c:\\kaggle\\input\\construction-site-safety-image-dataset-roboflow\\source_files\\source_files\\indianworkers.mp4: 384x640 1 NO-Safety Vest, 4 Persons, 3 Safety Vests, 20.0ms\n",
      "video 1/1 (frame 45/648) c:\\kaggle\\input\\construction-site-safety-image-dataset-roboflow\\source_files\\source_files\\indianworkers.mp4: 384x640 1 NO-Safety Vest, 4 Persons, 3 Safety Vests, 10.0ms\n",
      "video 1/1 (frame 46/648) c:\\kaggle\\input\\construction-site-safety-image-dataset-roboflow\\source_files\\source_files\\indianworkers.mp4: 384x640 1 NO-Safety Vest, 4 Persons, 3 Safety Vests, 20.0ms\n",
      "video 1/1 (frame 47/648) c:\\kaggle\\input\\construction-site-safety-image-dataset-roboflow\\source_files\\source_files\\indianworkers.mp4: 384x640 1 NO-Safety Vest, 4 Persons, 3 Safety Vests, 10.1ms\n",
      "video 1/1 (frame 48/648) c:\\kaggle\\input\\construction-site-safety-image-dataset-roboflow\\source_files\\source_files\\indianworkers.mp4: 384x640 1 NO-Safety Vest, 4 Persons, 3 Safety Vests, 17.7ms\n",
      "video 1/1 (frame 49/648) c:\\kaggle\\input\\construction-site-safety-image-dataset-roboflow\\source_files\\source_files\\indianworkers.mp4: 384x640 1 Hardhat, 1 NO-Safety Vest, 3 Persons, 4 Safety Vests, 10.0ms\n",
      "video 1/1 (frame 50/648) c:\\kaggle\\input\\construction-site-safety-image-dataset-roboflow\\source_files\\source_files\\indianworkers.mp4: 384x640 1 Hardhat, 1 NO-Safety Vest, 3 Persons, 4 Safety Vests, 20.0ms\n",
      "video 1/1 (frame 51/648) c:\\kaggle\\input\\construction-site-safety-image-dataset-roboflow\\source_files\\source_files\\indianworkers.mp4: 384x640 1 Hardhat, 4 Persons, 4 Safety Vests, 14.4ms\n",
      "video 1/1 (frame 52/648) c:\\kaggle\\input\\construction-site-safety-image-dataset-roboflow\\source_files\\source_files\\indianworkers.mp4: 384x640 1 Hardhat, 4 Persons, 3 Safety Vests, 10.0ms\n",
      "video 1/1 (frame 53/648) c:\\kaggle\\input\\construction-site-safety-image-dataset-roboflow\\source_files\\source_files\\indianworkers.mp4: 384x640 1 Hardhat, 4 Persons, 3 Safety Vests, 10.0ms\n",
      "video 1/1 (frame 54/648) c:\\kaggle\\input\\construction-site-safety-image-dataset-roboflow\\source_files\\source_files\\indianworkers.mp4: 384x640 1 Hardhat, 4 Persons, 3 Safety Vests, 21.2ms\n",
      "video 1/1 (frame 55/648) c:\\kaggle\\input\\construction-site-safety-image-dataset-roboflow\\source_files\\source_files\\indianworkers.mp4: 384x640 1 Hardhat, 4 Persons, 3 Safety Vests, 20.0ms\n",
      "video 1/1 (frame 56/648) c:\\kaggle\\input\\construction-site-safety-image-dataset-roboflow\\source_files\\source_files\\indianworkers.mp4: 384x640 1 Hardhat, 4 Persons, 3 Safety Vests, 8.5ms\n",
      "video 1/1 (frame 57/648) c:\\kaggle\\input\\construction-site-safety-image-dataset-roboflow\\source_files\\source_files\\indianworkers.mp4: 384x640 1 Hardhat, 4 Persons, 3 Safety Vests, 10.0ms\n",
      "video 1/1 (frame 58/648) c:\\kaggle\\input\\construction-site-safety-image-dataset-roboflow\\source_files\\source_files\\indianworkers.mp4: 384x640 1 Hardhat, 1 NO-Safety Vest, 3 Persons, 3 Safety Vests, 16.1ms\n",
      "video 1/1 (frame 59/648) c:\\kaggle\\input\\construction-site-safety-image-dataset-roboflow\\source_files\\source_files\\indianworkers.mp4: 384x640 1 Hardhat, 3 Persons, 4 Safety Vests, 10.0ms\n",
      "video 1/1 (frame 60/648) c:\\kaggle\\input\\construction-site-safety-image-dataset-roboflow\\source_files\\source_files\\indianworkers.mp4: 384x640 1 Hardhat, 3 Persons, 4 Safety Vests, 20.0ms\n",
      "video 1/1 (frame 61/648) c:\\kaggle\\input\\construction-site-safety-image-dataset-roboflow\\source_files\\source_files\\indianworkers.mp4: 384x640 1 Hardhat, 3 Persons, 3 Safety Vests, 10.0ms\n",
      "video 1/1 (frame 62/648) c:\\kaggle\\input\\construction-site-safety-image-dataset-roboflow\\source_files\\source_files\\indianworkers.mp4: 384x640 1 Hardhat, 3 Persons, 3 Safety Vests, 20.0ms\n",
      "video 1/1 (frame 63/648) c:\\kaggle\\input\\construction-site-safety-image-dataset-roboflow\\source_files\\source_files\\indianworkers.mp4: 384x640 1 Hardhat, 3 Persons, 3 Safety Vests, 10.0ms\n",
      "video 1/1 (frame 64/648) c:\\kaggle\\input\\construction-site-safety-image-dataset-roboflow\\source_files\\source_files\\indianworkers.mp4: 384x640 3 Persons, 3 Safety Vests, 14.7ms\n",
      "video 1/1 (frame 65/648) c:\\kaggle\\input\\construction-site-safety-image-dataset-roboflow\\source_files\\source_files\\indianworkers.mp4: 384x640 4 Persons, 3 Safety Vests, 8.9ms\n",
      "video 1/1 (frame 66/648) c:\\kaggle\\input\\construction-site-safety-image-dataset-roboflow\\source_files\\source_files\\indianworkers.mp4: 384x640 4 Persons, 3 Safety Vests, 20.0ms\n",
      "video 1/1 (frame 67/648) c:\\kaggle\\input\\construction-site-safety-image-dataset-roboflow\\source_files\\source_files\\indianworkers.mp4: 384x640 4 Persons, 2 Safety Vests, 10.1ms\n",
      "video 1/1 (frame 68/648) c:\\kaggle\\input\\construction-site-safety-image-dataset-roboflow\\source_files\\source_files\\indianworkers.mp4: 384x640 4 Persons, 2 Safety Vests, 10.0ms\n",
      "video 1/1 (frame 69/648) c:\\kaggle\\input\\construction-site-safety-image-dataset-roboflow\\source_files\\source_files\\indianworkers.mp4: 384x640 4 Persons, 2 Safety Vests, 20.0ms\n",
      "video 1/1 (frame 70/648) c:\\kaggle\\input\\construction-site-safety-image-dataset-roboflow\\source_files\\source_files\\indianworkers.mp4: 384x640 4 Persons, 2 Safety Vests, 16.5ms\n",
      "video 1/1 (frame 71/648) c:\\kaggle\\input\\construction-site-safety-image-dataset-roboflow\\source_files\\source_files\\indianworkers.mp4: 384x640 4 Persons, 2 Safety Vests, 10.0ms\n",
      "video 1/1 (frame 72/648) c:\\kaggle\\input\\construction-site-safety-image-dataset-roboflow\\source_files\\source_files\\indianworkers.mp4: 384x640 4 Persons, 3 Safety Vests, 10.0ms\n",
      "video 1/1 (frame 73/648) c:\\kaggle\\input\\construction-site-safety-image-dataset-roboflow\\source_files\\source_files\\indianworkers.mp4: 384x640 4 Persons, 3 Safety Vests, 8.7ms\n",
      "video 1/1 (frame 74/648) c:\\kaggle\\input\\construction-site-safety-image-dataset-roboflow\\source_files\\source_files\\indianworkers.mp4: 384x640 4 Persons, 3 Safety Vests, 11.2ms\n",
      "video 1/1 (frame 75/648) c:\\kaggle\\input\\construction-site-safety-image-dataset-roboflow\\source_files\\source_files\\indianworkers.mp4: 384x640 4 Persons, 2 Safety Vests, 10.0ms\n",
      "video 1/1 (frame 76/648) c:\\kaggle\\input\\construction-site-safety-image-dataset-roboflow\\source_files\\source_files\\indianworkers.mp4: 384x640 4 Persons, 2 Safety Vests, 20.0ms\n",
      "video 1/1 (frame 77/648) c:\\kaggle\\input\\construction-site-safety-image-dataset-roboflow\\source_files\\source_files\\indianworkers.mp4: 384x640 4 Persons, 2 Safety Vests, 14.1ms\n",
      "video 1/1 (frame 78/648) c:\\kaggle\\input\\construction-site-safety-image-dataset-roboflow\\source_files\\source_files\\indianworkers.mp4: 384x640 4 Persons, 3 Safety Vests, 21.5ms\n",
      "video 1/1 (frame 79/648) c:\\kaggle\\input\\construction-site-safety-image-dataset-roboflow\\source_files\\source_files\\indianworkers.mp4: 384x640 1 Hardhat, 4 Persons, 2 Safety Vests, 10.0ms\n",
      "video 1/1 (frame 80/648) c:\\kaggle\\input\\construction-site-safety-image-dataset-roboflow\\source_files\\source_files\\indianworkers.mp4: 384x640 1 Hardhat, 4 Persons, 3 Safety Vests, 10.1ms\n",
      "video 1/1 (frame 81/648) c:\\kaggle\\input\\construction-site-safety-image-dataset-roboflow\\source_files\\source_files\\indianworkers.mp4: 384x640 1 Hardhat, 4 Persons, 2 Safety Vests, 20.0ms\n",
      "video 1/1 (frame 82/648) c:\\kaggle\\input\\construction-site-safety-image-dataset-roboflow\\source_files\\source_files\\indianworkers.mp4: 384x640 1 Hardhat, 4 Persons, 3 Safety Vests, 10.0ms\n",
      "video 1/1 (frame 83/648) c:\\kaggle\\input\\construction-site-safety-image-dataset-roboflow\\source_files\\source_files\\indianworkers.mp4: 384x640 1 Hardhat, 3 Persons, 3 Safety Vests, 16.9ms\n",
      "video 1/1 (frame 84/648) c:\\kaggle\\input\\construction-site-safety-image-dataset-roboflow\\source_files\\source_files\\indianworkers.mp4: 384x640 1 Hardhat, 3 Persons, 3 Safety Vests, 20.0ms\n",
      "video 1/1 (frame 85/648) c:\\kaggle\\input\\construction-site-safety-image-dataset-roboflow\\source_files\\source_files\\indianworkers.mp4: 384x640 1 Hardhat, 3 Persons, 3 Safety Vests, 9.3ms\n",
      "video 1/1 (frame 86/648) c:\\kaggle\\input\\construction-site-safety-image-dataset-roboflow\\source_files\\source_files\\indianworkers.mp4: 384x640 1 Hardhat, 3 Persons, 2 Safety Vests, 10.0ms\n",
      "video 1/1 (frame 87/648) c:\\kaggle\\input\\construction-site-safety-image-dataset-roboflow\\source_files\\source_files\\indianworkers.mp4: 384x640 1 Hardhat, 3 Persons, 2 Safety Vests, 16.5ms\n",
      "video 1/1 (frame 88/648) c:\\kaggle\\input\\construction-site-safety-image-dataset-roboflow\\source_files\\source_files\\indianworkers.mp4: 384x640 1 Hardhat, 3 Persons, 2 Safety Vests, 11.8ms\n",
      "video 1/1 (frame 89/648) c:\\kaggle\\input\\construction-site-safety-image-dataset-roboflow\\source_files\\source_files\\indianworkers.mp4: 384x640 1 Hardhat, 3 Persons, 2 Safety Vests, 10.5ms\n",
      "video 1/1 (frame 90/648) c:\\kaggle\\input\\construction-site-safety-image-dataset-roboflow\\source_files\\source_files\\indianworkers.mp4: 384x640 1 Hardhat, 3 Persons, 3 Safety Vests, 10.3ms\n",
      "video 1/1 (frame 91/648) c:\\kaggle\\input\\construction-site-safety-image-dataset-roboflow\\source_files\\source_files\\indianworkers.mp4: 384x640 2 Hardhats, 3 Persons, 3 Safety Vests, 20.1ms\n",
      "video 1/1 (frame 92/648) c:\\kaggle\\input\\construction-site-safety-image-dataset-roboflow\\source_files\\source_files\\indianworkers.mp4: 384x640 2 Hardhats, 3 Persons, 3 Safety Vests, 11.0ms\n",
      "video 1/1 (frame 93/648) c:\\kaggle\\input\\construction-site-safety-image-dataset-roboflow\\source_files\\source_files\\indianworkers.mp4: 384x640 2 Hardhats, 3 Persons, 3 Safety Vests, 10.0ms\n",
      "video 1/1 (frame 94/648) c:\\kaggle\\input\\construction-site-safety-image-dataset-roboflow\\source_files\\source_files\\indianworkers.mp4: 384x640 2 Hardhats, 4 Persons, 3 Safety Vests, 13.7ms\n",
      "video 1/1 (frame 95/648) c:\\kaggle\\input\\construction-site-safety-image-dataset-roboflow\\source_files\\source_files\\indianworkers.mp4: 384x640 2 Hardhats, 4 Persons, 3 Safety Vests, 20.0ms\n",
      "video 1/1 (frame 96/648) c:\\kaggle\\input\\construction-site-safety-image-dataset-roboflow\\source_files\\source_files\\indianworkers.mp4: 384x640 2 Hardhats, 4 Persons, 3 Safety Vests, 20.0ms\n",
      "video 1/1 (frame 97/648) c:\\kaggle\\input\\construction-site-safety-image-dataset-roboflow\\source_files\\source_files\\indianworkers.mp4: 384x640 2 Hardhats, 4 Persons, 3 Safety Vests, 10.0ms\n",
      "video 1/1 (frame 98/648) c:\\kaggle\\input\\construction-site-safety-image-dataset-roboflow\\source_files\\source_files\\indianworkers.mp4: 384x640 2 Hardhats, 4 Persons, 3 Safety Vests, 18.1ms\n",
      "video 1/1 (frame 99/648) c:\\kaggle\\input\\construction-site-safety-image-dataset-roboflow\\source_files\\source_files\\indianworkers.mp4: 384x640 2 Hardhats, 4 Persons, 3 Safety Vests, 18.4ms\n",
      "video 1/1 (frame 100/648) c:\\kaggle\\input\\construction-site-safety-image-dataset-roboflow\\source_files\\source_files\\indianworkers.mp4: 384x640 2 Hardhats, 4 Persons, 3 Safety Vests, 21.7ms\n",
      "video 1/1 (frame 101/648) c:\\kaggle\\input\\construction-site-safety-image-dataset-roboflow\\source_files\\source_files\\indianworkers.mp4: 384x640 2 Hardhats, 4 Persons, 3 Safety Vests, 17.9ms\n",
      "video 1/1 (frame 102/648) c:\\kaggle\\input\\construction-site-safety-image-dataset-roboflow\\source_files\\source_files\\indianworkers.mp4: 384x640 2 Hardhats, 4 Persons, 3 Safety Vests, 10.1ms\n",
      "video 1/1 (frame 103/648) c:\\kaggle\\input\\construction-site-safety-image-dataset-roboflow\\source_files\\source_files\\indianworkers.mp4: 384x640 2 Hardhats, 4 Persons, 3 Safety Vests, 8.0ms\n",
      "video 1/1 (frame 104/648) c:\\kaggle\\input\\construction-site-safety-image-dataset-roboflow\\source_files\\source_files\\indianworkers.mp4: 384x640 2 Hardhats, 4 Persons, 3 Safety Vests, 7.9ms\n",
      "video 1/1 (frame 105/648) c:\\kaggle\\input\\construction-site-safety-image-dataset-roboflow\\source_files\\source_files\\indianworkers.mp4: 384x640 2 Hardhats, 4 Persons, 3 Safety Vests, 13.3ms\n",
      "video 1/1 (frame 106/648) c:\\kaggle\\input\\construction-site-safety-image-dataset-roboflow\\source_files\\source_files\\indianworkers.mp4: 384x640 2 Hardhats, 4 Persons, 3 Safety Vests, 14.8ms\n",
      "video 1/1 (frame 107/648) c:\\kaggle\\input\\construction-site-safety-image-dataset-roboflow\\source_files\\source_files\\indianworkers.mp4: 384x640 2 Hardhats, 4 Persons, 3 Safety Vests, 10.1ms\n",
      "video 1/1 (frame 108/648) c:\\kaggle\\input\\construction-site-safety-image-dataset-roboflow\\source_files\\source_files\\indianworkers.mp4: 384x640 2 Hardhats, 4 Persons, 3 Safety Vests, 10.0ms\n",
      "video 1/1 (frame 109/648) c:\\kaggle\\input\\construction-site-safety-image-dataset-roboflow\\source_files\\source_files\\indianworkers.mp4: 384x640 2 Hardhats, 4 Persons, 3 Safety Vests, 10.0ms\n",
      "video 1/1 (frame 110/648) c:\\kaggle\\input\\construction-site-safety-image-dataset-roboflow\\source_files\\source_files\\indianworkers.mp4: 384x640 2 Hardhats, 5 Persons, 2 Safety Vests, 20.0ms\n",
      "video 1/1 (frame 111/648) c:\\kaggle\\input\\construction-site-safety-image-dataset-roboflow\\source_files\\source_files\\indianworkers.mp4: 384x640 2 Hardhats, 5 Persons, 2 Safety Vests, 20.0ms\n",
      "video 1/1 (frame 112/648) c:\\kaggle\\input\\construction-site-safety-image-dataset-roboflow\\source_files\\source_files\\indianworkers.mp4: 384x640 2 Hardhats, 5 Persons, 2 Safety Vests, 20.0ms\n",
      "video 1/1 (frame 113/648) c:\\kaggle\\input\\construction-site-safety-image-dataset-roboflow\\source_files\\source_files\\indianworkers.mp4: 384x640 2 Hardhats, 5 Persons, 2 Safety Vests, 20.0ms\n",
      "video 1/1 (frame 114/648) c:\\kaggle\\input\\construction-site-safety-image-dataset-roboflow\\source_files\\source_files\\indianworkers.mp4: 384x640 2 Hardhats, 5 Persons, 2 Safety Vests, 10.0ms\n",
      "video 1/1 (frame 115/648) c:\\kaggle\\input\\construction-site-safety-image-dataset-roboflow\\source_files\\source_files\\indianworkers.mp4: 384x640 2 Hardhats, 5 Persons, 2 Safety Vests, 20.0ms\n",
      "video 1/1 (frame 116/648) c:\\kaggle\\input\\construction-site-safety-image-dataset-roboflow\\source_files\\source_files\\indianworkers.mp4: 384x640 2 Hardhats, 5 Persons, 2 Safety Vests, 10.1ms\n",
      "video 1/1 (frame 117/648) c:\\kaggle\\input\\construction-site-safety-image-dataset-roboflow\\source_files\\source_files\\indianworkers.mp4: 384x640 2 Hardhats, 5 Persons, 2 Safety Vests, 14.1ms\n",
      "video 1/1 (frame 118/648) c:\\kaggle\\input\\construction-site-safety-image-dataset-roboflow\\source_files\\source_files\\indianworkers.mp4: 384x640 2 Hardhats, 5 Persons, 2 Safety Vests, 10.0ms\n",
      "video 1/1 (frame 119/648) c:\\kaggle\\input\\construction-site-safety-image-dataset-roboflow\\source_files\\source_files\\indianworkers.mp4: 384x640 2 Hardhats, 4 Persons, 2 Safety Vests, 16.1ms\n",
      "video 1/1 (frame 120/648) c:\\kaggle\\input\\construction-site-safety-image-dataset-roboflow\\source_files\\source_files\\indianworkers.mp4: 384x640 2 Hardhats, 3 Persons, 2 Safety Vests, 20.0ms\n",
      "video 1/1 (frame 121/648) c:\\kaggle\\input\\construction-site-safety-image-dataset-roboflow\\source_files\\source_files\\indianworkers.mp4: 384x640 1 Hardhat, 1 NO-Hardhat, 4 Persons, 2 Safety Vests, 19.9ms\n",
      "video 1/1 (frame 122/648) c:\\kaggle\\input\\construction-site-safety-image-dataset-roboflow\\source_files\\source_files\\indianworkers.mp4: 384x640 2 Hardhats, 4 Persons, 2 Safety Vests, 20.0ms\n",
      "video 1/1 (frame 123/648) c:\\kaggle\\input\\construction-site-safety-image-dataset-roboflow\\source_files\\source_files\\indianworkers.mp4: 384x640 2 Hardhats, 4 Persons, 2 Safety Vests, 20.0ms\n",
      "video 1/1 (frame 124/648) c:\\kaggle\\input\\construction-site-safety-image-dataset-roboflow\\source_files\\source_files\\indianworkers.mp4: 384x640 1 Hardhat, 1 NO-Hardhat, 4 Persons, 3 Safety Vests, 15.2ms\n",
      "video 1/1 (frame 125/648) c:\\kaggle\\input\\construction-site-safety-image-dataset-roboflow\\source_files\\source_files\\indianworkers.mp4: 384x640 1 Hardhat, 1 NO-Hardhat, 3 Persons, 3 Safety Vests, 20.0ms\n",
      "video 1/1 (frame 126/648) c:\\kaggle\\input\\construction-site-safety-image-dataset-roboflow\\source_files\\source_files\\indianworkers.mp4: 384x640 2 Hardhats, 3 Persons, 3 Safety Vests, 20.0ms\n",
      "video 1/1 (frame 127/648) c:\\kaggle\\input\\construction-site-safety-image-dataset-roboflow\\source_files\\source_files\\indianworkers.mp4: 384x640 2 Hardhats, 3 Persons, 3 Safety Vests, 10.0ms\n",
      "video 1/1 (frame 128/648) c:\\kaggle\\input\\construction-site-safety-image-dataset-roboflow\\source_files\\source_files\\indianworkers.mp4: 384x640 2 Hardhats, 3 Persons, 3 Safety Vests, 10.0ms\n",
      "video 1/1 (frame 129/648) c:\\kaggle\\input\\construction-site-safety-image-dataset-roboflow\\source_files\\source_files\\indianworkers.mp4: 384x640 2 Hardhats, 3 Persons, 3 Safety Vests, 10.0ms\n",
      "video 1/1 (frame 130/648) c:\\kaggle\\input\\construction-site-safety-image-dataset-roboflow\\source_files\\source_files\\indianworkers.mp4: 384x640 2 Hardhats, 3 Persons, 3 Safety Vests, 19.1ms\n",
      "video 1/1 (frame 131/648) c:\\kaggle\\input\\construction-site-safety-image-dataset-roboflow\\source_files\\source_files\\indianworkers.mp4: 384x640 2 Hardhats, 3 Persons, 3 Safety Vests, 17.1ms\n",
      "video 1/1 (frame 132/648) c:\\kaggle\\input\\construction-site-safety-image-dataset-roboflow\\source_files\\source_files\\indianworkers.mp4: 384x640 2 Hardhats, 3 Persons, 3 Safety Vests, 20.0ms\n",
      "video 1/1 (frame 133/648) c:\\kaggle\\input\\construction-site-safety-image-dataset-roboflow\\source_files\\source_files\\indianworkers.mp4: 384x640 2 Hardhats, 3 Persons, 3 Safety Vests, 17.0ms\n",
      "video 1/1 (frame 134/648) c:\\kaggle\\input\\construction-site-safety-image-dataset-roboflow\\source_files\\source_files\\indianworkers.mp4: 384x640 2 Hardhats, 3 Persons, 3 Safety Vests, 14.5ms\n",
      "video 1/1 (frame 135/648) c:\\kaggle\\input\\construction-site-safety-image-dataset-roboflow\\source_files\\source_files\\indianworkers.mp4: 384x640 2 Hardhats, 3 Persons, 2 Safety Vests, 10.0ms\n",
      "video 1/1 (frame 136/648) c:\\kaggle\\input\\construction-site-safety-image-dataset-roboflow\\source_files\\source_files\\indianworkers.mp4: 384x640 1 Hardhat, 1 NO-Hardhat, 3 Persons, 3 Safety Vests, 10.0ms\n",
      "video 1/1 (frame 137/648) c:\\kaggle\\input\\construction-site-safety-image-dataset-roboflow\\source_files\\source_files\\indianworkers.mp4: 384x640 1 Hardhat, 1 NO-Hardhat, 3 Persons, 3 Safety Vests, 10.0ms\n",
      "video 1/1 (frame 138/648) c:\\kaggle\\input\\construction-site-safety-image-dataset-roboflow\\source_files\\source_files\\indianworkers.mp4: 384x640 1 Hardhat, 1 NO-Hardhat, 3 Persons, 3 Safety Vests, 20.0ms\n",
      "video 1/1 (frame 139/648) c:\\kaggle\\input\\construction-site-safety-image-dataset-roboflow\\source_files\\source_files\\indianworkers.mp4: 384x640 1 Hardhat, 1 NO-Hardhat, 3 Persons, 3 Safety Vests, 10.0ms\n",
      "video 1/1 (frame 140/648) c:\\kaggle\\input\\construction-site-safety-image-dataset-roboflow\\source_files\\source_files\\indianworkers.mp4: 384x640 2 Hardhats, 3 Persons, 3 Safety Vests, 10.0ms\n",
      "video 1/1 (frame 141/648) c:\\kaggle\\input\\construction-site-safety-image-dataset-roboflow\\source_files\\source_files\\indianworkers.mp4: 384x640 2 Hardhats, 3 Persons, 3 Safety Vests, 10.0ms\n",
      "video 1/1 (frame 142/648) c:\\kaggle\\input\\construction-site-safety-image-dataset-roboflow\\source_files\\source_files\\indianworkers.mp4: 384x640 2 Hardhats, 3 Persons, 3 Safety Vests, 20.0ms\n",
      "video 1/1 (frame 143/648) c:\\kaggle\\input\\construction-site-safety-image-dataset-roboflow\\source_files\\source_files\\indianworkers.mp4: 384x640 2 Hardhats, 3 Persons, 3 Safety Vests, 10.1ms\n",
      "video 1/1 (frame 144/648) c:\\kaggle\\input\\construction-site-safety-image-dataset-roboflow\\source_files\\source_files\\indianworkers.mp4: 384x640 2 Hardhats, 3 Persons, 3 Safety Vests, 20.0ms\n",
      "video 1/1 (frame 145/648) c:\\kaggle\\input\\construction-site-safety-image-dataset-roboflow\\source_files\\source_files\\indianworkers.mp4: 384x640 2 Hardhats, 3 Persons, 3 Safety Vests, 20.0ms\n",
      "video 1/1 (frame 146/648) c:\\kaggle\\input\\construction-site-safety-image-dataset-roboflow\\source_files\\source_files\\indianworkers.mp4: 384x640 2 Hardhats, 3 Persons, 3 Safety Vests, 20.0ms\n",
      "video 1/1 (frame 147/648) c:\\kaggle\\input\\construction-site-safety-image-dataset-roboflow\\source_files\\source_files\\indianworkers.mp4: 384x640 2 Hardhats, 3 Persons, 3 Safety Vests, 13.9ms\n",
      "video 1/1 (frame 148/648) c:\\kaggle\\input\\construction-site-safety-image-dataset-roboflow\\source_files\\source_files\\indianworkers.mp4: 384x640 2 Hardhats, 3 Persons, 3 Safety Vests, 10.0ms\n",
      "video 1/1 (frame 149/648) c:\\kaggle\\input\\construction-site-safety-image-dataset-roboflow\\source_files\\source_files\\indianworkers.mp4: 384x640 2 Hardhats, 3 Persons, 3 Safety Vests, 10.0ms\n",
      "video 1/1 (frame 150/648) c:\\kaggle\\input\\construction-site-safety-image-dataset-roboflow\\source_files\\source_files\\indianworkers.mp4: 384x640 2 Hardhats, 3 Persons, 3 Safety Vests, 20.0ms\n",
      "video 1/1 (frame 151/648) c:\\kaggle\\input\\construction-site-safety-image-dataset-roboflow\\source_files\\source_files\\indianworkers.mp4: 384x640 2 Hardhats, 3 Persons, 3 Safety Vests, 10.0ms\n",
      "video 1/1 (frame 152/648) c:\\kaggle\\input\\construction-site-safety-image-dataset-roboflow\\source_files\\source_files\\indianworkers.mp4: 384x640 2 Hardhats, 3 Persons, 3 Safety Vests, 10.0ms\n",
      "video 1/1 (frame 153/648) c:\\kaggle\\input\\construction-site-safety-image-dataset-roboflow\\source_files\\source_files\\indianworkers.mp4: 384x640 2 Hardhats, 3 Persons, 3 Safety Vests, 10.0ms\n",
      "video 1/1 (frame 154/648) c:\\kaggle\\input\\construction-site-safety-image-dataset-roboflow\\source_files\\source_files\\indianworkers.mp4: 384x640 2 Hardhats, 3 Persons, 3 Safety Vests, 10.0ms\n",
      "video 1/1 (frame 155/648) c:\\kaggle\\input\\construction-site-safety-image-dataset-roboflow\\source_files\\source_files\\indianworkers.mp4: 384x640 2 Hardhats, 3 Persons, 3 Safety Vests, 9.9ms\n",
      "video 1/1 (frame 156/648) c:\\kaggle\\input\\construction-site-safety-image-dataset-roboflow\\source_files\\source_files\\indianworkers.mp4: 384x640 2 Hardhats, 3 Persons, 3 Safety Vests, 14.6ms\n",
      "video 1/1 (frame 157/648) c:\\kaggle\\input\\construction-site-safety-image-dataset-roboflow\\source_files\\source_files\\indianworkers.mp4: 384x640 1 Hardhat, 3 Persons, 4 Safety Vests, 20.0ms\n",
      "video 1/1 (frame 158/648) c:\\kaggle\\input\\construction-site-safety-image-dataset-roboflow\\source_files\\source_files\\indianworkers.mp4: 384x640 1 Hardhat, 3 Persons, 4 Safety Vests, 17.7ms\n",
      "video 1/1 (frame 159/648) c:\\kaggle\\input\\construction-site-safety-image-dataset-roboflow\\source_files\\source_files\\indianworkers.mp4: 384x640 2 Hardhats, 3 Persons, 4 Safety Vests, 10.0ms\n",
      "video 1/1 (frame 160/648) c:\\kaggle\\input\\construction-site-safety-image-dataset-roboflow\\source_files\\source_files\\indianworkers.mp4: 384x640 2 Hardhats, 3 Persons, 4 Safety Vests, 7.9ms\n",
      "video 1/1 (frame 161/648) c:\\kaggle\\input\\construction-site-safety-image-dataset-roboflow\\source_files\\source_files\\indianworkers.mp4: 384x640 2 Hardhats, 3 Persons, 3 Safety Vests, 10.0ms\n",
      "video 1/1 (frame 162/648) c:\\kaggle\\input\\construction-site-safety-image-dataset-roboflow\\source_files\\source_files\\indianworkers.mp4: 384x640 2 Hardhats, 3 Persons, 3 Safety Vests, 19.5ms\n",
      "video 1/1 (frame 163/648) c:\\kaggle\\input\\construction-site-safety-image-dataset-roboflow\\source_files\\source_files\\indianworkers.mp4: 384x640 2 Hardhats, 3 Persons, 3 Safety Vests, 20.0ms\n",
      "video 1/1 (frame 164/648) c:\\kaggle\\input\\construction-site-safety-image-dataset-roboflow\\source_files\\source_files\\indianworkers.mp4: 384x640 2 Hardhats, 3 Persons, 4 Safety Vests, 10.0ms\n",
      "video 1/1 (frame 165/648) c:\\kaggle\\input\\construction-site-safety-image-dataset-roboflow\\source_files\\source_files\\indianworkers.mp4: 384x640 2 Hardhats, 4 Persons, 3 Safety Vests, 20.0ms\n",
      "video 1/1 (frame 166/648) c:\\kaggle\\input\\construction-site-safety-image-dataset-roboflow\\source_files\\source_files\\indianworkers.mp4: 384x640 2 Hardhats, 4 Persons, 3 Safety Vests, 20.0ms\n",
      "video 1/1 (frame 167/648) c:\\kaggle\\input\\construction-site-safety-image-dataset-roboflow\\source_files\\source_files\\indianworkers.mp4: 384x640 2 Hardhats, 4 Persons, 3 Safety Vests, 10.0ms\n",
      "video 1/1 (frame 168/648) c:\\kaggle\\input\\construction-site-safety-image-dataset-roboflow\\source_files\\source_files\\indianworkers.mp4: 384x640 2 Hardhats, 4 Persons, 3 Safety Vests, 19.6ms\n",
      "video 1/1 (frame 169/648) c:\\kaggle\\input\\construction-site-safety-image-dataset-roboflow\\source_files\\source_files\\indianworkers.mp4: 384x640 1 Hardhat, 4 Persons, 4 Safety Vests, 10.1ms\n",
      "video 1/1 (frame 170/648) c:\\kaggle\\input\\construction-site-safety-image-dataset-roboflow\\source_files\\source_files\\indianworkers.mp4: 384x640 2 Hardhats, 4 Persons, 4 Safety Vests, 12.0ms\n",
      "video 1/1 (frame 171/648) c:\\kaggle\\input\\construction-site-safety-image-dataset-roboflow\\source_files\\source_files\\indianworkers.mp4: 384x640 2 Hardhats, 4 Persons, 4 Safety Vests, 20.0ms\n",
      "video 1/1 (frame 172/648) c:\\kaggle\\input\\construction-site-safety-image-dataset-roboflow\\source_files\\source_files\\indianworkers.mp4: 384x640 2 Hardhats, 4 Persons, 4 Safety Vests, 14.5ms\n",
      "video 1/1 (frame 173/648) c:\\kaggle\\input\\construction-site-safety-image-dataset-roboflow\\source_files\\source_files\\indianworkers.mp4: 384x640 4 Persons, 4 Safety Vests, 10.0ms\n",
      "video 1/1 (frame 174/648) c:\\kaggle\\input\\construction-site-safety-image-dataset-roboflow\\source_files\\source_files\\indianworkers.mp4: 384x640 1 Hardhat, 4 Persons, 3 Safety Vests, 10.0ms\n",
      "video 1/1 (frame 175/648) c:\\kaggle\\input\\construction-site-safety-image-dataset-roboflow\\source_files\\source_files\\indianworkers.mp4: 384x640 1 Hardhat, 4 Persons, 3 Safety Vests, 19.5ms\n",
      "video 1/1 (frame 176/648) c:\\kaggle\\input\\construction-site-safety-image-dataset-roboflow\\source_files\\source_files\\indianworkers.mp4: 384x640 1 Hardhat, 4 Persons, 2 Safety Vests, 13.6ms\n",
      "video 1/1 (frame 177/648) c:\\kaggle\\input\\construction-site-safety-image-dataset-roboflow\\source_files\\source_files\\indianworkers.mp4: 384x640 1 Hardhat, 4 Persons, 2 Safety Vests, 14.7ms\n",
      "video 1/1 (frame 178/648) c:\\kaggle\\input\\construction-site-safety-image-dataset-roboflow\\source_files\\source_files\\indianworkers.mp4: 384x640 1 Hardhat, 4 Persons, 2 Safety Vests, 14.9ms\n",
      "video 1/1 (frame 179/648) c:\\kaggle\\input\\construction-site-safety-image-dataset-roboflow\\source_files\\source_files\\indianworkers.mp4: 384x640 2 Hardhats, 4 Persons, 2 Safety Vests, 10.0ms\n",
      "video 1/1 (frame 180/648) c:\\kaggle\\input\\construction-site-safety-image-dataset-roboflow\\source_files\\source_files\\indianworkers.mp4: 384x640 2 Hardhats, 4 Persons, 2 Safety Vests, 17.2ms\n",
      "video 1/1 (frame 181/648) c:\\kaggle\\input\\construction-site-safety-image-dataset-roboflow\\source_files\\source_files\\indianworkers.mp4: 384x640 1 Hardhat, 4 Persons, 3 Safety Vests, 10.1ms\n",
      "video 1/1 (frame 182/648) c:\\kaggle\\input\\construction-site-safety-image-dataset-roboflow\\source_files\\source_files\\indianworkers.mp4: 384x640 1 Hardhat, 4 Persons, 3 Safety Vests, 10.1ms\n",
      "video 1/1 (frame 183/648) c:\\kaggle\\input\\construction-site-safety-image-dataset-roboflow\\source_files\\source_files\\indianworkers.mp4: 384x640 2 Hardhats, 4 Persons, 2 Safety Vests, 10.0ms\n",
      "video 1/1 (frame 184/648) c:\\kaggle\\input\\construction-site-safety-image-dataset-roboflow\\source_files\\source_files\\indianworkers.mp4: 384x640 2 Hardhats, 4 Persons, 2 Safety Vests, 20.0ms\n",
      "video 1/1 (frame 185/648) c:\\kaggle\\input\\construction-site-safety-image-dataset-roboflow\\source_files\\source_files\\indianworkers.mp4: 384x640 2 Hardhats, 4 Persons, 2 Safety Vests, 10.0ms\n",
      "video 1/1 (frame 186/648) c:\\kaggle\\input\\construction-site-safety-image-dataset-roboflow\\source_files\\source_files\\indianworkers.mp4: 384x640 2 Hardhats, 4 Persons, 2 Safety Vests, 20.0ms\n",
      "video 1/1 (frame 187/648) c:\\kaggle\\input\\construction-site-safety-image-dataset-roboflow\\source_files\\source_files\\indianworkers.mp4: 384x640 2 Hardhats, 4 Persons, 2 Safety Vests, 21.3ms\n",
      "video 1/1 (frame 188/648) c:\\kaggle\\input\\construction-site-safety-image-dataset-roboflow\\source_files\\source_files\\indianworkers.mp4: 384x640 2 Hardhats, 4 Persons, 2 Safety Vests, 20.0ms\n",
      "video 1/1 (frame 189/648) c:\\kaggle\\input\\construction-site-safety-image-dataset-roboflow\\source_files\\source_files\\indianworkers.mp4: 384x640 2 Hardhats, 4 Persons, 2 Safety Vests, 10.0ms\n",
      "video 1/1 (frame 190/648) c:\\kaggle\\input\\construction-site-safety-image-dataset-roboflow\\source_files\\source_files\\indianworkers.mp4: 384x640 2 Hardhats, 4 Persons, 2 Safety Vests, 10.0ms\n",
      "video 1/1 (frame 191/648) c:\\kaggle\\input\\construction-site-safety-image-dataset-roboflow\\source_files\\source_files\\indianworkers.mp4: 384x640 2 Hardhats, 4 Persons, 2 Safety Vests, 10.0ms\n",
      "video 1/1 (frame 192/648) c:\\kaggle\\input\\construction-site-safety-image-dataset-roboflow\\source_files\\source_files\\indianworkers.mp4: 384x640 2 Hardhats, 4 Persons, 2 Safety Vests, 20.6ms\n",
      "video 1/1 (frame 193/648) c:\\kaggle\\input\\construction-site-safety-image-dataset-roboflow\\source_files\\source_files\\indianworkers.mp4: 384x640 1 Hardhat, 4 Persons, 2 Safety Vests, 10.0ms\n",
      "video 1/1 (frame 194/648) c:\\kaggle\\input\\construction-site-safety-image-dataset-roboflow\\source_files\\source_files\\indianworkers.mp4: 384x640 1 Hardhat, 4 Persons, 2 Safety Vests, 10.0ms\n",
      "video 1/1 (frame 195/648) c:\\kaggle\\input\\construction-site-safety-image-dataset-roboflow\\source_files\\source_files\\indianworkers.mp4: 384x640 1 Hardhat, 4 Persons, 2 Safety Vests, 10.1ms\n",
      "video 1/1 (frame 196/648) c:\\kaggle\\input\\construction-site-safety-image-dataset-roboflow\\source_files\\source_files\\indianworkers.mp4: 384x640 1 Hardhat, 4 Persons, 2 Safety Vests, 20.0ms\n",
      "video 1/1 (frame 197/648) c:\\kaggle\\input\\construction-site-safety-image-dataset-roboflow\\source_files\\source_files\\indianworkers.mp4: 384x640 1 Hardhat, 4 Persons, 2 Safety Vests, 17.7ms\n",
      "video 1/1 (frame 198/648) c:\\kaggle\\input\\construction-site-safety-image-dataset-roboflow\\source_files\\source_files\\indianworkers.mp4: 384x640 1 Hardhat, 4 Persons, 2 Safety Vests, 10.0ms\n",
      "video 1/1 (frame 199/648) c:\\kaggle\\input\\construction-site-safety-image-dataset-roboflow\\source_files\\source_files\\indianworkers.mp4: 384x640 4 Persons, 3 Safety Vests, 10.0ms\n",
      "video 1/1 (frame 200/648) c:\\kaggle\\input\\construction-site-safety-image-dataset-roboflow\\source_files\\source_files\\indianworkers.mp4: 384x640 4 Persons, 3 Safety Vests, 20.1ms\n",
      "video 1/1 (frame 201/648) c:\\kaggle\\input\\construction-site-safety-image-dataset-roboflow\\source_files\\source_files\\indianworkers.mp4: 384x640 1 NO-Safety Vest, 4 Persons, 2 Safety Vests, 10.1ms\n",
      "video 1/1 (frame 202/648) c:\\kaggle\\input\\construction-site-safety-image-dataset-roboflow\\source_files\\source_files\\indianworkers.mp4: 384x640 1 NO-Safety Vest, 3 Persons, 3 Safety Vests, 20.0ms\n",
      "video 1/1 (frame 203/648) c:\\kaggle\\input\\construction-site-safety-image-dataset-roboflow\\source_files\\source_files\\indianworkers.mp4: 384x640 1 NO-Safety Vest, 3 Persons, 3 Safety Vests, 10.0ms\n",
      "video 1/1 (frame 204/648) c:\\kaggle\\input\\construction-site-safety-image-dataset-roboflow\\source_files\\source_files\\indianworkers.mp4: 384x640 1 NO-Safety Vest, 3 Persons, 3 Safety Vests, 10.0ms\n",
      "video 1/1 (frame 205/648) c:\\kaggle\\input\\construction-site-safety-image-dataset-roboflow\\source_files\\source_files\\indianworkers.mp4: 384x640 1 NO-Safety Vest, 3 Persons, 3 Safety Vests, 8.0ms\n",
      "video 1/1 (frame 206/648) c:\\kaggle\\input\\construction-site-safety-image-dataset-roboflow\\source_files\\source_files\\indianworkers.mp4: 384x640 1 Hardhat, 1 NO-Safety Vest, 3 Persons, 3 Safety Vests, 14.9ms\n",
      "video 1/1 (frame 207/648) c:\\kaggle\\input\\construction-site-safety-image-dataset-roboflow\\source_files\\source_files\\indianworkers.mp4: 384x640 1 Hardhat, 1 NO-Safety Vest, 3 Persons, 3 Safety Vests, 5.4ms\n",
      "video 1/1 (frame 208/648) c:\\kaggle\\input\\construction-site-safety-image-dataset-roboflow\\source_files\\source_files\\indianworkers.mp4: 384x640 1 Hardhat, 1 NO-Safety Vest, 3 Persons, 3 Safety Vests, 10.0ms\n",
      "video 1/1 (frame 209/648) c:\\kaggle\\input\\construction-site-safety-image-dataset-roboflow\\source_files\\source_files\\indianworkers.mp4: 384x640 1 Hardhat, 1 NO-Safety Vest, 3 Persons, 3 Safety Vests, 10.0ms\n",
      "video 1/1 (frame 210/648) c:\\kaggle\\input\\construction-site-safety-image-dataset-roboflow\\source_files\\source_files\\indianworkers.mp4: 384x640 1 Hardhat, 1 NO-Safety Vest, 3 Persons, 3 Safety Vests, 20.0ms\n",
      "video 1/1 (frame 211/648) c:\\kaggle\\input\\construction-site-safety-image-dataset-roboflow\\source_files\\source_files\\indianworkers.mp4: 384x640 1 Hardhat, 1 NO-Safety Vest, 3 Persons, 3 Safety Vests, 10.0ms\n",
      "video 1/1 (frame 212/648) c:\\kaggle\\input\\construction-site-safety-image-dataset-roboflow\\source_files\\source_files\\indianworkers.mp4: 384x640 1 Hardhat, 1 NO-Safety Vest, 3 Persons, 3 Safety Vests, 20.0ms\n",
      "video 1/1 (frame 213/648) c:\\kaggle\\input\\construction-site-safety-image-dataset-roboflow\\source_files\\source_files\\indianworkers.mp4: 384x640 1 Hardhat, 1 NO-Safety Vest, 3 Persons, 3 Safety Vests, 20.0ms\n",
      "video 1/1 (frame 214/648) c:\\kaggle\\input\\construction-site-safety-image-dataset-roboflow\\source_files\\source_files\\indianworkers.mp4: 384x640 1 Hardhat, 1 NO-Safety Vest, 3 Persons, 3 Safety Vests, 10.0ms\n",
      "video 1/1 (frame 215/648) c:\\kaggle\\input\\construction-site-safety-image-dataset-roboflow\\source_files\\source_files\\indianworkers.mp4: 384x640 1 Hardhat, 1 NO-Safety Vest, 3 Persons, 3 Safety Vests, 13.2ms\n",
      "video 1/1 (frame 216/648) c:\\kaggle\\input\\construction-site-safety-image-dataset-roboflow\\source_files\\source_files\\indianworkers.mp4: 384x640 1 NO-Safety Vest, 3 Persons, 3 Safety Vests, 10.0ms\n",
      "video 1/1 (frame 217/648) c:\\kaggle\\input\\construction-site-safety-image-dataset-roboflow\\source_files\\source_files\\indianworkers.mp4: 384x640 1 NO-Safety Vest, 3 Persons, 3 Safety Vests, 20.0ms\n",
      "video 1/1 (frame 218/648) c:\\kaggle\\input\\construction-site-safety-image-dataset-roboflow\\source_files\\source_files\\indianworkers.mp4: 384x640 1 NO-Safety Vest, 3 Persons, 3 Safety Vests, 20.0ms\n",
      "video 1/1 (frame 219/648) c:\\kaggle\\input\\construction-site-safety-image-dataset-roboflow\\source_files\\source_files\\indianworkers.mp4: 384x640 1 NO-Safety Vest, 4 Persons, 2 Safety Vests, 10.0ms\n",
      "video 1/1 (frame 220/648) c:\\kaggle\\input\\construction-site-safety-image-dataset-roboflow\\source_files\\source_files\\indianworkers.mp4: 384x640 1 NO-Safety Vest, 4 Persons, 2 Safety Vests, 20.0ms\n",
      "video 1/1 (frame 221/648) c:\\kaggle\\input\\construction-site-safety-image-dataset-roboflow\\source_files\\source_files\\indianworkers.mp4: 384x640 4 Persons, 3 Safety Vests, 13.4ms\n",
      "video 1/1 (frame 222/648) c:\\kaggle\\input\\construction-site-safety-image-dataset-roboflow\\source_files\\source_files\\indianworkers.mp4: 384x640 4 Persons, 3 Safety Vests, 10.1ms\n",
      "video 1/1 (frame 223/648) c:\\kaggle\\input\\construction-site-safety-image-dataset-roboflow\\source_files\\source_files\\indianworkers.mp4: 384x640 4 Persons, 3 Safety Vests, 20.0ms\n",
      "video 1/1 (frame 224/648) c:\\kaggle\\input\\construction-site-safety-image-dataset-roboflow\\source_files\\source_files\\indianworkers.mp4: 384x640 4 Persons, 3 Safety Vests, 20.0ms\n",
      "video 1/1 (frame 225/648) c:\\kaggle\\input\\construction-site-safety-image-dataset-roboflow\\source_files\\source_files\\indianworkers.mp4: 384x640 4 Persons, 3 Safety Vests, 10.0ms\n",
      "video 1/1 (frame 226/648) c:\\kaggle\\input\\construction-site-safety-image-dataset-roboflow\\source_files\\source_files\\indianworkers.mp4: 384x640 4 Persons, 3 Safety Vests, 10.0ms\n",
      "video 1/1 (frame 227/648) c:\\kaggle\\input\\construction-site-safety-image-dataset-roboflow\\source_files\\source_files\\indianworkers.mp4: 384x640 4 Persons, 3 Safety Vests, 20.0ms\n",
      "video 1/1 (frame 228/648) c:\\kaggle\\input\\construction-site-safety-image-dataset-roboflow\\source_files\\source_files\\indianworkers.mp4: 384x640 1 Hardhat, 4 Persons, 3 Safety Vests, 14.3ms\n",
      "video 1/1 (frame 229/648) c:\\kaggle\\input\\construction-site-safety-image-dataset-roboflow\\source_files\\source_files\\indianworkers.mp4: 384x640 1 Hardhat, 1 NO-Safety Vest, 3 Persons, 3 Safety Vests, 10.0ms\n",
      "video 1/1 (frame 230/648) c:\\kaggle\\input\\construction-site-safety-image-dataset-roboflow\\source_files\\source_files\\indianworkers.mp4: 384x640 1 Hardhat, 1 NO-Safety Vest, 3 Persons, 3 Safety Vests, 10.0ms\n",
      "video 1/1 (frame 231/648) c:\\kaggle\\input\\construction-site-safety-image-dataset-roboflow\\source_files\\source_files\\indianworkers.mp4: 384x640 1 Hardhat, 2 NO-Safety Vests, 3 Persons, 2 Safety Vests, 14.4ms\n",
      "video 1/1 (frame 232/648) c:\\kaggle\\input\\construction-site-safety-image-dataset-roboflow\\source_files\\source_files\\indianworkers.mp4: 384x640 1 Hardhat, 2 NO-Safety Vests, 3 Persons, 2 Safety Vests, 20.0ms\n",
      "video 1/1 (frame 233/648) c:\\kaggle\\input\\construction-site-safety-image-dataset-roboflow\\source_files\\source_files\\indianworkers.mp4: 384x640 1 Hardhat, 1 NO-Safety Vest, 4 Persons, 2 Safety Vests, 10.0ms\n",
      "video 1/1 (frame 234/648) c:\\kaggle\\input\\construction-site-safety-image-dataset-roboflow\\source_files\\source_files\\indianworkers.mp4: 384x640 1 Hardhat, 1 NO-Safety Vest, 4 Persons, 2 Safety Vests, 13.8ms\n",
      "video 1/1 (frame 235/648) c:\\kaggle\\input\\construction-site-safety-image-dataset-roboflow\\source_files\\source_files\\indianworkers.mp4: 384x640 1 Hardhat, 1 NO-Safety Vest, 4 Persons, 2 Safety Vests, 14.7ms\n",
      "video 1/1 (frame 236/648) c:\\kaggle\\input\\construction-site-safety-image-dataset-roboflow\\source_files\\source_files\\indianworkers.mp4: 384x640 1 Hardhat, 4 Persons, 3 Safety Vests, 10.1ms\n",
      "video 1/1 (frame 237/648) c:\\kaggle\\input\\construction-site-safety-image-dataset-roboflow\\source_files\\source_files\\indianworkers.mp4: 384x640 1 Hardhat, 4 Persons, 3 Safety Vests, 12.0ms\n",
      "video 1/1 (frame 238/648) c:\\kaggle\\input\\construction-site-safety-image-dataset-roboflow\\source_files\\source_files\\indianworkers.mp4: 384x640 4 Persons, 3 Safety Vests, 10.0ms\n",
      "video 1/1 (frame 239/648) c:\\kaggle\\input\\construction-site-safety-image-dataset-roboflow\\source_files\\source_files\\indianworkers.mp4: 384x640 4 Persons, 3 Safety Vests, 10.0ms\n",
      "video 1/1 (frame 240/648) c:\\kaggle\\input\\construction-site-safety-image-dataset-roboflow\\source_files\\source_files\\indianworkers.mp4: 384x640 5 Persons, 2 Safety Vests, 10.8ms\n",
      "video 1/1 (frame 241/648) c:\\kaggle\\input\\construction-site-safety-image-dataset-roboflow\\source_files\\source_files\\indianworkers.mp4: 384x640 5 Persons, 2 Safety Vests, 20.0ms\n",
      "video 1/1 (frame 242/648) c:\\kaggle\\input\\construction-site-safety-image-dataset-roboflow\\source_files\\source_files\\indianworkers.mp4: 384x640 5 Persons, 2 Safety Vests, 10.0ms\n",
      "video 1/1 (frame 243/648) c:\\kaggle\\input\\construction-site-safety-image-dataset-roboflow\\source_files\\source_files\\indianworkers.mp4: 384x640 1 NO-Safety Vest, 4 Persons, 2 Safety Vests, 11.2ms\n",
      "video 1/1 (frame 244/648) c:\\kaggle\\input\\construction-site-safety-image-dataset-roboflow\\source_files\\source_files\\indianworkers.mp4: 384x640 5 Persons, 3 Safety Vests, 20.0ms\n",
      "video 1/1 (frame 245/648) c:\\kaggle\\input\\construction-site-safety-image-dataset-roboflow\\source_files\\source_files\\indianworkers.mp4: 384x640 5 Persons, 3 Safety Vests, 20.0ms\n",
      "video 1/1 (frame 246/648) c:\\kaggle\\input\\construction-site-safety-image-dataset-roboflow\\source_files\\source_files\\indianworkers.mp4: 384x640 5 Persons, 3 Safety Vests, 10.0ms\n",
      "video 1/1 (frame 247/648) c:\\kaggle\\input\\construction-site-safety-image-dataset-roboflow\\source_files\\source_files\\indianworkers.mp4: 384x640 5 Persons, 3 Safety Vests, 20.0ms\n",
      "video 1/1 (frame 248/648) c:\\kaggle\\input\\construction-site-safety-image-dataset-roboflow\\source_files\\source_files\\indianworkers.mp4: 384x640 5 Persons, 3 Safety Vests, 10.0ms\n",
      "video 1/1 (frame 249/648) c:\\kaggle\\input\\construction-site-safety-image-dataset-roboflow\\source_files\\source_files\\indianworkers.mp4: 384x640 5 Persons, 3 Safety Vests, 10.6ms\n",
      "video 1/1 (frame 250/648) c:\\kaggle\\input\\construction-site-safety-image-dataset-roboflow\\source_files\\source_files\\indianworkers.mp4: 384x640 5 Persons, 3 Safety Vests, 6.4ms\n",
      "video 1/1 (frame 251/648) c:\\kaggle\\input\\construction-site-safety-image-dataset-roboflow\\source_files\\source_files\\indianworkers.mp4: 384x640 1 NO-Safety Vest, 6 Persons, 1 Safety Vest, 10.0ms\n",
      "video 1/1 (frame 252/648) c:\\kaggle\\input\\construction-site-safety-image-dataset-roboflow\\source_files\\source_files\\indianworkers.mp4: 384x640 6 Persons, 2 Safety Vests, 15.5ms\n",
      "video 1/1 (frame 253/648) c:\\kaggle\\input\\construction-site-safety-image-dataset-roboflow\\source_files\\source_files\\indianworkers.mp4: 384x640 6 Persons, 2 Safety Vests, 11.4ms\n",
      "video 1/1 (frame 254/648) c:\\kaggle\\input\\construction-site-safety-image-dataset-roboflow\\source_files\\source_files\\indianworkers.mp4: 384x640 6 Persons, 2 Safety Vests, 20.1ms\n",
      "video 1/1 (frame 255/648) c:\\kaggle\\input\\construction-site-safety-image-dataset-roboflow\\source_files\\source_files\\indianworkers.mp4: 384x640 4 Persons, 3 Safety Vests, 20.0ms\n",
      "video 1/1 (frame 256/648) c:\\kaggle\\input\\construction-site-safety-image-dataset-roboflow\\source_files\\source_files\\indianworkers.mp4: 384x640 4 Persons, 3 Safety Vests, 20.0ms\n",
      "video 1/1 (frame 257/648) c:\\kaggle\\input\\construction-site-safety-image-dataset-roboflow\\source_files\\source_files\\indianworkers.mp4: 384x640 1 NO-Safety Vest, 5 Persons, 3 Safety Vests, 12.2ms\n",
      "video 1/1 (frame 258/648) c:\\kaggle\\input\\construction-site-safety-image-dataset-roboflow\\source_files\\source_files\\indianworkers.mp4: 384x640 1 NO-Safety Vest, 5 Persons, 3 Safety Vests, 14.9ms\n",
      "video 1/1 (frame 259/648) c:\\kaggle\\input\\construction-site-safety-image-dataset-roboflow\\source_files\\source_files\\indianworkers.mp4: 384x640 1 NO-Safety Vest, 5 Persons, 3 Safety Vests, 11.7ms\n",
      "video 1/1 (frame 260/648) c:\\kaggle\\input\\construction-site-safety-image-dataset-roboflow\\source_files\\source_files\\indianworkers.mp4: 384x640 1 NO-Safety Vest, 5 Persons, 3 Safety Vests, 18.4ms\n",
      "video 1/1 (frame 261/648) c:\\kaggle\\input\\construction-site-safety-image-dataset-roboflow\\source_files\\source_files\\indianworkers.mp4: 384x640 1 NO-Safety Vest, 5 Persons, 3 Safety Vests, 16.9ms\n",
      "video 1/1 (frame 262/648) c:\\kaggle\\input\\construction-site-safety-image-dataset-roboflow\\source_files\\source_files\\indianworkers.mp4: 384x640 1 NO-Safety Vest, 5 Persons, 3 Safety Vests, 12.8ms\n",
      "video 1/1 (frame 263/648) c:\\kaggle\\input\\construction-site-safety-image-dataset-roboflow\\source_files\\source_files\\indianworkers.mp4: 384x640 1 NO-Safety Vest, 5 Persons, 3 Safety Vests, 12.8ms\n",
      "video 1/1 (frame 264/648) c:\\kaggle\\input\\construction-site-safety-image-dataset-roboflow\\source_files\\source_files\\indianworkers.mp4: 384x640 1 NO-Safety Vest, 5 Persons, 3 Safety Vests, 9.6ms\n",
      "video 1/1 (frame 265/648) c:\\kaggle\\input\\construction-site-safety-image-dataset-roboflow\\source_files\\source_files\\indianworkers.mp4: 384x640 1 NO-Safety Vest, 5 Persons, 3 Safety Vests, 14.3ms\n",
      "video 1/1 (frame 266/648) c:\\kaggle\\input\\construction-site-safety-image-dataset-roboflow\\source_files\\source_files\\indianworkers.mp4: 384x640 6 Persons, 4 Safety Vests, 13.4ms\n",
      "video 1/1 (frame 267/648) c:\\kaggle\\input\\construction-site-safety-image-dataset-roboflow\\source_files\\source_files\\indianworkers.mp4: 384x640 1 NO-Safety Vest, 7 Persons, 3 Safety Vests, 11.3ms\n",
      "video 1/1 (frame 268/648) c:\\kaggle\\input\\construction-site-safety-image-dataset-roboflow\\source_files\\source_files\\indianworkers.mp4: 384x640 5 Persons, 4 Safety Vests, 17.5ms\n",
      "video 1/1 (frame 269/648) c:\\kaggle\\input\\construction-site-safety-image-dataset-roboflow\\source_files\\source_files\\indianworkers.mp4: 384x640 7 Persons, 3 Safety Vests, 14.2ms\n",
      "video 1/1 (frame 270/648) c:\\kaggle\\input\\construction-site-safety-image-dataset-roboflow\\source_files\\source_files\\indianworkers.mp4: 384x640 7 Persons, 3 Safety Vests, 16.0ms\n",
      "video 1/1 (frame 271/648) c:\\kaggle\\input\\construction-site-safety-image-dataset-roboflow\\source_files\\source_files\\indianworkers.mp4: 384x640 6 Persons, 3 Safety Vests, 9.9ms\n",
      "video 1/1 (frame 272/648) c:\\kaggle\\input\\construction-site-safety-image-dataset-roboflow\\source_files\\source_files\\indianworkers.mp4: 384x640 6 Persons, 3 Safety Vests, 13.3ms\n",
      "video 1/1 (frame 273/648) c:\\kaggle\\input\\construction-site-safety-image-dataset-roboflow\\source_files\\source_files\\indianworkers.mp4: 384x640 6 Persons, 3 Safety Vests, 13.5ms\n",
      "video 1/1 (frame 274/648) c:\\kaggle\\input\\construction-site-safety-image-dataset-roboflow\\source_files\\source_files\\indianworkers.mp4: 384x640 6 Persons, 3 Safety Vests, 16.0ms\n",
      "video 1/1 (frame 275/648) c:\\kaggle\\input\\construction-site-safety-image-dataset-roboflow\\source_files\\source_files\\indianworkers.mp4: 384x640 6 Persons, 4 Safety Vests, 8.0ms\n",
      "video 1/1 (frame 276/648) c:\\kaggle\\input\\construction-site-safety-image-dataset-roboflow\\source_files\\source_files\\indianworkers.mp4: 384x640 1 Hardhat, 5 Persons, 4 Safety Vests, 10.5ms\n",
      "video 1/1 (frame 277/648) c:\\kaggle\\input\\construction-site-safety-image-dataset-roboflow\\source_files\\source_files\\indianworkers.mp4: 384x640 1 Hardhat, 3 Persons, 4 Safety Vests, 17.2ms\n",
      "video 1/1 (frame 278/648) c:\\kaggle\\input\\construction-site-safety-image-dataset-roboflow\\source_files\\source_files\\indianworkers.mp4: 384x640 1 Hardhat, 3 Persons, 3 Safety Vests, 13.8ms\n",
      "video 1/1 (frame 279/648) c:\\kaggle\\input\\construction-site-safety-image-dataset-roboflow\\source_files\\source_files\\indianworkers.mp4: 384x640 1 Hardhat, 3 Persons, 3 Safety Vests, 12.7ms\n",
      "video 1/1 (frame 280/648) c:\\kaggle\\input\\construction-site-safety-image-dataset-roboflow\\source_files\\source_files\\indianworkers.mp4: 384x640 1 Hardhat, 3 Persons, 3 Safety Vests, 13.0ms\n",
      "video 1/1 (frame 281/648) c:\\kaggle\\input\\construction-site-safety-image-dataset-roboflow\\source_files\\source_files\\indianworkers.mp4: 384x640 1 Hardhat, 3 Persons, 3 Safety Vests, 11.4ms\n",
      "video 1/1 (frame 282/648) c:\\kaggle\\input\\construction-site-safety-image-dataset-roboflow\\source_files\\source_files\\indianworkers.mp4: 384x640 1 Hardhat, 3 Persons, 3 Safety Vests, 12.6ms\n",
      "video 1/1 (frame 283/648) c:\\kaggle\\input\\construction-site-safety-image-dataset-roboflow\\source_files\\source_files\\indianworkers.mp4: 384x640 1 Hardhat, 3 Persons, 3 Safety Vests, 7.0ms\n",
      "video 1/1 (frame 284/648) c:\\kaggle\\input\\construction-site-safety-image-dataset-roboflow\\source_files\\source_files\\indianworkers.mp4: 384x640 1 Hardhat, 4 Persons, 3 Safety Vests, 6.4ms\n",
      "video 1/1 (frame 285/648) c:\\kaggle\\input\\construction-site-safety-image-dataset-roboflow\\source_files\\source_files\\indianworkers.mp4: 384x640 1 Hardhat, 4 Persons, 3 Safety Vests, 13.7ms\n",
      "video 1/1 (frame 286/648) c:\\kaggle\\input\\construction-site-safety-image-dataset-roboflow\\source_files\\source_files\\indianworkers.mp4: 384x640 1 Hardhat, 3 Persons, 3 Safety Vests, 13.8ms\n",
      "video 1/1 (frame 287/648) c:\\kaggle\\input\\construction-site-safety-image-dataset-roboflow\\source_files\\source_files\\indianworkers.mp4: 384x640 1 Hardhat, 4 Persons, 3 Safety Vests, 17.7ms\n",
      "video 1/1 (frame 288/648) c:\\kaggle\\input\\construction-site-safety-image-dataset-roboflow\\source_files\\source_files\\indianworkers.mp4: 384x640 1 Hardhat, 5 Persons, 3 Safety Vests, 9.8ms\n",
      "video 1/1 (frame 289/648) c:\\kaggle\\input\\construction-site-safety-image-dataset-roboflow\\source_files\\source_files\\indianworkers.mp4: 384x640 1 Hardhat, 4 Persons, 4 Safety Vests, 15.7ms\n",
      "video 1/1 (frame 290/648) c:\\kaggle\\input\\construction-site-safety-image-dataset-roboflow\\source_files\\source_files\\indianworkers.mp4: 384x640 1 Hardhat, 1 NO-Mask, 4 Persons, 3 Safety Vests, 14.8ms\n",
      "video 1/1 (frame 291/648) c:\\kaggle\\input\\construction-site-safety-image-dataset-roboflow\\source_files\\source_files\\indianworkers.mp4: 384x640 1 Hardhat, 1 NO-Mask, 4 Persons, 3 Safety Vests, 11.1ms\n",
      "video 1/1 (frame 292/648) c:\\kaggle\\input\\construction-site-safety-image-dataset-roboflow\\source_files\\source_files\\indianworkers.mp4: 384x640 1 Hardhat, 1 NO-Mask, 4 Persons, 3 Safety Vests, 14.1ms\n",
      "video 1/1 (frame 293/648) c:\\kaggle\\input\\construction-site-safety-image-dataset-roboflow\\source_files\\source_files\\indianworkers.mp4: 384x640 1 Hardhat, 1 NO-Mask, 4 Persons, 3 Safety Vests, 13.8ms\n",
      "video 1/1 (frame 294/648) c:\\kaggle\\input\\construction-site-safety-image-dataset-roboflow\\source_files\\source_files\\indianworkers.mp4: 384x640 1 Hardhat, 1 NO-Mask, 4 Persons, 3 Safety Vests, 13.3ms\n",
      "video 1/1 (frame 295/648) c:\\kaggle\\input\\construction-site-safety-image-dataset-roboflow\\source_files\\source_files\\indianworkers.mp4: 384x640 1 Hardhat, 1 NO-Mask, 4 Persons, 2 Safety Vests, 9.7ms\n",
      "video 1/1 (frame 296/648) c:\\kaggle\\input\\construction-site-safety-image-dataset-roboflow\\source_files\\source_files\\indianworkers.mp4: 384x640 1 Hardhat, 1 NO-Mask, 4 Persons, 2 Safety Vests, 14.0ms\n",
      "video 1/1 (frame 297/648) c:\\kaggle\\input\\construction-site-safety-image-dataset-roboflow\\source_files\\source_files\\indianworkers.mp4: 384x640 1 Hardhat, 1 NO-Mask, 4 Persons, 2 Safety Vests, 19.3ms\n",
      "video 1/1 (frame 298/648) c:\\kaggle\\input\\construction-site-safety-image-dataset-roboflow\\source_files\\source_files\\indianworkers.mp4: 384x640 1 Hardhat, 1 NO-Mask, 4 Persons, 2 Safety Vests, 12.3ms\n",
      "video 1/1 (frame 299/648) c:\\kaggle\\input\\construction-site-safety-image-dataset-roboflow\\source_files\\source_files\\indianworkers.mp4: 384x640 1 Hardhat, 1 NO-Mask, 4 Persons, 2 Safety Vests, 17.7ms\n",
      "video 1/1 (frame 300/648) c:\\kaggle\\input\\construction-site-safety-image-dataset-roboflow\\source_files\\source_files\\indianworkers.mp4: 384x640 1 Hardhat, 1 NO-Mask, 4 Persons, 2 Safety Vests, 13.6ms\n",
      "video 1/1 (frame 301/648) c:\\kaggle\\input\\construction-site-safety-image-dataset-roboflow\\source_files\\source_files\\indianworkers.mp4: 384x640 1 Hardhat, 1 NO-Mask, 4 Persons, 2 Safety Vests, 14.6ms\n",
      "video 1/1 (frame 302/648) c:\\kaggle\\input\\construction-site-safety-image-dataset-roboflow\\source_files\\source_files\\indianworkers.mp4: 384x640 1 Hardhat, 1 NO-Mask, 4 Persons, 2 Safety Vests, 11.7ms\n",
      "video 1/1 (frame 303/648) c:\\kaggle\\input\\construction-site-safety-image-dataset-roboflow\\source_files\\source_files\\indianworkers.mp4: 384x640 1 Hardhat, 1 NO-Mask, 4 Persons, 2 Safety Vests, 16.6ms\n",
      "video 1/1 (frame 304/648) c:\\kaggle\\input\\construction-site-safety-image-dataset-roboflow\\source_files\\source_files\\indianworkers.mp4: 384x640 1 Hardhat, 1 NO-Mask, 4 Persons, 2 Safety Vests, 13.8ms\n",
      "video 1/1 (frame 305/648) c:\\kaggle\\input\\construction-site-safety-image-dataset-roboflow\\source_files\\source_files\\indianworkers.mp4: 384x640 1 Hardhat, 1 NO-Mask, 3 Persons, 2 Safety Vests, 16.7ms\n",
      "video 1/1 (frame 306/648) c:\\kaggle\\input\\construction-site-safety-image-dataset-roboflow\\source_files\\source_files\\indianworkers.mp4: 384x640 1 Hardhat, 1 NO-Mask, 3 Persons, 2 Safety Vests, 18.8ms\n",
      "video 1/1 (frame 307/648) c:\\kaggle\\input\\construction-site-safety-image-dataset-roboflow\\source_files\\source_files\\indianworkers.mp4: 384x640 1 Hardhat, 1 NO-Mask, 3 Persons, 2 Safety Vests, 14.4ms\n",
      "video 1/1 (frame 308/648) c:\\kaggle\\input\\construction-site-safety-image-dataset-roboflow\\source_files\\source_files\\indianworkers.mp4: 384x640 1 Hardhat, 1 NO-Mask, 3 Persons, 2 Safety Vests, 15.0ms\n",
      "video 1/1 (frame 309/648) c:\\kaggle\\input\\construction-site-safety-image-dataset-roboflow\\source_files\\source_files\\indianworkers.mp4: 384x640 1 Hardhat, 1 NO-Mask, 3 Persons, 3 Safety Vests, 14.7ms\n",
      "video 1/1 (frame 310/648) c:\\kaggle\\input\\construction-site-safety-image-dataset-roboflow\\source_files\\source_files\\indianworkers.mp4: 384x640 1 Hardhat, 1 NO-Mask, 4 Persons, 3 Safety Vests, 11.1ms\n",
      "video 1/1 (frame 311/648) c:\\kaggle\\input\\construction-site-safety-image-dataset-roboflow\\source_files\\source_files\\indianworkers.mp4: 384x640 1 Hardhat, 1 NO-Mask, 4 Persons, 3 Safety Vests, 14.8ms\n",
      "video 1/1 (frame 312/648) c:\\kaggle\\input\\construction-site-safety-image-dataset-roboflow\\source_files\\source_files\\indianworkers.mp4: 384x640 1 Hardhat, 1 NO-Mask, 4 Persons, 3 Safety Vests, 15.1ms\n",
      "video 1/1 (frame 313/648) c:\\kaggle\\input\\construction-site-safety-image-dataset-roboflow\\source_files\\source_files\\indianworkers.mp4: 384x640 1 Hardhat, 1 NO-Mask, 4 Persons, 3 Safety Vests, 14.3ms\n",
      "video 1/1 (frame 314/648) c:\\kaggle\\input\\construction-site-safety-image-dataset-roboflow\\source_files\\source_files\\indianworkers.mp4: 384x640 1 Hardhat, 1 NO-Mask, 4 Persons, 3 Safety Vests, 13.9ms\n",
      "video 1/1 (frame 315/648) c:\\kaggle\\input\\construction-site-safety-image-dataset-roboflow\\source_files\\source_files\\indianworkers.mp4: 384x640 1 Hardhat, 1 NO-Mask, 3 Persons, 3 Safety Vests, 18.8ms\n",
      "video 1/1 (frame 316/648) c:\\kaggle\\input\\construction-site-safety-image-dataset-roboflow\\source_files\\source_files\\indianworkers.mp4: 384x640 1 Hardhat, 1 NO-Mask, 4 Persons, 4 Safety Vests, 17.3ms\n",
      "video 1/1 (frame 317/648) c:\\kaggle\\input\\construction-site-safety-image-dataset-roboflow\\source_files\\source_files\\indianworkers.mp4: 384x640 1 Hardhat, 1 NO-Mask, 4 Persons, 3 Safety Vests, 14.5ms\n",
      "video 1/1 (frame 318/648) c:\\kaggle\\input\\construction-site-safety-image-dataset-roboflow\\source_files\\source_files\\indianworkers.mp4: 384x640 1 Hardhat, 1 NO-Mask, 4 Persons, 3 Safety Vests, 14.5ms\n",
      "video 1/1 (frame 319/648) c:\\kaggle\\input\\construction-site-safety-image-dataset-roboflow\\source_files\\source_files\\indianworkers.mp4: 384x640 1 Hardhat, 1 NO-Mask, 4 Persons, 2 Safety Vests, 14.0ms\n",
      "video 1/1 (frame 320/648) c:\\kaggle\\input\\construction-site-safety-image-dataset-roboflow\\source_files\\source_files\\indianworkers.mp4: 384x640 1 Hardhat, 1 NO-Mask, 4 Persons, 2 Safety Vests, 14.6ms\n",
      "video 1/1 (frame 321/648) c:\\kaggle\\input\\construction-site-safety-image-dataset-roboflow\\source_files\\source_files\\indianworkers.mp4: 384x640 1 Hardhat, 1 NO-Mask, 5 Persons, 2 Safety Vests, 14.9ms\n",
      "video 1/1 (frame 322/648) c:\\kaggle\\input\\construction-site-safety-image-dataset-roboflow\\source_files\\source_files\\indianworkers.mp4: 384x640 1 Hardhat, 1 NO-Mask, 5 Persons, 2 Safety Vests, 10.4ms\n",
      "video 1/1 (frame 323/648) c:\\kaggle\\input\\construction-site-safety-image-dataset-roboflow\\source_files\\source_files\\indianworkers.mp4: 384x640 1 Hardhat, 1 NO-Mask, 5 Persons, 2 Safety Vests, 15.1ms\n",
      "video 1/1 (frame 324/648) c:\\kaggle\\input\\construction-site-safety-image-dataset-roboflow\\source_files\\source_files\\indianworkers.mp4: 384x640 1 Hardhat, 3 Persons, 2 Safety Vests, 14.7ms\n",
      "video 1/1 (frame 325/648) c:\\kaggle\\input\\construction-site-safety-image-dataset-roboflow\\source_files\\source_files\\indianworkers.mp4: 384x640 1 Hardhat, 1 NO-Mask, 3 Persons, 2 Safety Vests, 15.4ms\n",
      "video 1/1 (frame 326/648) c:\\kaggle\\input\\construction-site-safety-image-dataset-roboflow\\source_files\\source_files\\indianworkers.mp4: 384x640 1 Hardhat, 1 NO-Mask, 4 Persons, 2 Safety Vests, 14.7ms\n",
      "video 1/1 (frame 327/648) c:\\kaggle\\input\\construction-site-safety-image-dataset-roboflow\\source_files\\source_files\\indianworkers.mp4: 384x640 1 Hardhat, 1 NO-Mask, 4 Persons, 2 Safety Vests, 12.4ms\n",
      "video 1/1 (frame 328/648) c:\\kaggle\\input\\construction-site-safety-image-dataset-roboflow\\source_files\\source_files\\indianworkers.mp4: 384x640 1 Hardhat, 4 Persons, 2 Safety Vests, 15.3ms\n",
      "video 1/1 (frame 329/648) c:\\kaggle\\input\\construction-site-safety-image-dataset-roboflow\\source_files\\source_files\\indianworkers.mp4: 384x640 1 Hardhat, 4 Persons, 2 Safety Vests, 1 vehicle, 16.4ms\n",
      "video 1/1 (frame 330/648) c:\\kaggle\\input\\construction-site-safety-image-dataset-roboflow\\source_files\\source_files\\indianworkers.mp4: 384x640 1 Hardhat, 3 Persons, 2 Safety Vests, 1 vehicle, 14.9ms\n",
      "video 1/1 (frame 331/648) c:\\kaggle\\input\\construction-site-safety-image-dataset-roboflow\\source_files\\source_files\\indianworkers.mp4: 384x640 1 Hardhat, 4 Persons, 2 Safety Vests, 15.9ms\n",
      "video 1/1 (frame 332/648) c:\\kaggle\\input\\construction-site-safety-image-dataset-roboflow\\source_files\\source_files\\indianworkers.mp4: 384x640 1 Hardhat, 4 Persons, 2 Safety Vests, 13.2ms\n",
      "video 1/1 (frame 333/648) c:\\kaggle\\input\\construction-site-safety-image-dataset-roboflow\\source_files\\source_files\\indianworkers.mp4: 384x640 1 Hardhat, 4 Persons, 2 Safety Vests, 16.1ms\n",
      "video 1/1 (frame 334/648) c:\\kaggle\\input\\construction-site-safety-image-dataset-roboflow\\source_files\\source_files\\indianworkers.mp4: 384x640 1 Hardhat, 3 Persons, 2 Safety Vests, 9.3ms\n",
      "video 1/1 (frame 335/648) c:\\kaggle\\input\\construction-site-safety-image-dataset-roboflow\\source_files\\source_files\\indianworkers.mp4: 384x640 1 Hardhat, 3 Persons, 2 Safety Vests, 14.2ms\n",
      "video 1/1 (frame 336/648) c:\\kaggle\\input\\construction-site-safety-image-dataset-roboflow\\source_files\\source_files\\indianworkers.mp4: 384x640 1 Hardhat, 3 Persons, 2 Safety Vests, 10.8ms\n",
      "video 1/1 (frame 337/648) c:\\kaggle\\input\\construction-site-safety-image-dataset-roboflow\\source_files\\source_files\\indianworkers.mp4: 384x640 1 Hardhat, 4 Persons, 2 Safety Vests, 9.8ms\n",
      "video 1/1 (frame 338/648) c:\\kaggle\\input\\construction-site-safety-image-dataset-roboflow\\source_files\\source_files\\indianworkers.mp4: 384x640 1 Hardhat, 4 Persons, 3 Safety Vests, 20.0ms\n",
      "video 1/1 (frame 339/648) c:\\kaggle\\input\\construction-site-safety-image-dataset-roboflow\\source_files\\source_files\\indianworkers.mp4: 384x640 1 Hardhat, 3 Persons, 3 Safety Vests, 13.3ms\n",
      "video 1/1 (frame 340/648) c:\\kaggle\\input\\construction-site-safety-image-dataset-roboflow\\source_files\\source_files\\indianworkers.mp4: 384x640 1 NO-Hardhat, 3 Persons, 3 Safety Vests, 14.7ms\n",
      "video 1/1 (frame 341/648) c:\\kaggle\\input\\construction-site-safety-image-dataset-roboflow\\source_files\\source_files\\indianworkers.mp4: 384x640 1 Hardhat, 3 Persons, 3 Safety Vests, 14.0ms\n",
      "video 1/1 (frame 342/648) c:\\kaggle\\input\\construction-site-safety-image-dataset-roboflow\\source_files\\source_files\\indianworkers.mp4: 384x640 1 NO-Hardhat, 3 Persons, 3 Safety Vests, 6.5ms\n",
      "video 1/1 (frame 343/648) c:\\kaggle\\input\\construction-site-safety-image-dataset-roboflow\\source_files\\source_files\\indianworkers.mp4: 384x640 1 Hardhat, 3 Persons, 3 Safety Vests, 15.4ms\n",
      "video 1/1 (frame 344/648) c:\\kaggle\\input\\construction-site-safety-image-dataset-roboflow\\source_files\\source_files\\indianworkers.mp4: 384x640 1 Hardhat, 3 Persons, 3 Safety Vests, 15.6ms\n",
      "video 1/1 (frame 345/648) c:\\kaggle\\input\\construction-site-safety-image-dataset-roboflow\\source_files\\source_files\\indianworkers.mp4: 384x640 1 Hardhat, 3 Persons, 3 Safety Vests, 15.5ms\n",
      "video 1/1 (frame 346/648) c:\\kaggle\\input\\construction-site-safety-image-dataset-roboflow\\source_files\\source_files\\indianworkers.mp4: 384x640 1 Hardhat, 3 Persons, 3 Safety Vests, 19.4ms\n",
      "video 1/1 (frame 347/648) c:\\kaggle\\input\\construction-site-safety-image-dataset-roboflow\\source_files\\source_files\\indianworkers.mp4: 384x640 1 Hardhat, 3 Persons, 3 Safety Vests, 11.9ms\n",
      "video 1/1 (frame 348/648) c:\\kaggle\\input\\construction-site-safety-image-dataset-roboflow\\source_files\\source_files\\indianworkers.mp4: 384x640 1 Hardhat, 3 Persons, 3 Safety Vests, 15.4ms\n",
      "video 1/1 (frame 349/648) c:\\kaggle\\input\\construction-site-safety-image-dataset-roboflow\\source_files\\source_files\\indianworkers.mp4: 384x640 1 Hardhat, 3 Persons, 3 Safety Vests, 19.2ms\n",
      "video 1/1 (frame 350/648) c:\\kaggle\\input\\construction-site-safety-image-dataset-roboflow\\source_files\\source_files\\indianworkers.mp4: 384x640 1 Hardhat, 3 Persons, 3 Safety Vests, 12.2ms\n",
      "video 1/1 (frame 351/648) c:\\kaggle\\input\\construction-site-safety-image-dataset-roboflow\\source_files\\source_files\\indianworkers.mp4: 384x640 1 Hardhat, 3 Persons, 4 Safety Vests, 14.9ms\n",
      "video 1/1 (frame 352/648) c:\\kaggle\\input\\construction-site-safety-image-dataset-roboflow\\source_files\\source_files\\indianworkers.mp4: 384x640 1 Hardhat, 3 Persons, 4 Safety Vests, 19.4ms\n",
      "video 1/1 (frame 353/648) c:\\kaggle\\input\\construction-site-safety-image-dataset-roboflow\\source_files\\source_files\\indianworkers.mp4: 384x640 1 Hardhat, 3 Persons, 4 Safety Vests, 15.7ms\n",
      "video 1/1 (frame 354/648) c:\\kaggle\\input\\construction-site-safety-image-dataset-roboflow\\source_files\\source_files\\indianworkers.mp4: 384x640 1 Hardhat, 3 Persons, 4 Safety Vests, 13.2ms\n",
      "video 1/1 (frame 355/648) c:\\kaggle\\input\\construction-site-safety-image-dataset-roboflow\\source_files\\source_files\\indianworkers.mp4: 384x640 1 Hardhat, 4 Persons, 4 Safety Vests, 14.0ms\n",
      "video 1/1 (frame 356/648) c:\\kaggle\\input\\construction-site-safety-image-dataset-roboflow\\source_files\\source_files\\indianworkers.mp4: 384x640 1 Hardhat, 3 Persons, 4 Safety Vests, 19.7ms\n",
      "video 1/1 (frame 357/648) c:\\kaggle\\input\\construction-site-safety-image-dataset-roboflow\\source_files\\source_files\\indianworkers.mp4: 384x640 1 Hardhat, 3 Persons, 3 Safety Vests, 15.4ms\n",
      "video 1/1 (frame 358/648) c:\\kaggle\\input\\construction-site-safety-image-dataset-roboflow\\source_files\\source_files\\indianworkers.mp4: 384x640 1 Hardhat, 3 Persons, 3 Safety Vests, 15.3ms\n",
      "video 1/1 (frame 359/648) c:\\kaggle\\input\\construction-site-safety-image-dataset-roboflow\\source_files\\source_files\\indianworkers.mp4: 384x640 1 Hardhat, 3 Persons, 3 Safety Vests, 16.5ms\n",
      "video 1/1 (frame 360/648) c:\\kaggle\\input\\construction-site-safety-image-dataset-roboflow\\source_files\\source_files\\indianworkers.mp4: 384x640 1 Hardhat, 3 Persons, 3 Safety Vests, 16.4ms\n",
      "video 1/1 (frame 361/648) c:\\kaggle\\input\\construction-site-safety-image-dataset-roboflow\\source_files\\source_files\\indianworkers.mp4: 384x640 1 Hardhat, 3 Persons, 3 Safety Vests, 14.7ms\n",
      "video 1/1 (frame 362/648) c:\\kaggle\\input\\construction-site-safety-image-dataset-roboflow\\source_files\\source_files\\indianworkers.mp4: 384x640 1 Hardhat, 3 Persons, 3 Safety Vests, 15.5ms\n",
      "video 1/1 (frame 363/648) c:\\kaggle\\input\\construction-site-safety-image-dataset-roboflow\\source_files\\source_files\\indianworkers.mp4: 384x640 1 Hardhat, 3 Persons, 3 Safety Vests, 16.0ms\n",
      "video 1/1 (frame 364/648) c:\\kaggle\\input\\construction-site-safety-image-dataset-roboflow\\source_files\\source_files\\indianworkers.mp4: 384x640 1 Hardhat, 3 Persons, 3 Safety Vests, 18.2ms\n",
      "video 1/1 (frame 365/648) c:\\kaggle\\input\\construction-site-safety-image-dataset-roboflow\\source_files\\source_files\\indianworkers.mp4: 384x640 1 Hardhat, 3 Persons, 3 Safety Vests, 17.1ms\n",
      "video 1/1 (frame 366/648) c:\\kaggle\\input\\construction-site-safety-image-dataset-roboflow\\source_files\\source_files\\indianworkers.mp4: 384x640 1 Hardhat, 3 Persons, 3 Safety Vests, 14.6ms\n",
      "video 1/1 (frame 367/648) c:\\kaggle\\input\\construction-site-safety-image-dataset-roboflow\\source_files\\source_files\\indianworkers.mp4: 384x640 1 Hardhat, 3 Persons, 3 Safety Vests, 13.2ms\n",
      "video 1/1 (frame 368/648) c:\\kaggle\\input\\construction-site-safety-image-dataset-roboflow\\source_files\\source_files\\indianworkers.mp4: 384x640 1 Hardhat, 3 Persons, 3 Safety Vests, 15.6ms\n",
      "video 1/1 (frame 369/648) c:\\kaggle\\input\\construction-site-safety-image-dataset-roboflow\\source_files\\source_files\\indianworkers.mp4: 384x640 1 Hardhat, 3 Persons, 3 Safety Vests, 12.9ms\n",
      "video 1/1 (frame 370/648) c:\\kaggle\\input\\construction-site-safety-image-dataset-roboflow\\source_files\\source_files\\indianworkers.mp4: 384x640 1 Hardhat, 3 Persons, 3 Safety Vests, 18.0ms\n",
      "video 1/1 (frame 371/648) c:\\kaggle\\input\\construction-site-safety-image-dataset-roboflow\\source_files\\source_files\\indianworkers.mp4: 384x640 1 Hardhat, 3 Persons, 3 Safety Vests, 20.1ms\n",
      "video 1/1 (frame 372/648) c:\\kaggle\\input\\construction-site-safety-image-dataset-roboflow\\source_files\\source_files\\indianworkers.mp4: 384x640 1 Hardhat, 3 Persons, 3 Safety Vests, 17.1ms\n",
      "video 1/1 (frame 373/648) c:\\kaggle\\input\\construction-site-safety-image-dataset-roboflow\\source_files\\source_files\\indianworkers.mp4: 384x640 1 Hardhat, 1 NO-Mask, 3 Persons, 3 Safety Vests, 15.0ms\n",
      "video 1/1 (frame 374/648) c:\\kaggle\\input\\construction-site-safety-image-dataset-roboflow\\source_files\\source_files\\indianworkers.mp4: 384x640 1 Hardhat, 1 NO-Mask, 3 Persons, 3 Safety Vests, 15.0ms\n",
      "video 1/1 (frame 375/648) c:\\kaggle\\input\\construction-site-safety-image-dataset-roboflow\\source_files\\source_files\\indianworkers.mp4: 384x640 1 Hardhat, 1 NO-Mask, 3 Persons, 3 Safety Vests, 15.7ms\n",
      "video 1/1 (frame 376/648) c:\\kaggle\\input\\construction-site-safety-image-dataset-roboflow\\source_files\\source_files\\indianworkers.mp4: 384x640 1 Hardhat, 1 NO-Mask, 3 Persons, 3 Safety Vests, 15.0ms\n",
      "video 1/1 (frame 377/648) c:\\kaggle\\input\\construction-site-safety-image-dataset-roboflow\\source_files\\source_files\\indianworkers.mp4: 384x640 1 Hardhat, 1 NO-Mask, 3 Persons, 3 Safety Vests, 14.2ms\n",
      "video 1/1 (frame 378/648) c:\\kaggle\\input\\construction-site-safety-image-dataset-roboflow\\source_files\\source_files\\indianworkers.mp4: 384x640 1 Hardhat, 1 NO-Mask, 4 Persons, 3 Safety Vests, 21.4ms\n",
      "video 1/1 (frame 379/648) c:\\kaggle\\input\\construction-site-safety-image-dataset-roboflow\\source_files\\source_files\\indianworkers.mp4: 384x640 1 Hardhat, 1 NO-Mask, 4 Persons, 3 Safety Vests, 15.2ms\n",
      "video 1/1 (frame 380/648) c:\\kaggle\\input\\construction-site-safety-image-dataset-roboflow\\source_files\\source_files\\indianworkers.mp4: 384x640 1 Hardhat, 1 NO-Mask, 4 Persons, 3 Safety Vests, 20.1ms\n",
      "video 1/1 (frame 381/648) c:\\kaggle\\input\\construction-site-safety-image-dataset-roboflow\\source_files\\source_files\\indianworkers.mp4: 384x640 1 Hardhat, 1 NO-Mask, 4 Persons, 3 Safety Vests, 15.8ms\n",
      "video 1/1 (frame 382/648) c:\\kaggle\\input\\construction-site-safety-image-dataset-roboflow\\source_files\\source_files\\indianworkers.mp4: 384x640 1 Hardhat, 3 Persons, 3 Safety Vests, 15.2ms\n",
      "video 1/1 (frame 383/648) c:\\kaggle\\input\\construction-site-safety-image-dataset-roboflow\\source_files\\source_files\\indianworkers.mp4: 384x640 1 Hardhat, 3 Persons, 3 Safety Vests, 15.7ms\n",
      "video 1/1 (frame 384/648) c:\\kaggle\\input\\construction-site-safety-image-dataset-roboflow\\source_files\\source_files\\indianworkers.mp4: 384x640 1 Hardhat, 3 Persons, 3 Safety Vests, 15.7ms\n",
      "video 1/1 (frame 385/648) c:\\kaggle\\input\\construction-site-safety-image-dataset-roboflow\\source_files\\source_files\\indianworkers.mp4: 384x640 1 NO-Hardhat, 3 Persons, 3 Safety Vests, 14.9ms\n",
      "video 1/1 (frame 386/648) c:\\kaggle\\input\\construction-site-safety-image-dataset-roboflow\\source_files\\source_files\\indianworkers.mp4: 384x640 1 Hardhat, 3 Persons, 3 Safety Vests, 16.2ms\n",
      "video 1/1 (frame 387/648) c:\\kaggle\\input\\construction-site-safety-image-dataset-roboflow\\source_files\\source_files\\indianworkers.mp4: 384x640 1 Hardhat, 3 Persons, 3 Safety Vests, 17.6ms\n",
      "video 1/1 (frame 388/648) c:\\kaggle\\input\\construction-site-safety-image-dataset-roboflow\\source_files\\source_files\\indianworkers.mp4: 384x640 1 Hardhat, 3 Persons, 2 Safety Vests, 16.0ms\n",
      "video 1/1 (frame 389/648) c:\\kaggle\\input\\construction-site-safety-image-dataset-roboflow\\source_files\\source_files\\indianworkers.mp4: 384x640 1 Hardhat, 3 Persons, 3 Safety Vests, 16.1ms\n",
      "video 1/1 (frame 390/648) c:\\kaggle\\input\\construction-site-safety-image-dataset-roboflow\\source_files\\source_files\\indianworkers.mp4: 384x640 1 Hardhat, 3 Persons, 3 Safety Vests, 19.7ms\n",
      "video 1/1 (frame 391/648) c:\\kaggle\\input\\construction-site-safety-image-dataset-roboflow\\source_files\\source_files\\indianworkers.mp4: 384x640 1 Hardhat, 3 Persons, 3 Safety Vests, 15.7ms\n",
      "video 1/1 (frame 392/648) c:\\kaggle\\input\\construction-site-safety-image-dataset-roboflow\\source_files\\source_files\\indianworkers.mp4: 384x640 1 Hardhat, 3 Persons, 3 Safety Vests, 14.0ms\n",
      "video 1/1 (frame 393/648) c:\\kaggle\\input\\construction-site-safety-image-dataset-roboflow\\source_files\\source_files\\indianworkers.mp4: 384x640 1 NO-Hardhat, 3 Persons, 3 Safety Vests, 14.6ms\n",
      "video 1/1 (frame 394/648) c:\\kaggle\\input\\construction-site-safety-image-dataset-roboflow\\source_files\\source_files\\indianworkers.mp4: 384x640 1 Hardhat, 3 Persons, 3 Safety Vests, 16.4ms\n",
      "video 1/1 (frame 395/648) c:\\kaggle\\input\\construction-site-safety-image-dataset-roboflow\\source_files\\source_files\\indianworkers.mp4: 384x640 1 Hardhat, 3 Persons, 3 Safety Vests, 20.3ms\n",
      "video 1/1 (frame 396/648) c:\\kaggle\\input\\construction-site-safety-image-dataset-roboflow\\source_files\\source_files\\indianworkers.mp4: 384x640 2 Hardhats, 1 NO-Mask, 3 Persons, 3 Safety Vests, 15.7ms\n",
      "video 1/1 (frame 397/648) c:\\kaggle\\input\\construction-site-safety-image-dataset-roboflow\\source_files\\source_files\\indianworkers.mp4: 384x640 1 Hardhat, 1 NO-Mask, 3 Persons, 3 Safety Vests, 15.0ms\n",
      "video 1/1 (frame 398/648) c:\\kaggle\\input\\construction-site-safety-image-dataset-roboflow\\source_files\\source_files\\indianworkers.mp4: 384x640 1 Hardhat, 3 Persons, 3 Safety Vests, 17.4ms\n",
      "video 1/1 (frame 399/648) c:\\kaggle\\input\\construction-site-safety-image-dataset-roboflow\\source_files\\source_files\\indianworkers.mp4: 384x640 1 Hardhat, 3 Persons, 3 Safety Vests, 15.1ms\n",
      "video 1/1 (frame 400/648) c:\\kaggle\\input\\construction-site-safety-image-dataset-roboflow\\source_files\\source_files\\indianworkers.mp4: 384x640 1 Hardhat, 3 Persons, 3 Safety Vests, 15.5ms\n",
      "video 1/1 (frame 401/648) c:\\kaggle\\input\\construction-site-safety-image-dataset-roboflow\\source_files\\source_files\\indianworkers.mp4: 384x640 1 Hardhat, 3 Persons, 3 Safety Vests, 15.1ms\n",
      "video 1/1 (frame 402/648) c:\\kaggle\\input\\construction-site-safety-image-dataset-roboflow\\source_files\\source_files\\indianworkers.mp4: 384x640 1 Hardhat, 1 NO-Safety Vest, 2 Persons, 1 Safety Vest, 16.1ms\n",
      "video 1/1 (frame 403/648) c:\\kaggle\\input\\construction-site-safety-image-dataset-roboflow\\source_files\\source_files\\indianworkers.mp4: 384x640 1 Hardhat, 1 NO-Safety Vest, 2 Persons, 2 Safety Vests, 15.9ms\n",
      "video 1/1 (frame 404/648) c:\\kaggle\\input\\construction-site-safety-image-dataset-roboflow\\source_files\\source_files\\indianworkers.mp4: 384x640 1 Hardhat, 3 Persons, 1 Safety Vest, 18.2ms\n",
      "video 1/1 (frame 405/648) c:\\kaggle\\input\\construction-site-safety-image-dataset-roboflow\\source_files\\source_files\\indianworkers.mp4: 384x640 1 Hardhat, 2 Persons, 1 Safety Vest, 15.7ms\n",
      "video 1/1 (frame 406/648) c:\\kaggle\\input\\construction-site-safety-image-dataset-roboflow\\source_files\\source_files\\indianworkers.mp4: 384x640 1 Hardhat, 2 Persons, 2 Safety Vests, 14.5ms\n",
      "video 1/1 (frame 407/648) c:\\kaggle\\input\\construction-site-safety-image-dataset-roboflow\\source_files\\source_files\\indianworkers.mp4: 384x640 1 Hardhat, 2 Persons, 2 Safety Vests, 16.4ms\n",
      "video 1/1 (frame 408/648) c:\\kaggle\\input\\construction-site-safety-image-dataset-roboflow\\source_files\\source_files\\indianworkers.mp4: 384x640 1 Hardhat, 2 Persons, 2 Safety Vests, 15.4ms\n",
      "video 1/1 (frame 409/648) c:\\kaggle\\input\\construction-site-safety-image-dataset-roboflow\\source_files\\source_files\\indianworkers.mp4: 384x640 1 Hardhat, 2 Persons, 2 Safety Vests, 10.2ms\n",
      "video 1/1 (frame 410/648) c:\\kaggle\\input\\construction-site-safety-image-dataset-roboflow\\source_files\\source_files\\indianworkers.mp4: 384x640 1 Hardhat, 1 NO-Safety Vest, 1 Person, 2 Safety Vests, 14.0ms\n",
      "video 1/1 (frame 411/648) c:\\kaggle\\input\\construction-site-safety-image-dataset-roboflow\\source_files\\source_files\\indianworkers.mp4: 384x640 1 Hardhat, 1 NO-Safety Vest, 1 Person, 2 Safety Vests, 12.6ms\n",
      "video 1/1 (frame 412/648) c:\\kaggle\\input\\construction-site-safety-image-dataset-roboflow\\source_files\\source_files\\indianworkers.mp4: 384x640 1 Hardhat, 1 NO-Safety Vest, 1 Person, 2 Safety Vests, 18.4ms\n",
      "video 1/1 (frame 413/648) c:\\kaggle\\input\\construction-site-safety-image-dataset-roboflow\\source_files\\source_files\\indianworkers.mp4: 384x640 1 Hardhat, 2 Persons, 2 Safety Vests, 21.9ms\n",
      "video 1/1 (frame 414/648) c:\\kaggle\\input\\construction-site-safety-image-dataset-roboflow\\source_files\\source_files\\indianworkers.mp4: 384x640 1 Hardhat, 2 Persons, 2 Safety Vests, 14.3ms\n",
      "video 1/1 (frame 415/648) c:\\kaggle\\input\\construction-site-safety-image-dataset-roboflow\\source_files\\source_files\\indianworkers.mp4: 384x640 1 Hardhat, 2 Persons, 2 Safety Vests, 9.9ms\n",
      "video 1/1 (frame 416/648) c:\\kaggle\\input\\construction-site-safety-image-dataset-roboflow\\source_files\\source_files\\indianworkers.mp4: 384x640 1 Hardhat, 2 Persons, 2 Safety Vests, 14.6ms\n",
      "video 1/1 (frame 417/648) c:\\kaggle\\input\\construction-site-safety-image-dataset-roboflow\\source_files\\source_files\\indianworkers.mp4: 384x640 1 Hardhat, 2 Persons, 2 Safety Vests, 10.3ms\n",
      "video 1/1 (frame 418/648) c:\\kaggle\\input\\construction-site-safety-image-dataset-roboflow\\source_files\\source_files\\indianworkers.mp4: 384x640 1 Hardhat, 2 Persons, 2 Safety Vests, 20.2ms\n",
      "video 1/1 (frame 419/648) c:\\kaggle\\input\\construction-site-safety-image-dataset-roboflow\\source_files\\source_files\\indianworkers.mp4: 384x640 1 Hardhat, 2 Persons, 2 Safety Vests, 14.4ms\n",
      "video 1/1 (frame 420/648) c:\\kaggle\\input\\construction-site-safety-image-dataset-roboflow\\source_files\\source_files\\indianworkers.mp4: 384x640 1 Hardhat, 2 Persons, 2 Safety Vests, 13.6ms\n",
      "video 1/1 (frame 421/648) c:\\kaggle\\input\\construction-site-safety-image-dataset-roboflow\\source_files\\source_files\\indianworkers.mp4: 384x640 1 Hardhat, 2 Persons, 1 Safety Vest, 15.6ms\n",
      "video 1/1 (frame 422/648) c:\\kaggle\\input\\construction-site-safety-image-dataset-roboflow\\source_files\\source_files\\indianworkers.mp4: 384x640 1 Hardhat, 2 Persons, 1 Safety Vest, 14.1ms\n",
      "video 1/1 (frame 423/648) c:\\kaggle\\input\\construction-site-safety-image-dataset-roboflow\\source_files\\source_files\\indianworkers.mp4: 384x640 1 Hardhat, 2 Persons, 1 Safety Vest, 14.2ms\n",
      "video 1/1 (frame 424/648) c:\\kaggle\\input\\construction-site-safety-image-dataset-roboflow\\source_files\\source_files\\indianworkers.mp4: 384x640 1 Hardhat, 2 Persons, 1 Safety Vest, 13.9ms\n",
      "video 1/1 (frame 425/648) c:\\kaggle\\input\\construction-site-safety-image-dataset-roboflow\\source_files\\source_files\\indianworkers.mp4: 384x640 1 Hardhat, 2 Persons, 1 Safety Vest, 15.7ms\n",
      "video 1/1 (frame 426/648) c:\\kaggle\\input\\construction-site-safety-image-dataset-roboflow\\source_files\\source_files\\indianworkers.mp4: 384x640 1 Hardhat, 3 Persons, 1 Safety Vest, 13.7ms\n",
      "video 1/1 (frame 427/648) c:\\kaggle\\input\\construction-site-safety-image-dataset-roboflow\\source_files\\source_files\\indianworkers.mp4: 384x640 1 Hardhat, 3 Persons, 1 Safety Vest, 14.4ms\n",
      "video 1/1 (frame 428/648) c:\\kaggle\\input\\construction-site-safety-image-dataset-roboflow\\source_files\\source_files\\indianworkers.mp4: 384x640 1 Hardhat, 3 Persons, 1 Safety Vest, 20.7ms\n",
      "video 1/1 (frame 429/648) c:\\kaggle\\input\\construction-site-safety-image-dataset-roboflow\\source_files\\source_files\\indianworkers.mp4: 384x640 1 Hardhat, 3 Persons, 1 Safety Vest, 15.4ms\n",
      "video 1/1 (frame 430/648) c:\\kaggle\\input\\construction-site-safety-image-dataset-roboflow\\source_files\\source_files\\indianworkers.mp4: 384x640 1 Hardhat, 3 Persons, 1 Safety Vest, 14.4ms\n",
      "video 1/1 (frame 431/648) c:\\kaggle\\input\\construction-site-safety-image-dataset-roboflow\\source_files\\source_files\\indianworkers.mp4: 384x640 1 Hardhat, 3 Persons, 1 Safety Vest, 14.4ms\n",
      "video 1/1 (frame 432/648) c:\\kaggle\\input\\construction-site-safety-image-dataset-roboflow\\source_files\\source_files\\indianworkers.mp4: 384x640 1 Hardhat, 2 Persons, 1 Safety Vest, 1 machinery, 8.2ms\n",
      "video 1/1 (frame 433/648) c:\\kaggle\\input\\construction-site-safety-image-dataset-roboflow\\source_files\\source_files\\indianworkers.mp4: 384x640 1 Hardhat, 3 Persons, 1 Safety Vest, 20.4ms\n",
      "video 1/1 (frame 434/648) c:\\kaggle\\input\\construction-site-safety-image-dataset-roboflow\\source_files\\source_files\\indianworkers.mp4: 384x640 1 Hardhat, 3 Persons, 1 Safety Vest, 13.8ms\n",
      "video 1/1 (frame 435/648) c:\\kaggle\\input\\construction-site-safety-image-dataset-roboflow\\source_files\\source_files\\indianworkers.mp4: 384x640 1 Hardhat, 3 Persons, 1 Safety Vest, 13.6ms\n",
      "video 1/1 (frame 436/648) c:\\kaggle\\input\\construction-site-safety-image-dataset-roboflow\\source_files\\source_files\\indianworkers.mp4: 384x640 1 Hardhat, 3 Persons, 1 Safety Vest, 13.5ms\n",
      "video 1/1 (frame 437/648) c:\\kaggle\\input\\construction-site-safety-image-dataset-roboflow\\source_files\\source_files\\indianworkers.mp4: 384x640 1 Hardhat, 2 Persons, 1 Safety Vest, 1 machinery, 13.9ms\n",
      "video 1/1 (frame 438/648) c:\\kaggle\\input\\construction-site-safety-image-dataset-roboflow\\source_files\\source_files\\indianworkers.mp4: 384x640 1 Hardhat, 3 Persons, 1 Safety Vest, 14.1ms\n",
      "video 1/1 (frame 439/648) c:\\kaggle\\input\\construction-site-safety-image-dataset-roboflow\\source_files\\source_files\\indianworkers.mp4: 384x640 1 Hardhat, 3 Persons, 1 Safety Vest, 14.5ms\n",
      "video 1/1 (frame 440/648) c:\\kaggle\\input\\construction-site-safety-image-dataset-roboflow\\source_files\\source_files\\indianworkers.mp4: 384x640 1 Hardhat, 3 Persons, 2 Safety Vests, 13.8ms\n",
      "video 1/1 (frame 441/648) c:\\kaggle\\input\\construction-site-safety-image-dataset-roboflow\\source_files\\source_files\\indianworkers.mp4: 384x640 1 Hardhat, 2 Persons, 2 Safety Vests, 1 machinery, 12.1ms\n",
      "video 1/1 (frame 442/648) c:\\kaggle\\input\\construction-site-safety-image-dataset-roboflow\\source_files\\source_files\\indianworkers.mp4: 384x640 1 Hardhat, 3 Persons, 2 Safety Vests, 18.7ms\n",
      "video 1/1 (frame 443/648) c:\\kaggle\\input\\construction-site-safety-image-dataset-roboflow\\source_files\\source_files\\indianworkers.mp4: 384x640 1 Hardhat, 4 Persons, 2 Safety Vests, 14.6ms\n",
      "video 1/1 (frame 444/648) c:\\kaggle\\input\\construction-site-safety-image-dataset-roboflow\\source_files\\source_files\\indianworkers.mp4: 384x640 1 Hardhat, 3 Persons, 2 Safety Vests, 17.6ms\n",
      "video 1/1 (frame 445/648) c:\\kaggle\\input\\construction-site-safety-image-dataset-roboflow\\source_files\\source_files\\indianworkers.mp4: 384x640 1 Hardhat, 3 Persons, 2 Safety Vests, 16.7ms\n",
      "video 1/1 (frame 446/648) c:\\kaggle\\input\\construction-site-safety-image-dataset-roboflow\\source_files\\source_files\\indianworkers.mp4: 384x640 1 Hardhat, 3 Persons, 2 Safety Vests, 19.4ms\n",
      "video 1/1 (frame 447/648) c:\\kaggle\\input\\construction-site-safety-image-dataset-roboflow\\source_files\\source_files\\indianworkers.mp4: 384x640 1 Hardhat, 3 Persons, 2 Safety Vests, 14.1ms\n",
      "video 1/1 (frame 448/648) c:\\kaggle\\input\\construction-site-safety-image-dataset-roboflow\\source_files\\source_files\\indianworkers.mp4: 384x640 1 Hardhat, 2 Persons, 2 Safety Vests, 13.9ms\n",
      "video 1/1 (frame 449/648) c:\\kaggle\\input\\construction-site-safety-image-dataset-roboflow\\source_files\\source_files\\indianworkers.mp4: 384x640 1 Hardhat, 2 Persons, 2 Safety Vests, 14.9ms\n",
      "video 1/1 (frame 450/648) c:\\kaggle\\input\\construction-site-safety-image-dataset-roboflow\\source_files\\source_files\\indianworkers.mp4: 384x640 1 Hardhat, 2 Persons, 2 Safety Vests, 18.3ms\n",
      "video 1/1 (frame 451/648) c:\\kaggle\\input\\construction-site-safety-image-dataset-roboflow\\source_files\\source_files\\indianworkers.mp4: 384x640 1 Hardhat, 2 Persons, 3 Safety Vests, 12.8ms\n",
      "video 1/1 (frame 452/648) c:\\kaggle\\input\\construction-site-safety-image-dataset-roboflow\\source_files\\source_files\\indianworkers.mp4: 384x640 1 Hardhat, 2 Persons, 3 Safety Vests, 13.5ms\n",
      "video 1/1 (frame 453/648) c:\\kaggle\\input\\construction-site-safety-image-dataset-roboflow\\source_files\\source_files\\indianworkers.mp4: 384x640 1 Hardhat, 3 Persons, 3 Safety Vests, 12.3ms\n",
      "video 1/1 (frame 454/648) c:\\kaggle\\input\\construction-site-safety-image-dataset-roboflow\\source_files\\source_files\\indianworkers.mp4: 384x640 1 Hardhat, 3 Persons, 3 Safety Vests, 13.4ms\n",
      "video 1/1 (frame 455/648) c:\\kaggle\\input\\construction-site-safety-image-dataset-roboflow\\source_files\\source_files\\indianworkers.mp4: 384x640 1 Hardhat, 3 Persons, 3 Safety Vests, 17.5ms\n",
      "video 1/1 (frame 456/648) c:\\kaggle\\input\\construction-site-safety-image-dataset-roboflow\\source_files\\source_files\\indianworkers.mp4: 384x640 1 Hardhat, 3 Persons, 3 Safety Vests, 10.2ms\n",
      "video 1/1 (frame 457/648) c:\\kaggle\\input\\construction-site-safety-image-dataset-roboflow\\source_files\\source_files\\indianworkers.mp4: 384x640 1 Hardhat, 3 Persons, 3 Safety Vests, 9.1ms\n",
      "video 1/1 (frame 458/648) c:\\kaggle\\input\\construction-site-safety-image-dataset-roboflow\\source_files\\source_files\\indianworkers.mp4: 384x640 1 Hardhat, 3 Persons, 3 Safety Vests, 13.1ms\n",
      "video 1/1 (frame 459/648) c:\\kaggle\\input\\construction-site-safety-image-dataset-roboflow\\source_files\\source_files\\indianworkers.mp4: 384x640 1 Hardhat, 3 Persons, 3 Safety Vests, 13.8ms\n",
      "video 1/1 (frame 460/648) c:\\kaggle\\input\\construction-site-safety-image-dataset-roboflow\\source_files\\source_files\\indianworkers.mp4: 384x640 2 Hardhats, 4 Persons, 4 Safety Vests, 14.2ms\n",
      "video 1/1 (frame 461/648) c:\\kaggle\\input\\construction-site-safety-image-dataset-roboflow\\source_files\\source_files\\indianworkers.mp4: 384x640 2 Hardhats, 4 Persons, 3 Safety Vests, 13.6ms\n",
      "video 1/1 (frame 462/648) c:\\kaggle\\input\\construction-site-safety-image-dataset-roboflow\\source_files\\source_files\\indianworkers.mp4: 384x640 2 Hardhats, 4 Persons, 3 Safety Vests, 14.3ms\n",
      "video 1/1 (frame 463/648) c:\\kaggle\\input\\construction-site-safety-image-dataset-roboflow\\source_files\\source_files\\indianworkers.mp4: 384x640 2 Hardhats, 4 Persons, 3 Safety Vests, 13.7ms\n",
      "video 1/1 (frame 464/648) c:\\kaggle\\input\\construction-site-safety-image-dataset-roboflow\\source_files\\source_files\\indianworkers.mp4: 384x640 2 Hardhats, 4 Persons, 3 Safety Vests, 7.6ms\n",
      "video 1/1 (frame 465/648) c:\\kaggle\\input\\construction-site-safety-image-dataset-roboflow\\source_files\\source_files\\indianworkers.mp4: 384x640 2 Hardhats, 4 Persons, 2 Safety Vests, 12.1ms\n",
      "video 1/1 (frame 466/648) c:\\kaggle\\input\\construction-site-safety-image-dataset-roboflow\\source_files\\source_files\\indianworkers.mp4: 384x640 2 Hardhats, 4 Persons, 3 Safety Vests, 16.7ms\n",
      "video 1/1 (frame 467/648) c:\\kaggle\\input\\construction-site-safety-image-dataset-roboflow\\source_files\\source_files\\indianworkers.mp4: 384x640 2 Hardhats, 4 Persons, 3 Safety Vests, 13.8ms\n",
      "video 1/1 (frame 468/648) c:\\kaggle\\input\\construction-site-safety-image-dataset-roboflow\\source_files\\source_files\\indianworkers.mp4: 384x640 2 Hardhats, 4 Persons, 3 Safety Vests, 18.3ms\n",
      "video 1/1 (frame 469/648) c:\\kaggle\\input\\construction-site-safety-image-dataset-roboflow\\source_files\\source_files\\indianworkers.mp4: 384x640 2 Hardhats, 4 Persons, 3 Safety Vests, 14.3ms\n",
      "video 1/1 (frame 470/648) c:\\kaggle\\input\\construction-site-safety-image-dataset-roboflow\\source_files\\source_files\\indianworkers.mp4: 384x640 1 Hardhat, 3 Persons, 3 Safety Vests, 18.6ms\n",
      "video 1/1 (frame 471/648) c:\\kaggle\\input\\construction-site-safety-image-dataset-roboflow\\source_files\\source_files\\indianworkers.mp4: 384x640 1 Hardhat, 1 NO-Safety Vest, 3 Persons, 2 Safety Vests, 14.2ms\n",
      "video 1/1 (frame 472/648) c:\\kaggle\\input\\construction-site-safety-image-dataset-roboflow\\source_files\\source_files\\indianworkers.mp4: 384x640 1 Hardhat, 1 NO-Safety Vest, 3 Persons, 2 Safety Vests, 16.4ms\n",
      "video 1/1 (frame 473/648) c:\\kaggle\\input\\construction-site-safety-image-dataset-roboflow\\source_files\\source_files\\indianworkers.mp4: 384x640 1 Hardhat, 1 NO-Safety Vest, 3 Persons, 2 Safety Vests, 14.6ms\n",
      "video 1/1 (frame 474/648) c:\\kaggle\\input\\construction-site-safety-image-dataset-roboflow\\source_files\\source_files\\indianworkers.mp4: 384x640 1 Hardhat, 1 NO-Safety Vest, 3 Persons, 2 Safety Vests, 14.3ms\n",
      "video 1/1 (frame 475/648) c:\\kaggle\\input\\construction-site-safety-image-dataset-roboflow\\source_files\\source_files\\indianworkers.mp4: 384x640 1 Hardhat, 1 NO-Safety Vest, 3 Persons, 2 Safety Vests, 13.9ms\n",
      "video 1/1 (frame 476/648) c:\\kaggle\\input\\construction-site-safety-image-dataset-roboflow\\source_files\\source_files\\indianworkers.mp4: 384x640 1 Hardhat, 1 NO-Safety Vest, 3 Persons, 2 Safety Vests, 14.0ms\n",
      "video 1/1 (frame 477/648) c:\\kaggle\\input\\construction-site-safety-image-dataset-roboflow\\source_files\\source_files\\indianworkers.mp4: 384x640 1 Hardhat, 3 Persons, 3 Safety Vests, 8.6ms\n",
      "video 1/1 (frame 478/648) c:\\kaggle\\input\\construction-site-safety-image-dataset-roboflow\\source_files\\source_files\\indianworkers.mp4: 384x640 1 Hardhat, 3 Persons, 3 Safety Vests, 19.6ms\n",
      "video 1/1 (frame 479/648) c:\\kaggle\\input\\construction-site-safety-image-dataset-roboflow\\source_files\\source_files\\indianworkers.mp4: 384x640 1 Hardhat, 3 Persons, 3 Safety Vests, 16.8ms\n",
      "video 1/1 (frame 480/648) c:\\kaggle\\input\\construction-site-safety-image-dataset-roboflow\\source_files\\source_files\\indianworkers.mp4: 384x640 1 Hardhat, 3 Persons, 3 Safety Vests, 9.7ms\n",
      "video 1/1 (frame 481/648) c:\\kaggle\\input\\construction-site-safety-image-dataset-roboflow\\source_files\\source_files\\indianworkers.mp4: 384x640 1 Hardhat, 3 Persons, 3 Safety Vests, 13.2ms\n",
      "video 1/1 (frame 482/648) c:\\kaggle\\input\\construction-site-safety-image-dataset-roboflow\\source_files\\source_files\\indianworkers.mp4: 384x640 1 Hardhat, 3 Persons, 3 Safety Vests, 10.4ms\n",
      "video 1/1 (frame 483/648) c:\\kaggle\\input\\construction-site-safety-image-dataset-roboflow\\source_files\\source_files\\indianworkers.mp4: 384x640 1 Hardhat, 3 Persons, 3 Safety Vests, 17.8ms\n",
      "video 1/1 (frame 484/648) c:\\kaggle\\input\\construction-site-safety-image-dataset-roboflow\\source_files\\source_files\\indianworkers.mp4: 384x640 1 Hardhat, 3 Persons, 3 Safety Vests, 17.0ms\n",
      "video 1/1 (frame 485/648) c:\\kaggle\\input\\construction-site-safety-image-dataset-roboflow\\source_files\\source_files\\indianworkers.mp4: 384x640 1 Hardhat, 1 NO-Safety Vest, 3 Persons, 2 Safety Vests, 13.4ms\n",
      "video 1/1 (frame 486/648) c:\\kaggle\\input\\construction-site-safety-image-dataset-roboflow\\source_files\\source_files\\indianworkers.mp4: 384x640 1 Hardhat, 1 NO-Safety Vest, 3 Persons, 2 Safety Vests, 13.8ms\n",
      "video 1/1 (frame 487/648) c:\\kaggle\\input\\construction-site-safety-image-dataset-roboflow\\source_files\\source_files\\indianworkers.mp4: 384x640 1 Hardhat, 1 NO-Safety Vest, 3 Persons, 2 Safety Vests, 16.2ms\n",
      "video 1/1 (frame 488/648) c:\\kaggle\\input\\construction-site-safety-image-dataset-roboflow\\source_files\\source_files\\indianworkers.mp4: 384x640 1 Hardhat, 1 NO-Safety Vest, 3 Persons, 2 Safety Vests, 12.7ms\n",
      "video 1/1 (frame 489/648) c:\\kaggle\\input\\construction-site-safety-image-dataset-roboflow\\source_files\\source_files\\indianworkers.mp4: 384x640 1 Hardhat, 1 NO-Safety Vest, 3 Persons, 2 Safety Vests, 13.6ms\n",
      "video 1/1 (frame 490/648) c:\\kaggle\\input\\construction-site-safety-image-dataset-roboflow\\source_files\\source_files\\indianworkers.mp4: 384x640 1 Hardhat, 1 NO-Safety Vest, 3 Persons, 2 Safety Vests, 8.1ms\n",
      "video 1/1 (frame 491/648) c:\\kaggle\\input\\construction-site-safety-image-dataset-roboflow\\source_files\\source_files\\indianworkers.mp4: 384x640 1 Hardhat, 1 NO-Safety Vest, 3 Persons, 3 Safety Vests, 14.3ms\n",
      "video 1/1 (frame 492/648) c:\\kaggle\\input\\construction-site-safety-image-dataset-roboflow\\source_files\\source_files\\indianworkers.mp4: 384x640 1 Hardhat, 1 NO-Safety Vest, 3 Persons, 3 Safety Vests, 17.4ms\n",
      "video 1/1 (frame 493/648) c:\\kaggle\\input\\construction-site-safety-image-dataset-roboflow\\source_files\\source_files\\indianworkers.mp4: 384x640 1 Hardhat, 1 NO-Safety Vest, 3 Persons, 2 Safety Vests, 8.9ms\n",
      "video 1/1 (frame 494/648) c:\\kaggle\\input\\construction-site-safety-image-dataset-roboflow\\source_files\\source_files\\indianworkers.mp4: 384x640 1 Hardhat, 1 NO-Safety Vest, 3 Persons, 2 Safety Vests, 13.7ms\n",
      "video 1/1 (frame 495/648) c:\\kaggle\\input\\construction-site-safety-image-dataset-roboflow\\source_files\\source_files\\indianworkers.mp4: 384x640 1 Hardhat, 3 Persons, 3 Safety Vests, 13.9ms\n",
      "video 1/1 (frame 496/648) c:\\kaggle\\input\\construction-site-safety-image-dataset-roboflow\\source_files\\source_files\\indianworkers.mp4: 384x640 1 Hardhat, 3 Persons, 2 Safety Vests, 18.4ms\n",
      "video 1/1 (frame 497/648) c:\\kaggle\\input\\construction-site-safety-image-dataset-roboflow\\source_files\\source_files\\indianworkers.mp4: 384x640 1 Hardhat, 3 Persons, 2 Safety Vests, 13.8ms\n",
      "video 1/1 (frame 498/648) c:\\kaggle\\input\\construction-site-safety-image-dataset-roboflow\\source_files\\source_files\\indianworkers.mp4: 384x640 1 Hardhat, 3 Persons, 2 Safety Vests, 12.1ms\n",
      "video 1/1 (frame 499/648) c:\\kaggle\\input\\construction-site-safety-image-dataset-roboflow\\source_files\\source_files\\indianworkers.mp4: 384x640 1 Hardhat, 3 Persons, 2 Safety Vests, 12.6ms\n",
      "video 1/1 (frame 500/648) c:\\kaggle\\input\\construction-site-safety-image-dataset-roboflow\\source_files\\source_files\\indianworkers.mp4: 384x640 1 Hardhat, 3 Persons, 2 Safety Vests, 22.5ms\n",
      "video 1/1 (frame 501/648) c:\\kaggle\\input\\construction-site-safety-image-dataset-roboflow\\source_files\\source_files\\indianworkers.mp4: 384x640 1 Hardhat, 3 Persons, 2 Safety Vests, 15.4ms\n",
      "video 1/1 (frame 502/648) c:\\kaggle\\input\\construction-site-safety-image-dataset-roboflow\\source_files\\source_files\\indianworkers.mp4: 384x640 1 Hardhat, 3 Persons, 2 Safety Vests, 13.0ms\n",
      "video 1/1 (frame 503/648) c:\\kaggle\\input\\construction-site-safety-image-dataset-roboflow\\source_files\\source_files\\indianworkers.mp4: 384x640 1 Hardhat, 3 Persons, 2 Safety Vests, 11.3ms\n",
      "video 1/1 (frame 504/648) c:\\kaggle\\input\\construction-site-safety-image-dataset-roboflow\\source_files\\source_files\\indianworkers.mp4: 384x640 1 Hardhat, 3 Persons, 2 Safety Vests, 13.3ms\n",
      "video 1/1 (frame 505/648) c:\\kaggle\\input\\construction-site-safety-image-dataset-roboflow\\source_files\\source_files\\indianworkers.mp4: 384x640 1 Hardhat, 3 Persons, 2 Safety Vests, 13.7ms\n",
      "video 1/1 (frame 506/648) c:\\kaggle\\input\\construction-site-safety-image-dataset-roboflow\\source_files\\source_files\\indianworkers.mp4: 384x640 1 Hardhat, 3 Persons, 2 Safety Vests, 16.5ms\n",
      "video 1/1 (frame 507/648) c:\\kaggle\\input\\construction-site-safety-image-dataset-roboflow\\source_files\\source_files\\indianworkers.mp4: 384x640 1 Hardhat, 3 Persons, 2 Safety Vests, 17.5ms\n",
      "video 1/1 (frame 508/648) c:\\kaggle\\input\\construction-site-safety-image-dataset-roboflow\\source_files\\source_files\\indianworkers.mp4: 384x640 2 Hardhats, 1 NO-Safety Vest, 3 Persons, 2 Safety Vests, 16.0ms\n",
      "video 1/1 (frame 509/648) c:\\kaggle\\input\\construction-site-safety-image-dataset-roboflow\\source_files\\source_files\\indianworkers.mp4: 384x640 2 Hardhats, 3 Persons, 3 Safety Vests, 13.5ms\n",
      "video 1/1 (frame 510/648) c:\\kaggle\\input\\construction-site-safety-image-dataset-roboflow\\source_files\\source_files\\indianworkers.mp4: 384x640 2 Hardhats, 3 Persons, 3 Safety Vests, 14.2ms\n",
      "video 1/1 (frame 511/648) c:\\kaggle\\input\\construction-site-safety-image-dataset-roboflow\\source_files\\source_files\\indianworkers.mp4: 384x640 2 Hardhats, 3 Persons, 3 Safety Vests, 15.7ms\n",
      "video 1/1 (frame 512/648) c:\\kaggle\\input\\construction-site-safety-image-dataset-roboflow\\source_files\\source_files\\indianworkers.mp4: 384x640 2 Hardhats, 3 Persons, 3 Safety Vests, 13.4ms\n",
      "video 1/1 (frame 513/648) c:\\kaggle\\input\\construction-site-safety-image-dataset-roboflow\\source_files\\source_files\\indianworkers.mp4: 384x640 2 Hardhats, 1 NO-Safety Vest, 3 Persons, 2 Safety Vests, 15.6ms\n",
      "video 1/1 (frame 514/648) c:\\kaggle\\input\\construction-site-safety-image-dataset-roboflow\\source_files\\source_files\\indianworkers.mp4: 384x640 2 Hardhats, 3 Persons, 3 Safety Vests, 15.0ms\n",
      "video 1/1 (frame 515/648) c:\\kaggle\\input\\construction-site-safety-image-dataset-roboflow\\source_files\\source_files\\indianworkers.mp4: 384x640 2 Hardhats, 3 Persons, 2 Safety Vests, 13.7ms\n",
      "video 1/1 (frame 516/648) c:\\kaggle\\input\\construction-site-safety-image-dataset-roboflow\\source_files\\source_files\\indianworkers.mp4: 384x640 2 Hardhats, 3 Persons, 3 Safety Vests, 15.2ms\n",
      "video 1/1 (frame 517/648) c:\\kaggle\\input\\construction-site-safety-image-dataset-roboflow\\source_files\\source_files\\indianworkers.mp4: 384x640 2 Hardhats, 3 Persons, 3 Safety Vests, 13.8ms\n",
      "video 1/1 (frame 518/648) c:\\kaggle\\input\\construction-site-safety-image-dataset-roboflow\\source_files\\source_files\\indianworkers.mp4: 384x640 3 Hardhats, 3 Persons, 3 Safety Vests, 13.1ms\n",
      "video 1/1 (frame 519/648) c:\\kaggle\\input\\construction-site-safety-image-dataset-roboflow\\source_files\\source_files\\indianworkers.mp4: 384x640 3 Hardhats, 2 NO-Safety Vests, 3 Persons, 1 Safety Vest, 14.8ms\n",
      "video 1/1 (frame 520/648) c:\\kaggle\\input\\construction-site-safety-image-dataset-roboflow\\source_files\\source_files\\indianworkers.mp4: 384x640 3 Hardhats, 2 NO-Safety Vests, 3 Persons, 1 Safety Vest, 19.6ms\n",
      "video 1/1 (frame 521/648) c:\\kaggle\\input\\construction-site-safety-image-dataset-roboflow\\source_files\\source_files\\indianworkers.mp4: 384x640 3 Hardhats, 2 NO-Safety Vests, 3 Persons, 1 Safety Vest, 14.7ms\n",
      "video 1/1 (frame 522/648) c:\\kaggle\\input\\construction-site-safety-image-dataset-roboflow\\source_files\\source_files\\indianworkers.mp4: 384x640 3 Hardhats, 3 Persons, 3 Safety Vests, 14.8ms\n",
      "video 1/1 (frame 523/648) c:\\kaggle\\input\\construction-site-safety-image-dataset-roboflow\\source_files\\source_files\\indianworkers.mp4: 384x640 3 Hardhats, 3 Persons, 3 Safety Vests, 14.5ms\n",
      "video 1/1 (frame 524/648) c:\\kaggle\\input\\construction-site-safety-image-dataset-roboflow\\source_files\\source_files\\indianworkers.mp4: 384x640 3 Hardhats, 3 Persons, 3 Safety Vests, 11.4ms\n",
      "video 1/1 (frame 525/648) c:\\kaggle\\input\\construction-site-safety-image-dataset-roboflow\\source_files\\source_files\\indianworkers.mp4: 384x640 3 Hardhats, 3 Persons, 3 Safety Vests, 12.9ms\n",
      "video 1/1 (frame 526/648) c:\\kaggle\\input\\construction-site-safety-image-dataset-roboflow\\source_files\\source_files\\indianworkers.mp4: 384x640 3 Hardhats, 3 Persons, 3 Safety Vests, 18.3ms\n",
      "video 1/1 (frame 527/648) c:\\kaggle\\input\\construction-site-safety-image-dataset-roboflow\\source_files\\source_files\\indianworkers.mp4: 384x640 3 Hardhats, 3 Persons, 3 Safety Vests, 14.0ms\n",
      "video 1/1 (frame 528/648) c:\\kaggle\\input\\construction-site-safety-image-dataset-roboflow\\source_files\\source_files\\indianworkers.mp4: 384x640 3 Hardhats, 3 Persons, 3 Safety Vests, 12.9ms\n",
      "video 1/1 (frame 529/648) c:\\kaggle\\input\\construction-site-safety-image-dataset-roboflow\\source_files\\source_files\\indianworkers.mp4: 384x640 3 Hardhats, 3 Persons, 3 Safety Vests, 14.3ms\n",
      "video 1/1 (frame 530/648) c:\\kaggle\\input\\construction-site-safety-image-dataset-roboflow\\source_files\\source_files\\indianworkers.mp4: 384x640 3 Hardhats, 1 NO-Safety Vest, 4 Persons, 2 Safety Vests, 12.6ms\n",
      "video 1/1 (frame 531/648) c:\\kaggle\\input\\construction-site-safety-image-dataset-roboflow\\source_files\\source_files\\indianworkers.mp4: 384x640 3 Hardhats, 1 NO-Safety Vest, 3 Persons, 2 Safety Vests, 14.3ms\n",
      "video 1/1 (frame 532/648) c:\\kaggle\\input\\construction-site-safety-image-dataset-roboflow\\source_files\\source_files\\indianworkers.mp4: 384x640 3 Hardhats, 1 NO-Safety Vest, 4 Persons, 2 Safety Vests, 19.0ms\n",
      "video 1/1 (frame 533/648) c:\\kaggle\\input\\construction-site-safety-image-dataset-roboflow\\source_files\\source_files\\indianworkers.mp4: 384x640 3 Hardhats, 4 Persons, 3 Safety Vests, 13.5ms\n",
      "video 1/1 (frame 534/648) c:\\kaggle\\input\\construction-site-safety-image-dataset-roboflow\\source_files\\source_files\\indianworkers.mp4: 384x640 3 Hardhats, 4 Persons, 3 Safety Vests, 14.7ms\n",
      "video 1/1 (frame 535/648) c:\\kaggle\\input\\construction-site-safety-image-dataset-roboflow\\source_files\\source_files\\indianworkers.mp4: 384x640 3 Hardhats, 4 Persons, 3 Safety Vests, 15.2ms\n",
      "video 1/1 (frame 536/648) c:\\kaggle\\input\\construction-site-safety-image-dataset-roboflow\\source_files\\source_files\\indianworkers.mp4: 384x640 3 Hardhats, 1 NO-Safety Vest, 4 Persons, 2 Safety Vests, 11.9ms\n",
      "video 1/1 (frame 537/648) c:\\kaggle\\input\\construction-site-safety-image-dataset-roboflow\\source_files\\source_files\\indianworkers.mp4: 384x640 3 Hardhats, 1 NO-Safety Vest, 5 Persons, 2 Safety Vests, 15.5ms\n",
      "video 1/1 (frame 538/648) c:\\kaggle\\input\\construction-site-safety-image-dataset-roboflow\\source_files\\source_files\\indianworkers.mp4: 384x640 3 Hardhats, 1 NO-Safety Vest, 5 Persons, 2 Safety Vests, 15.1ms\n",
      "video 1/1 (frame 539/648) c:\\kaggle\\input\\construction-site-safety-image-dataset-roboflow\\source_files\\source_files\\indianworkers.mp4: 384x640 3 Hardhats, 1 NO-Safety Vest, 6 Persons, 2 Safety Vests, 12.0ms\n",
      "video 1/1 (frame 540/648) c:\\kaggle\\input\\construction-site-safety-image-dataset-roboflow\\source_files\\source_files\\indianworkers.mp4: 384x640 3 Hardhats, 5 Persons, 3 Safety Vests, 15.1ms\n",
      "video 1/1 (frame 541/648) c:\\kaggle\\input\\construction-site-safety-image-dataset-roboflow\\source_files\\source_files\\indianworkers.mp4: 384x640 3 Hardhats, 6 Persons, 3 Safety Vests, 13.2ms\n",
      "video 1/1 (frame 542/648) c:\\kaggle\\input\\construction-site-safety-image-dataset-roboflow\\source_files\\source_files\\indianworkers.mp4: 384x640 3 Hardhats, 5 Persons, 3 Safety Vests, 14.7ms\n",
      "video 1/1 (frame 543/648) c:\\kaggle\\input\\construction-site-safety-image-dataset-roboflow\\source_files\\source_files\\indianworkers.mp4: 384x640 2 Hardhats, 1 NO-Hardhat, 1 NO-Safety Vest, 5 Persons, 2 Safety Vests, 14.5ms\n",
      "video 1/1 (frame 544/648) c:\\kaggle\\input\\construction-site-safety-image-dataset-roboflow\\source_files\\source_files\\indianworkers.mp4: 384x640 2 Hardhats, 1 NO-Hardhat, 1 NO-Safety Vest, 5 Persons, 2 Safety Vests, 15.4ms\n",
      "video 1/1 (frame 545/648) c:\\kaggle\\input\\construction-site-safety-image-dataset-roboflow\\source_files\\source_files\\indianworkers.mp4: 384x640 2 Hardhats, 1 NO-Hardhat, 5 Persons, 3 Safety Vests, 15.3ms\n",
      "video 1/1 (frame 546/648) c:\\kaggle\\input\\construction-site-safety-image-dataset-roboflow\\source_files\\source_files\\indianworkers.mp4: 384x640 3 Hardhats, 1 NO-Safety Vest, 5 Persons, 2 Safety Vests, 11.9ms\n",
      "video 1/1 (frame 547/648) c:\\kaggle\\input\\construction-site-safety-image-dataset-roboflow\\source_files\\source_files\\indianworkers.mp4: 384x640 3 Hardhats, 5 Persons, 3 Safety Vests, 14.6ms\n",
      "video 1/1 (frame 548/648) c:\\kaggle\\input\\construction-site-safety-image-dataset-roboflow\\source_files\\source_files\\indianworkers.mp4: 384x640 3 Hardhats, 1 NO-Safety Vest, 5 Persons, 2 Safety Vests, 17.4ms\n",
      "video 1/1 (frame 549/648) c:\\kaggle\\input\\construction-site-safety-image-dataset-roboflow\\source_files\\source_files\\indianworkers.mp4: 384x640 1 Hardhat, 2 NO-Hardhats, 1 NO-Safety Vest, 4 Persons, 2 Safety Vests, 16.0ms\n",
      "video 1/1 (frame 550/648) c:\\kaggle\\input\\construction-site-safety-image-dataset-roboflow\\source_files\\source_files\\indianworkers.mp4: 384x640 1 Hardhat, 2 NO-Hardhats, 4 Persons, 3 Safety Vests, 17.4ms\n",
      "video 1/1 (frame 551/648) c:\\kaggle\\input\\construction-site-safety-image-dataset-roboflow\\source_files\\source_files\\indianworkers.mp4: 384x640 3 Hardhats, 4 Persons, 3 Safety Vests, 14.8ms\n",
      "video 1/1 (frame 552/648) c:\\kaggle\\input\\construction-site-safety-image-dataset-roboflow\\source_files\\source_files\\indianworkers.mp4: 384x640 2 Hardhats, 1 NO-Hardhat, 4 Persons, 3 Safety Vests, 17.6ms\n",
      "video 1/1 (frame 553/648) c:\\kaggle\\input\\construction-site-safety-image-dataset-roboflow\\source_files\\source_files\\indianworkers.mp4: 384x640 2 Hardhats, 1 NO-Hardhat, 4 Persons, 3 Safety Vests, 16.5ms\n",
      "video 1/1 (frame 554/648) c:\\kaggle\\input\\construction-site-safety-image-dataset-roboflow\\source_files\\source_files\\indianworkers.mp4: 384x640 3 Hardhats, 1 NO-Safety Vest, 4 Persons, 2 Safety Vests, 15.7ms\n",
      "video 1/1 (frame 555/648) c:\\kaggle\\input\\construction-site-safety-image-dataset-roboflow\\source_files\\source_files\\indianworkers.mp4: 384x640 2 Hardhats, 1 NO-Hardhat, 1 NO-Safety Vest, 4 Persons, 2 Safety Vests, 14.5ms\n",
      "video 1/1 (frame 556/648) c:\\kaggle\\input\\construction-site-safety-image-dataset-roboflow\\source_files\\source_files\\indianworkers.mp4: 384x640 2 Hardhats, 1 NO-Hardhat, 4 Persons, 3 Safety Vests, 10.1ms\n",
      "video 1/1 (frame 557/648) c:\\kaggle\\input\\construction-site-safety-image-dataset-roboflow\\source_files\\source_files\\indianworkers.mp4: 384x640 1 Hardhat, 2 NO-Hardhats, 4 Persons, 3 Safety Vests, 16.3ms\n",
      "video 1/1 (frame 558/648) c:\\kaggle\\input\\construction-site-safety-image-dataset-roboflow\\source_files\\source_files\\indianworkers.mp4: 384x640 2 Hardhats, 1 NO-Hardhat, 3 Persons, 3 Safety Vests, 15.8ms\n",
      "video 1/1 (frame 559/648) c:\\kaggle\\input\\construction-site-safety-image-dataset-roboflow\\source_files\\source_files\\indianworkers.mp4: 384x640 2 Hardhats, 1 NO-Hardhat, 1 NO-Safety Vest, 3 Persons, 2 Safety Vests, 14.4ms\n",
      "video 1/1 (frame 560/648) c:\\kaggle\\input\\construction-site-safety-image-dataset-roboflow\\source_files\\source_files\\indianworkers.mp4: 384x640 2 Hardhats, 1 NO-Hardhat, 1 NO-Safety Vest, 3 Persons, 2 Safety Vests, 17.3ms\n",
      "video 1/1 (frame 561/648) c:\\kaggle\\input\\construction-site-safety-image-dataset-roboflow\\source_files\\source_files\\indianworkers.mp4: 384x640 3 Hardhats, 2 NO-Safety Vests, 3 Persons, 1 Safety Vest, 16.1ms\n",
      "video 1/1 (frame 562/648) c:\\kaggle\\input\\construction-site-safety-image-dataset-roboflow\\source_files\\source_files\\indianworkers.mp4: 384x640 3 Hardhats, 2 NO-Safety Vests, 3 Persons, 1 Safety Vest, 16.1ms\n",
      "video 1/1 (frame 563/648) c:\\kaggle\\input\\construction-site-safety-image-dataset-roboflow\\source_files\\source_files\\indianworkers.mp4: 384x640 4 Hardhats, 1 NO-Safety Vest, 3 Persons, 2 Safety Vests, 15.7ms\n",
      "video 1/1 (frame 564/648) c:\\kaggle\\input\\construction-site-safety-image-dataset-roboflow\\source_files\\source_files\\indianworkers.mp4: 384x640 2 Hardhats, 1 NO-Safety Vest, 3 Persons, 2 Safety Vests, 20.2ms\n",
      "video 1/1 (frame 565/648) c:\\kaggle\\input\\construction-site-safety-image-dataset-roboflow\\source_files\\source_files\\indianworkers.mp4: 384x640 1 Hardhat, 2 NO-Safety Vests, 3 Persons, 1 Safety Vest, 17.3ms\n",
      "video 1/1 (frame 566/648) c:\\kaggle\\input\\construction-site-safety-image-dataset-roboflow\\source_files\\source_files\\indianworkers.mp4: 384x640 1 Hardhat, 3 Persons, 3 Safety Vests, 16.7ms\n",
      "video 1/1 (frame 567/648) c:\\kaggle\\input\\construction-site-safety-image-dataset-roboflow\\source_files\\source_files\\indianworkers.mp4: 384x640 1 Hardhat, 3 Persons, 3 Safety Vests, 14.4ms\n",
      "video 1/1 (frame 568/648) c:\\kaggle\\input\\construction-site-safety-image-dataset-roboflow\\source_files\\source_files\\indianworkers.mp4: 384x640 1 Hardhat, 3 Persons, 2 Safety Vests, 15.8ms\n",
      "video 1/1 (frame 569/648) c:\\kaggle\\input\\construction-site-safety-image-dataset-roboflow\\source_files\\source_files\\indianworkers.mp4: 384x640 1 Hardhat, 3 Persons, 3 Safety Vests, 15.4ms\n",
      "video 1/1 (frame 570/648) c:\\kaggle\\input\\construction-site-safety-image-dataset-roboflow\\source_files\\source_files\\indianworkers.mp4: 384x640 1 NO-Hardhat, 1 NO-Safety Vest, 3 Persons, 2 Safety Vests, 16.3ms\n",
      "video 1/1 (frame 571/648) c:\\kaggle\\input\\construction-site-safety-image-dataset-roboflow\\source_files\\source_files\\indianworkers.mp4: 384x640 1 Hardhat, 1 NO-Safety Vest, 4 Persons, 4 Safety Vests, 13.8ms\n",
      "video 1/1 (frame 572/648) c:\\kaggle\\input\\construction-site-safety-image-dataset-roboflow\\source_files\\source_files\\indianworkers.mp4: 384x640 1 Hardhat, 2 NO-Safety Vests, 4 Persons, 2 Safety Vests, 12.2ms\n",
      "video 1/1 (frame 573/648) c:\\kaggle\\input\\construction-site-safety-image-dataset-roboflow\\source_files\\source_files\\indianworkers.mp4: 384x640 1 NO-Mask, 2 NO-Safety Vests, 4 Persons, 2 Safety Vests, 13.8ms\n",
      "video 1/1 (frame 574/648) c:\\kaggle\\input\\construction-site-safety-image-dataset-roboflow\\source_files\\source_files\\indianworkers.mp4: 384x640 1 NO-Hardhat, 1 NO-Safety Vest, 4 Persons, 3 Safety Vests, 12.2ms\n",
      "video 1/1 (frame 575/648) c:\\kaggle\\input\\construction-site-safety-image-dataset-roboflow\\source_files\\source_files\\indianworkers.mp4: 384x640 1 NO-Hardhat, 1 NO-Safety Vest, 5 Persons, 2 Safety Vests, 15.2ms\n",
      "video 1/1 (frame 576/648) c:\\kaggle\\input\\construction-site-safety-image-dataset-roboflow\\source_files\\source_files\\indianworkers.mp4: 384x640 1 NO-Hardhat, 1 NO-Safety Vest, 4 Persons, 2 Safety Vests, 15.5ms\n",
      "video 1/1 (frame 577/648) c:\\kaggle\\input\\construction-site-safety-image-dataset-roboflow\\source_files\\source_files\\indianworkers.mp4: 384x640 1 NO-Hardhat, 5 Persons, 3 Safety Vests, 11.2ms\n",
      "video 1/1 (frame 578/648) c:\\kaggle\\input\\construction-site-safety-image-dataset-roboflow\\source_files\\source_files\\indianworkers.mp4: 384x640 2 Hardhats, 5 Persons, 3 Safety Vests, 13.9ms\n",
      "video 1/1 (frame 579/648) c:\\kaggle\\input\\construction-site-safety-image-dataset-roboflow\\source_files\\source_files\\indianworkers.mp4: 384x640 2 Hardhats, 2 NO-Safety Vests, 4 Persons, 1 Safety Vest, 15.6ms\n",
      "video 1/1 (frame 580/648) c:\\kaggle\\input\\construction-site-safety-image-dataset-roboflow\\source_files\\source_files\\indianworkers.mp4: 384x640 1 Hardhat, 1 NO-Hardhat, 1 NO-Safety Vest, 4 Persons, 2 Safety Vests, 10.4ms\n",
      "video 1/1 (frame 581/648) c:\\kaggle\\input\\construction-site-safety-image-dataset-roboflow\\source_files\\source_files\\indianworkers.mp4: 384x640 1 Hardhat, 1 NO-Hardhat, 1 NO-Safety Vest, 4 Persons, 2 Safety Vests, 12.3ms\n",
      "video 1/1 (frame 582/648) c:\\kaggle\\input\\construction-site-safety-image-dataset-roboflow\\source_files\\source_files\\indianworkers.mp4: 384x640 1 Hardhat, 1 NO-Mask, 1 NO-Safety Vest, 5 Persons, 2 Safety Vests, 12.1ms\n",
      "video 1/1 (frame 583/648) c:\\kaggle\\input\\construction-site-safety-image-dataset-roboflow\\source_files\\source_files\\indianworkers.mp4: 384x640 2 Hardhats, 5 Persons, 2 Safety Vests, 21.5ms\n",
      "video 1/1 (frame 584/648) c:\\kaggle\\input\\construction-site-safety-image-dataset-roboflow\\source_files\\source_files\\indianworkers.mp4: 384x640 2 Hardhats, 4 Persons, 2 Safety Vests, 15.6ms\n",
      "video 1/1 (frame 585/648) c:\\kaggle\\input\\construction-site-safety-image-dataset-roboflow\\source_files\\source_files\\indianworkers.mp4: 384x640 2 Hardhats, 1 NO-Safety Vest, 5 Persons, 2 Safety Vests, 9.3ms\n",
      "video 1/1 (frame 586/648) c:\\kaggle\\input\\construction-site-safety-image-dataset-roboflow\\source_files\\source_files\\indianworkers.mp4: 384x640 2 Hardhats, 5 Persons, 2 Safety Vests, 11.2ms\n",
      "video 1/1 (frame 587/648) c:\\kaggle\\input\\construction-site-safety-image-dataset-roboflow\\source_files\\source_files\\indianworkers.mp4: 384x640 2 Hardhats, 5 Persons, 2 Safety Vests, 15.4ms\n",
      "video 1/1 (frame 588/648) c:\\kaggle\\input\\construction-site-safety-image-dataset-roboflow\\source_files\\source_files\\indianworkers.mp4: 384x640 2 Hardhats, 1 NO-Safety Vest, 4 Persons, 2 Safety Vests, 14.8ms\n",
      "video 1/1 (frame 589/648) c:\\kaggle\\input\\construction-site-safety-image-dataset-roboflow\\source_files\\source_files\\indianworkers.mp4: 384x640 2 Hardhats, 1 NO-Safety Vest, 6 Persons, 2 Safety Vests, 15.6ms\n",
      "video 1/1 (frame 590/648) c:\\kaggle\\input\\construction-site-safety-image-dataset-roboflow\\source_files\\source_files\\indianworkers.mp4: 384x640 2 Hardhats, 1 NO-Safety Vest, 6 Persons, 2 Safety Vests, 16.2ms\n",
      "video 1/1 (frame 591/648) c:\\kaggle\\input\\construction-site-safety-image-dataset-roboflow\\source_files\\source_files\\indianworkers.mp4: 384x640 2 Hardhats, 2 NO-Safety Vests, 6 Persons, 1 Safety Vest, 19.4ms\n",
      "video 1/1 (frame 592/648) c:\\kaggle\\input\\construction-site-safety-image-dataset-roboflow\\source_files\\source_files\\indianworkers.mp4: 384x640 2 Hardhats, 2 NO-Safety Vests, 6 Persons, 1 Safety Vest, 10.2ms\n",
      "video 1/1 (frame 593/648) c:\\kaggle\\input\\construction-site-safety-image-dataset-roboflow\\source_files\\source_files\\indianworkers.mp4: 384x640 2 Hardhats, 1 NO-Safety Vest, 6 Persons, 1 Safety Vest, 17.1ms\n",
      "video 1/1 (frame 594/648) c:\\kaggle\\input\\construction-site-safety-image-dataset-roboflow\\source_files\\source_files\\indianworkers.mp4: 384x640 2 Hardhats, 1 NO-Safety Vest, 5 Persons, 1 Safety Cone, 2 Safety Vests, 15.2ms\n",
      "video 1/1 (frame 595/648) c:\\kaggle\\input\\construction-site-safety-image-dataset-roboflow\\source_files\\source_files\\indianworkers.mp4: 384x640 2 Hardhats, 3 NO-Safety Vests, 4 Persons, 1 Safety Vest, 17.0ms\n",
      "video 1/1 (frame 596/648) c:\\kaggle\\input\\construction-site-safety-image-dataset-roboflow\\source_files\\source_files\\indianworkers.mp4: 384x640 2 Hardhats, 2 NO-Safety Vests, 5 Persons, 1 Safety Vest, 14.7ms\n",
      "video 1/1 (frame 597/648) c:\\kaggle\\input\\construction-site-safety-image-dataset-roboflow\\source_files\\source_files\\indianworkers.mp4: 384x640 2 Hardhats, 2 NO-Safety Vests, 5 Persons, 1 Safety Vest, 18.0ms\n",
      "video 1/1 (frame 598/648) c:\\kaggle\\input\\construction-site-safety-image-dataset-roboflow\\source_files\\source_files\\indianworkers.mp4: 384x640 3 Hardhats, 2 NO-Safety Vests, 5 Persons, 1 Safety Vest, 12.4ms\n",
      "video 1/1 (frame 599/648) c:\\kaggle\\input\\construction-site-safety-image-dataset-roboflow\\source_files\\source_files\\indianworkers.mp4: 384x640 3 Hardhats, 2 NO-Safety Vests, 5 Persons, 1 Safety Vest, 14.9ms\n",
      "video 1/1 (frame 600/648) c:\\kaggle\\input\\construction-site-safety-image-dataset-roboflow\\source_files\\source_files\\indianworkers.mp4: 384x640 3 Hardhats, 1 NO-Safety Vest, 5 Persons, 2 Safety Vests, 15.6ms\n",
      "video 1/1 (frame 601/648) c:\\kaggle\\input\\construction-site-safety-image-dataset-roboflow\\source_files\\source_files\\indianworkers.mp4: 384x640 3 Hardhats, 2 NO-Safety Vests, 5 Persons, 2 Safety Vests, 17.4ms\n",
      "video 1/1 (frame 602/648) c:\\kaggle\\input\\construction-site-safety-image-dataset-roboflow\\source_files\\source_files\\indianworkers.mp4: 384x640 3 Hardhats, 3 NO-Safety Vests, 5 Persons, 1 Safety Vest, 14.8ms\n",
      "video 1/1 (frame 603/648) c:\\kaggle\\input\\construction-site-safety-image-dataset-roboflow\\source_files\\source_files\\indianworkers.mp4: 384x640 3 Hardhats, 2 NO-Safety Vests, 5 Persons, 1 Safety Vest, 15.4ms\n",
      "video 1/1 (frame 604/648) c:\\kaggle\\input\\construction-site-safety-image-dataset-roboflow\\source_files\\source_files\\indianworkers.mp4: 384x640 3 Hardhats, 1 NO-Safety Vest, 5 Persons, 3 Safety Vests, 18.4ms\n",
      "video 1/1 (frame 605/648) c:\\kaggle\\input\\construction-site-safety-image-dataset-roboflow\\source_files\\source_files\\indianworkers.mp4: 384x640 2 Hardhats, 1 NO-Hardhat, 1 NO-Safety Vest, 5 Persons, 3 Safety Vests, 18.3ms\n",
      "video 1/1 (frame 606/648) c:\\kaggle\\input\\construction-site-safety-image-dataset-roboflow\\source_files\\source_files\\indianworkers.mp4: 384x640 2 Hardhats, 1 NO-Hardhat, 5 Persons, 4 Safety Vests, 16.6ms\n",
      "video 1/1 (frame 607/648) c:\\kaggle\\input\\construction-site-safety-image-dataset-roboflow\\source_files\\source_files\\indianworkers.mp4: 384x640 2 Hardhats, 1 NO-Hardhat, 1 NO-Safety Vest, 4 Persons, 3 Safety Vests, 15.8ms\n",
      "video 1/1 (frame 608/648) c:\\kaggle\\input\\construction-site-safety-image-dataset-roboflow\\source_files\\source_files\\indianworkers.mp4: 384x640 1 Hardhat, 1 NO-Hardhat, 4 Persons, 3 Safety Vests, 16.1ms\n",
      "video 1/1 (frame 609/648) c:\\kaggle\\input\\construction-site-safety-image-dataset-roboflow\\source_files\\source_files\\indianworkers.mp4: 384x640 1 Hardhat, 1 NO-Hardhat, 1 NO-Safety Vest, 4 Persons, 2 Safety Vests, 12.4ms\n",
      "video 1/1 (frame 610/648) c:\\kaggle\\input\\construction-site-safety-image-dataset-roboflow\\source_files\\source_files\\indianworkers.mp4: 384x640 1 Hardhat, 1 NO-Hardhat, 4 Persons, 3 Safety Vests, 15.9ms\n",
      "video 1/1 (frame 611/648) c:\\kaggle\\input\\construction-site-safety-image-dataset-roboflow\\source_files\\source_files\\indianworkers.mp4: 384x640 3 Hardhats, 4 Persons, 3 Safety Vests, 16.1ms\n",
      "video 1/1 (frame 612/648) c:\\kaggle\\input\\construction-site-safety-image-dataset-roboflow\\source_files\\source_files\\indianworkers.mp4: 384x640 3 Hardhats, 4 Persons, 2 Safety Vests, 16.2ms\n",
      "video 1/1 (frame 613/648) c:\\kaggle\\input\\construction-site-safety-image-dataset-roboflow\\source_files\\source_files\\indianworkers.mp4: 384x640 2 Hardhats, 1 NO-Hardhat, 5 Persons, 1 Safety Vest, 18.8ms\n",
      "video 1/1 (frame 614/648) c:\\kaggle\\input\\construction-site-safety-image-dataset-roboflow\\source_files\\source_files\\indianworkers.mp4: 384x640 3 Hardhats, 5 Persons, 1 Safety Vest, 13.0ms\n",
      "video 1/1 (frame 615/648) c:\\kaggle\\input\\construction-site-safety-image-dataset-roboflow\\source_files\\source_files\\indianworkers.mp4: 384x640 2 Hardhats, 5 Persons, 2 Safety Vests, 18.0ms\n",
      "video 1/1 (frame 616/648) c:\\kaggle\\input\\construction-site-safety-image-dataset-roboflow\\source_files\\source_files\\indianworkers.mp4: 384x640 2 Hardhats, 4 Persons, 1 Safety Vest, 19.2ms\n",
      "video 1/1 (frame 617/648) c:\\kaggle\\input\\construction-site-safety-image-dataset-roboflow\\source_files\\source_files\\indianworkers.mp4: 384x640 2 Hardhats, 3 Persons, 2 Safety Vests, 15.6ms\n",
      "video 1/1 (frame 618/648) c:\\kaggle\\input\\construction-site-safety-image-dataset-roboflow\\source_files\\source_files\\indianworkers.mp4: 384x640 2 Hardhats, 3 Persons, 2 Safety Vests, 16.7ms\n",
      "video 1/1 (frame 619/648) c:\\kaggle\\input\\construction-site-safety-image-dataset-roboflow\\source_files\\source_files\\indianworkers.mp4: 384x640 2 Hardhats, 4 Persons, 1 Safety Vest, 16.3ms\n",
      "video 1/1 (frame 620/648) c:\\kaggle\\input\\construction-site-safety-image-dataset-roboflow\\source_files\\source_files\\indianworkers.mp4: 384x640 2 Hardhats, 4 Persons, 1 Safety Vest, 14.4ms\n",
      "video 1/1 (frame 621/648) c:\\kaggle\\input\\construction-site-safety-image-dataset-roboflow\\source_files\\source_files\\indianworkers.mp4: 384x640 2 Hardhats, 4 Persons, 1 Safety Vest, 14.7ms\n",
      "video 1/1 (frame 622/648) c:\\kaggle\\input\\construction-site-safety-image-dataset-roboflow\\source_files\\source_files\\indianworkers.mp4: 384x640 2 Hardhats, 3 Persons, 1 Safety Vest, 15.3ms\n",
      "video 1/1 (frame 623/648) c:\\kaggle\\input\\construction-site-safety-image-dataset-roboflow\\source_files\\source_files\\indianworkers.mp4: 384x640 2 Hardhats, 3 Persons, 1 Safety Vest, 13.5ms\n",
      "video 1/1 (frame 624/648) c:\\kaggle\\input\\construction-site-safety-image-dataset-roboflow\\source_files\\source_files\\indianworkers.mp4: 384x640 2 Hardhats, 3 Persons, 1 Safety Vest, 14.0ms\n",
      "video 1/1 (frame 625/648) c:\\kaggle\\input\\construction-site-safety-image-dataset-roboflow\\source_files\\source_files\\indianworkers.mp4: 384x640 3 Hardhats, 3 Persons, 1 Safety Vest, 15.7ms\n",
      "video 1/1 (frame 626/648) c:\\kaggle\\input\\construction-site-safety-image-dataset-roboflow\\source_files\\source_files\\indianworkers.mp4: 384x640 2 Hardhats, 3 Persons, 1 Safety Vest, 15.8ms\n",
      "video 1/1 (frame 627/648) c:\\kaggle\\input\\construction-site-safety-image-dataset-roboflow\\source_files\\source_files\\indianworkers.mp4: 384x640 2 Hardhats, 3 Persons, 1 Safety Vest, 15.9ms\n",
      "video 1/1 (frame 628/648) c:\\kaggle\\input\\construction-site-safety-image-dataset-roboflow\\source_files\\source_files\\indianworkers.mp4: 384x640 1 Hardhat, 1 NO-Mask, 3 Persons, 1 Safety Vest, 15.4ms\n",
      "video 1/1 (frame 629/648) c:\\kaggle\\input\\construction-site-safety-image-dataset-roboflow\\source_files\\source_files\\indianworkers.mp4: 384x640 1 Hardhat, 1 NO-Mask, 2 Persons, 1 Safety Vest, 15.1ms\n",
      "video 1/1 (frame 630/648) c:\\kaggle\\input\\construction-site-safety-image-dataset-roboflow\\source_files\\source_files\\indianworkers.mp4: 384x640 1 Hardhat, 2 Persons, 1 Safety Vest, 22.0ms\n",
      "video 1/1 (frame 631/648) c:\\kaggle\\input\\construction-site-safety-image-dataset-roboflow\\source_files\\source_files\\indianworkers.mp4: 384x640 1 Hardhat, 2 Persons, 1 Safety Vest, 16.3ms\n",
      "video 1/1 (frame 632/648) c:\\kaggle\\input\\construction-site-safety-image-dataset-roboflow\\source_files\\source_files\\indianworkers.mp4: 384x640 1 Hardhat, 2 Persons, 1 Safety Vest, 15.9ms\n",
      "video 1/1 (frame 633/648) c:\\kaggle\\input\\construction-site-safety-image-dataset-roboflow\\source_files\\source_files\\indianworkers.mp4: 384x640 1 Hardhat, 2 Persons, 1 Safety Vest, 16.4ms\n",
      "video 1/1 (frame 634/648) c:\\kaggle\\input\\construction-site-safety-image-dataset-roboflow\\source_files\\source_files\\indianworkers.mp4: 384x640 1 Hardhat, 2 Persons, 1 Safety Vest, 15.8ms\n",
      "video 1/1 (frame 635/648) c:\\kaggle\\input\\construction-site-safety-image-dataset-roboflow\\source_files\\source_files\\indianworkers.mp4: 384x640 1 NO-Mask, 2 Persons, 1 Safety Vest, 13.5ms\n",
      "video 1/1 (frame 636/648) c:\\kaggle\\input\\construction-site-safety-image-dataset-roboflow\\source_files\\source_files\\indianworkers.mp4: 384x640 1 Hardhat, 2 Persons, 1 Safety Vest, 15.8ms\n",
      "video 1/1 (frame 637/648) c:\\kaggle\\input\\construction-site-safety-image-dataset-roboflow\\source_files\\source_files\\indianworkers.mp4: 384x640 1 NO-Mask, 2 Persons, 1 Safety Vest, 24.0ms\n",
      "video 1/1 (frame 638/648) c:\\kaggle\\input\\construction-site-safety-image-dataset-roboflow\\source_files\\source_files\\indianworkers.mp4: 384x640 1 Hardhat, 2 Persons, 1 Safety Vest, 12.9ms\n",
      "video 1/1 (frame 639/648) c:\\kaggle\\input\\construction-site-safety-image-dataset-roboflow\\source_files\\source_files\\indianworkers.mp4: 384x640 1 Hardhat, 2 Persons, 1 Safety Vest, 12.8ms\n",
      "video 1/1 (frame 640/648) c:\\kaggle\\input\\construction-site-safety-image-dataset-roboflow\\source_files\\source_files\\indianworkers.mp4: 384x640 1 Hardhat, 2 Persons, 1 Safety Vest, 13.9ms\n",
      "video 1/1 (frame 641/648) c:\\kaggle\\input\\construction-site-safety-image-dataset-roboflow\\source_files\\source_files\\indianworkers.mp4: 384x640 1 NO-Mask, 2 Persons, 1 Safety Vest, 13.9ms\n",
      "video 1/1 (frame 642/648) c:\\kaggle\\input\\construction-site-safety-image-dataset-roboflow\\source_files\\source_files\\indianworkers.mp4: 384x640 1 NO-Mask, 2 Persons, 1 Safety Vest, 14.0ms\n",
      "video 1/1 (frame 643/648) c:\\kaggle\\input\\construction-site-safety-image-dataset-roboflow\\source_files\\source_files\\indianworkers.mp4: 384x640 1 Hardhat, 1 NO-Mask, 2 Persons, 1 Safety Vest, 16.9ms\n",
      "video 1/1 (frame 644/648) c:\\kaggle\\input\\construction-site-safety-image-dataset-roboflow\\source_files\\source_files\\indianworkers.mp4: 384x640 1 Hardhat, 1 NO-Mask, 2 Persons, 1 Safety Vest, 13.4ms\n",
      "video 1/1 (frame 645/648) c:\\kaggle\\input\\construction-site-safety-image-dataset-roboflow\\source_files\\source_files\\indianworkers.mp4: 384x640 1 Hardhat, 1 NO-Mask, 2 Persons, 1 Safety Vest, 9.4ms\n",
      "video 1/1 (frame 646/648) c:\\kaggle\\input\\construction-site-safety-image-dataset-roboflow\\source_files\\source_files\\indianworkers.mp4: 384x640 1 Hardhat, 1 NO-Mask, 2 Persons, 1 Safety Vest, 8.2ms\n",
      "video 1/1 (frame 647/648) c:\\kaggle\\input\\construction-site-safety-image-dataset-roboflow\\source_files\\source_files\\indianworkers.mp4: 384x640 1 Hardhat, 1 NO-Hardhat, 2 Persons, 1 Safety Vest, 13.7ms\n",
      "video 1/1 (frame 648/648) c:\\kaggle\\input\\construction-site-safety-image-dataset-roboflow\\source_files\\source_files\\indianworkers.mp4: 384x640 1 Hardhat, 1 NO-Mask, 2 Persons, 1 Safety Vest, 18.5ms\n",
      "Speed: 1.5ms preprocess, 14.6ms inference, 1.8ms postprocess per image at shape (1, 3, 384, 640)\n",
      "Results saved to \u001b[1m\\kaggle\\working\\runs\\tracking5\u001b[0m\n"
     ]
    }
   ],
   "source": [
    "tracking_results = trained_detection_model.track(source=\"/kaggle/input/construction-site-safety-image-dataset-roboflow/source_files/source_files/indianworkers.mp4\", show=True, save=True, name=save_dir, imgsz=640, tracker=\"bytetrack.yaml\")"
   ]
  },
  {
   "cell_type": "code",
   "execution_count": null,
   "metadata": {},
   "outputs": [],
   "source": []
  }
 ],
 "metadata": {
  "kernelspec": {
   "display_name": "Python 3",
   "language": "python",
   "name": "python3"
  },
  "language_info": {
   "codemirror_mode": {
    "name": "ipython",
    "version": 3
   },
   "file_extension": ".py",
   "mimetype": "text/x-python",
   "name": "python",
   "nbconvert_exporter": "python",
   "pygments_lexer": "ipython3",
   "version": "3.12.2"
  }
 },
 "nbformat": 4,
 "nbformat_minor": 2
}
